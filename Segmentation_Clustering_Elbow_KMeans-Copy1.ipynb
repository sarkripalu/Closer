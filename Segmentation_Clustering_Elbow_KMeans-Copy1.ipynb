{
 "cells": [
  {
   "cell_type": "markdown",
   "metadata": {},
   "source": [
    "# Preliminaries "
   ]
  },
  {
   "cell_type": "code",
   "execution_count": 1,
   "metadata": {},
   "outputs": [],
   "source": [
    "import pandas as pd\n",
    "import numpy as np\n",
    "import seaborn as sns\n",
    "from sklearn.cluster import KMeans\n",
    "from sklearn import linear_model\n",
    "import matplotlib.pyplot as plt\n",
    "%matplotlib inline"
   ]
  },
  {
   "cell_type": "markdown",
   "metadata": {},
   "source": [
    "# Load the data"
   ]
  },
  {
   "cell_type": "code",
   "execution_count": 2,
   "metadata": {},
   "outputs": [],
   "source": [
    "data = pd.read_excel('C:\\\\Users\\\\Closer\\\\Desktop\\\\Closer\\\\Imp_Doc\\\\A2Z_Insurance.xlsx', delimiter=',' )\n",
    "\n",
    "\n",
    "#Int_data = [\"First Policy´s Year\", \"Customer Age\", \"Gross Monthly Salary\", \"Geographic Living Area\"]\n",
    "#data[Int_data] = data[Int_data].applymap(np.int64)"
   ]
  },
  {
   "cell_type": "code",
   "execution_count": 94,
   "metadata": {},
   "outputs": [],
   "source": [
    "data['Educational Degree'] = data['Educational Degree'].fillna(method='ffill').map(lambda x: int(x[0]))\n",
    "\n"
   ]
  },
  {
   "cell_type": "code",
   "execution_count": 98,
   "metadata": {},
   "outputs": [
    {
     "data": {
      "text/html": [
       "<div>\n",
       "<style scoped>\n",
       "    .dataframe tbody tr th:only-of-type {\n",
       "        vertical-align: middle;\n",
       "    }\n",
       "\n",
       "    .dataframe tbody tr th {\n",
       "        vertical-align: top;\n",
       "    }\n",
       "\n",
       "    .dataframe thead th {\n",
       "        text-align: right;\n",
       "    }\n",
       "</style>\n",
       "<table border=\"1\" class=\"dataframe\">\n",
       "  <thead>\n",
       "    <tr style=\"text-align: right;\">\n",
       "      <th></th>\n",
       "      <th>Customer Identity</th>\n",
       "      <th>First Policy´s Year</th>\n",
       "      <th>Customer Age</th>\n",
       "      <th>Educational Degree</th>\n",
       "      <th>Gross Monthly Salary</th>\n",
       "      <th>Geographic Living Area</th>\n",
       "      <th>Has Children (Y=1)</th>\n",
       "      <th>Customer Monetary Value</th>\n",
       "      <th>Claims Rate</th>\n",
       "      <th>Premiums in LOB: Motor</th>\n",
       "      <th>Premiums in LOB: Household</th>\n",
       "      <th>Premiums in LOB: Health</th>\n",
       "      <th>Premiums in LOB:  Life</th>\n",
       "      <th>Premiums in LOB: Work Compensations</th>\n",
       "    </tr>\n",
       "  </thead>\n",
       "  <tbody>\n",
       "    <tr>\n",
       "      <th>0</th>\n",
       "      <td>1</td>\n",
       "      <td>1985.0</td>\n",
       "      <td>34.0</td>\n",
       "      <td>2</td>\n",
       "      <td>4354.0</td>\n",
       "      <td>1.0</td>\n",
       "      <td>1.0</td>\n",
       "      <td>380.97</td>\n",
       "      <td>0.390032</td>\n",
       "      <td>375.85</td>\n",
       "      <td>79.45</td>\n",
       "      <td>146.36</td>\n",
       "      <td>47.01</td>\n",
       "      <td>16.89</td>\n",
       "    </tr>\n",
       "    <tr>\n",
       "      <th>1</th>\n",
       "      <td>2</td>\n",
       "      <td>1981.0</td>\n",
       "      <td>21.0</td>\n",
       "      <td>2</td>\n",
       "      <td>1353.0</td>\n",
       "      <td>4.0</td>\n",
       "      <td>1.0</td>\n",
       "      <td>-131.13</td>\n",
       "      <td>1.116503</td>\n",
       "      <td>77.46</td>\n",
       "      <td>416.20</td>\n",
       "      <td>116.69</td>\n",
       "      <td>194.48</td>\n",
       "      <td>106.13</td>\n",
       "    </tr>\n",
       "    <tr>\n",
       "      <th>2</th>\n",
       "      <td>3</td>\n",
       "      <td>1991.0</td>\n",
       "      <td>46.0</td>\n",
       "      <td>1</td>\n",
       "      <td>4554.0</td>\n",
       "      <td>3.0</td>\n",
       "      <td>0.0</td>\n",
       "      <td>504.67</td>\n",
       "      <td>0.284810</td>\n",
       "      <td>206.15</td>\n",
       "      <td>224.50</td>\n",
       "      <td>124.58</td>\n",
       "      <td>86.35</td>\n",
       "      <td>99.02</td>\n",
       "    </tr>\n",
       "    <tr>\n",
       "      <th>3</th>\n",
       "      <td>4</td>\n",
       "      <td>1990.0</td>\n",
       "      <td>35.0</td>\n",
       "      <td>3</td>\n",
       "      <td>2197.0</td>\n",
       "      <td>4.0</td>\n",
       "      <td>1.0</td>\n",
       "      <td>-16.99</td>\n",
       "      <td>0.986665</td>\n",
       "      <td>182.48</td>\n",
       "      <td>43.35</td>\n",
       "      <td>311.17</td>\n",
       "      <td>35.34</td>\n",
       "      <td>28.34</td>\n",
       "    </tr>\n",
       "    <tr>\n",
       "      <th>4</th>\n",
       "      <td>5</td>\n",
       "      <td>1986.0</td>\n",
       "      <td>43.0</td>\n",
       "      <td>3</td>\n",
       "      <td>3526.0</td>\n",
       "      <td>4.0</td>\n",
       "      <td>1.0</td>\n",
       "      <td>35.23</td>\n",
       "      <td>0.904281</td>\n",
       "      <td>338.62</td>\n",
       "      <td>47.80</td>\n",
       "      <td>182.59</td>\n",
       "      <td>18.78</td>\n",
       "      <td>41.45</td>\n",
       "    </tr>\n",
       "  </tbody>\n",
       "</table>\n",
       "</div>"
      ],
      "text/plain": [
       "   Customer Identity  First Policy´s Year  Customer Age  Educational Degree  \\\n",
       "0                  1               1985.0          34.0                   2   \n",
       "1                  2               1981.0          21.0                   2   \n",
       "2                  3               1991.0          46.0                   1   \n",
       "3                  4               1990.0          35.0                   3   \n",
       "4                  5               1986.0          43.0                   3   \n",
       "\n",
       "   Gross Monthly Salary  Geographic Living Area  Has Children (Y=1)  \\\n",
       "0                4354.0                     1.0                 1.0   \n",
       "1                1353.0                     4.0                 1.0   \n",
       "2                4554.0                     3.0                 0.0   \n",
       "3                2197.0                     4.0                 1.0   \n",
       "4                3526.0                     4.0                 1.0   \n",
       "\n",
       "   Customer Monetary Value  Claims Rate  Premiums in LOB: Motor  \\\n",
       "0                   380.97     0.390032                  375.85   \n",
       "1                  -131.13     1.116503                   77.46   \n",
       "2                   504.67     0.284810                  206.15   \n",
       "3                   -16.99     0.986665                  182.48   \n",
       "4                    35.23     0.904281                  338.62   \n",
       "\n",
       "   Premiums in LOB: Household  Premiums in LOB: Health  \\\n",
       "0                       79.45                   146.36   \n",
       "1                      416.20                   116.69   \n",
       "2                      224.50                   124.58   \n",
       "3                       43.35                   311.17   \n",
       "4                       47.80                   182.59   \n",
       "\n",
       "   Premiums in LOB:  Life  Premiums in LOB: Work Compensations  \n",
       "0                   47.01                                16.89  \n",
       "1                  194.48                               106.13  \n",
       "2                   86.35                                99.02  \n",
       "3                   35.34                                28.34  \n",
       "4                   18.78                                41.45  "
      ]
     },
     "execution_count": 98,
     "metadata": {},
     "output_type": "execute_result"
    }
   ],
   "source": [
    "data.head()"
   ]
  },
  {
   "cell_type": "code",
   "execution_count": 99,
   "metadata": {},
   "outputs": [],
   "source": [
    "df1 = data[['Customer Identity', 'First Policy´s Year', 'Customer Age', 'Educational Degree',\n",
    "       'Gross Monthly Salary', 'Geographic Living Area',\n",
    "       'Has Children (Y=1)', 'Customer Monetary Value', 'Claims Rate',\n",
    "       'Premiums in LOB: Motor', 'Premiums in LOB: Household',\n",
    "       'Premiums in LOB: Health', 'Premiums in LOB:  Life',\n",
    "       'Premiums in LOB: Work Compensations']]"
   ]
  },
  {
   "cell_type": "markdown",
   "metadata": {},
   "source": [
    "# Creating new dataset"
   ]
  },
  {
   "cell_type": "markdown",
   "metadata": {},
   "source": [
    "## 1. Change the Name_of_the_Column and integrate it with underscore so that the names can be used directly for the further purposes. \n"
   ]
  },
  {
   "cell_type": "markdown",
   "metadata": {},
   "source": [
    "#  Df (Stylish)"
   ]
  },
  {
   "cell_type": "code",
   "execution_count": 101,
   "metadata": {},
   "outputs": [],
   "source": [
    "df_rename =df1.rename(columns = {'Customer Identity':'Customer_Identity' , \n",
    "                           'First Policy´s Year':'First_Policy_Year',\n",
    "                           'Customer Age':'Customer_Age', 'Educational Degree':'Educational_Degree',\n",
    "                           'Gross Monthly Salary': 'Gross_Monthly_Salary',\n",
    "                           'Geographic Living Area':'Geographic_Living_Area',\n",
    "                           'Has Children (Y=1)': 'Has_Children', \n",
    "                           'Customer Monetary Value':'Customer_Monetary_Value',\n",
    "                           'Claims Rate':'Claims_Rate',\n",
    "                           'Premiums in LOB: Motor':'Premiums_Motor', \n",
    "                           'Premiums in LOB: Household':'Premiums_Household',\n",
    "                           'Premiums in LOB: Health':'Premiums_Health',\n",
    "                           'Premiums in LOB:  Life':'Premiums_Life',\n",
    "                           'Premiums in LOB: Work Compensations':'Premiums_Work_Compensations'})"
   ]
  },
  {
   "cell_type": "code",
   "execution_count": 102,
   "metadata": {},
   "outputs": [
    {
     "data": {
      "text/plain": [
       "Index(['Customer_Identity', 'First_Policy_Year', 'Customer_Age',\n",
       "       'Educational_Degree', 'Gross_Monthly_Salary', 'Geographic_Living_Area',\n",
       "       'Has_Children', 'Customer_Monetary_Value', 'Claims_Rate',\n",
       "       'Premiums_Motor', 'Premiums_Household', 'Premiums_Health',\n",
       "       'Premiums_Life', 'Premiums_Work_Compensations'],\n",
       "      dtype='object')"
      ]
     },
     "execution_count": 102,
     "metadata": {},
     "output_type": "execute_result"
    }
   ],
   "source": [
    "\n",
    "df_rename.columns"
   ]
  },
  {
   "cell_type": "code",
   "execution_count": null,
   "metadata": {},
   "outputs": [],
   "source": [
    "\n"
   ]
  },
  {
   "cell_type": "markdown",
   "metadata": {},
   "source": [
    "##  Now, need to organise the dataset. "
   ]
  },
  {
   "cell_type": "markdown",
   "metadata": {},
   "source": [
    "### NaN treatment"
   ]
  },
  {
   "cell_type": "code",
   "execution_count": 103,
   "metadata": {},
   "outputs": [
    {
     "data": {
      "text/plain": [
       "(10296, 14)"
      ]
     },
     "execution_count": 103,
     "metadata": {},
     "output_type": "execute_result"
    }
   ],
   "source": [
    "df_rename.shape"
   ]
  },
  {
   "cell_type": "code",
   "execution_count": null,
   "metadata": {},
   "outputs": [],
   "source": []
  },
  {
   "cell_type": "code",
   "execution_count": 104,
   "metadata": {},
   "outputs": [],
   "source": [
    "df_Id_Index = df_rename.set_index('Customer_Identity')"
   ]
  },
  {
   "cell_type": "code",
   "execution_count": 105,
   "metadata": {},
   "outputs": [],
   "source": [
    "df2= df_Id_Index.fillna(method= 'ffill') #Interpolate the values"
   ]
  },
  {
   "cell_type": "code",
   "execution_count": 10,
   "metadata": {},
   "outputs": [],
   "source": [
    "#df_CR_index = df_fillna.sort_values('Claims_Rate')"
   ]
  },
  {
   "cell_type": "code",
   "execution_count": null,
   "metadata": {},
   "outputs": [],
   "source": []
  },
  {
   "cell_type": "code",
   "execution_count": 108,
   "metadata": {},
   "outputs": [
    {
     "data": {
      "text/plain": [
       "(10296, 13)"
      ]
     },
     "execution_count": 108,
     "metadata": {},
     "output_type": "execute_result"
    }
   ],
   "source": [
    "df2.shape"
   ]
  },
  {
   "cell_type": "code",
   "execution_count": 109,
   "metadata": {},
   "outputs": [
    {
     "data": {
      "text/plain": [
       "First_Policy_Year              False\n",
       "Customer_Age                   False\n",
       "Educational_Degree             False\n",
       "Gross_Monthly_Salary           False\n",
       "Geographic_Living_Area         False\n",
       "Has_Children                   False\n",
       "Customer_Monetary_Value        False\n",
       "Claims_Rate                    False\n",
       "Premiums_Motor                 False\n",
       "Premiums_Household             False\n",
       "Premiums_Health                False\n",
       "Premiums_Life                  False\n",
       "Premiums_Work_Compensations    False\n",
       "dtype: bool"
      ]
     },
     "execution_count": 109,
     "metadata": {},
     "output_type": "execute_result"
    }
   ],
   "source": [
    "df2.isnull().any()"
   ]
  },
  {
   "cell_type": "markdown",
   "metadata": {},
   "source": [
    "###  NaN - interpolation"
   ]
  },
  {
   "cell_type": "code",
   "execution_count": 110,
   "metadata": {},
   "outputs": [
    {
     "data": {
      "text/plain": [
       "Index(['First_Policy_Year', 'Customer_Age', 'Educational_Degree',\n",
       "       'Gross_Monthly_Salary', 'Geographic_Living_Area', 'Has_Children',\n",
       "       'Customer_Monetary_Value', 'Claims_Rate', 'Premiums_Motor',\n",
       "       'Premiums_Household', 'Premiums_Health', 'Premiums_Life',\n",
       "       'Premiums_Work_Compensations'],\n",
       "      dtype='object')"
      ]
     },
     "execution_count": 110,
     "metadata": {},
     "output_type": "execute_result"
    }
   ],
   "source": [
    "df2.columns"
   ]
  },
  {
   "cell_type": "code",
   "execution_count": 111,
   "metadata": {},
   "outputs": [
    {
     "data": {
      "text/html": [
       "<div>\n",
       "<style scoped>\n",
       "    .dataframe tbody tr th:only-of-type {\n",
       "        vertical-align: middle;\n",
       "    }\n",
       "\n",
       "    .dataframe tbody tr th {\n",
       "        vertical-align: top;\n",
       "    }\n",
       "\n",
       "    .dataframe thead th {\n",
       "        text-align: right;\n",
       "    }\n",
       "</style>\n",
       "<table border=\"1\" class=\"dataframe\">\n",
       "  <thead>\n",
       "    <tr style=\"text-align: right;\">\n",
       "      <th></th>\n",
       "      <th>First_Policy_Year</th>\n",
       "      <th>Customer_Age</th>\n",
       "      <th>Educational_Degree</th>\n",
       "      <th>Gross_Monthly_Salary</th>\n",
       "      <th>Geographic_Living_Area</th>\n",
       "      <th>Has_Children</th>\n",
       "      <th>Customer_Monetary_Value</th>\n",
       "      <th>Claims_Rate</th>\n",
       "      <th>Premiums_Motor</th>\n",
       "      <th>Premiums_Household</th>\n",
       "      <th>Premiums_Health</th>\n",
       "      <th>Premiums_Life</th>\n",
       "      <th>Premiums_Work_Compensations</th>\n",
       "    </tr>\n",
       "    <tr>\n",
       "      <th>Customer_Identity</th>\n",
       "      <th></th>\n",
       "      <th></th>\n",
       "      <th></th>\n",
       "      <th></th>\n",
       "      <th></th>\n",
       "      <th></th>\n",
       "      <th></th>\n",
       "      <th></th>\n",
       "      <th></th>\n",
       "      <th></th>\n",
       "      <th></th>\n",
       "      <th></th>\n",
       "      <th></th>\n",
       "    </tr>\n",
       "  </thead>\n",
       "  <tbody>\n",
       "    <tr>\n",
       "      <th>1</th>\n",
       "      <td>1985.0</td>\n",
       "      <td>34.0</td>\n",
       "      <td>2</td>\n",
       "      <td>4354.0</td>\n",
       "      <td>1.0</td>\n",
       "      <td>1.0</td>\n",
       "      <td>380.97</td>\n",
       "      <td>0.390032</td>\n",
       "      <td>375.85</td>\n",
       "      <td>79.45</td>\n",
       "      <td>146.36</td>\n",
       "      <td>47.01</td>\n",
       "      <td>16.89</td>\n",
       "    </tr>\n",
       "    <tr>\n",
       "      <th>2</th>\n",
       "      <td>1981.0</td>\n",
       "      <td>21.0</td>\n",
       "      <td>2</td>\n",
       "      <td>1353.0</td>\n",
       "      <td>4.0</td>\n",
       "      <td>1.0</td>\n",
       "      <td>-131.13</td>\n",
       "      <td>1.116503</td>\n",
       "      <td>77.46</td>\n",
       "      <td>416.20</td>\n",
       "      <td>116.69</td>\n",
       "      <td>194.48</td>\n",
       "      <td>106.13</td>\n",
       "    </tr>\n",
       "    <tr>\n",
       "      <th>3</th>\n",
       "      <td>1991.0</td>\n",
       "      <td>46.0</td>\n",
       "      <td>1</td>\n",
       "      <td>4554.0</td>\n",
       "      <td>3.0</td>\n",
       "      <td>0.0</td>\n",
       "      <td>504.67</td>\n",
       "      <td>0.284810</td>\n",
       "      <td>206.15</td>\n",
       "      <td>224.50</td>\n",
       "      <td>124.58</td>\n",
       "      <td>86.35</td>\n",
       "      <td>99.02</td>\n",
       "    </tr>\n",
       "    <tr>\n",
       "      <th>4</th>\n",
       "      <td>1990.0</td>\n",
       "      <td>35.0</td>\n",
       "      <td>3</td>\n",
       "      <td>2197.0</td>\n",
       "      <td>4.0</td>\n",
       "      <td>1.0</td>\n",
       "      <td>-16.99</td>\n",
       "      <td>0.986665</td>\n",
       "      <td>182.48</td>\n",
       "      <td>43.35</td>\n",
       "      <td>311.17</td>\n",
       "      <td>35.34</td>\n",
       "      <td>28.34</td>\n",
       "    </tr>\n",
       "    <tr>\n",
       "      <th>5</th>\n",
       "      <td>1986.0</td>\n",
       "      <td>43.0</td>\n",
       "      <td>3</td>\n",
       "      <td>3526.0</td>\n",
       "      <td>4.0</td>\n",
       "      <td>1.0</td>\n",
       "      <td>35.23</td>\n",
       "      <td>0.904281</td>\n",
       "      <td>338.62</td>\n",
       "      <td>47.80</td>\n",
       "      <td>182.59</td>\n",
       "      <td>18.78</td>\n",
       "      <td>41.45</td>\n",
       "    </tr>\n",
       "  </tbody>\n",
       "</table>\n",
       "</div>"
      ],
      "text/plain": [
       "                   First_Policy_Year  Customer_Age  Educational_Degree  \\\n",
       "Customer_Identity                                                        \n",
       "1                             1985.0          34.0                   2   \n",
       "2                             1981.0          21.0                   2   \n",
       "3                             1991.0          46.0                   1   \n",
       "4                             1990.0          35.0                   3   \n",
       "5                             1986.0          43.0                   3   \n",
       "\n",
       "                   Gross_Monthly_Salary  Geographic_Living_Area  Has_Children  \\\n",
       "Customer_Identity                                                               \n",
       "1                                4354.0                     1.0           1.0   \n",
       "2                                1353.0                     4.0           1.0   \n",
       "3                                4554.0                     3.0           0.0   \n",
       "4                                2197.0                     4.0           1.0   \n",
       "5                                3526.0                     4.0           1.0   \n",
       "\n",
       "                   Customer_Monetary_Value  Claims_Rate  Premiums_Motor  \\\n",
       "Customer_Identity                                                         \n",
       "1                                   380.97     0.390032          375.85   \n",
       "2                                  -131.13     1.116503           77.46   \n",
       "3                                   504.67     0.284810          206.15   \n",
       "4                                   -16.99     0.986665          182.48   \n",
       "5                                    35.23     0.904281          338.62   \n",
       "\n",
       "                   Premiums_Household  Premiums_Health  Premiums_Life  \\\n",
       "Customer_Identity                                                       \n",
       "1                               79.45           146.36          47.01   \n",
       "2                              416.20           116.69         194.48   \n",
       "3                              224.50           124.58          86.35   \n",
       "4                               43.35           311.17          35.34   \n",
       "5                               47.80           182.59          18.78   \n",
       "\n",
       "                   Premiums_Work_Compensations  \n",
       "Customer_Identity                               \n",
       "1                                        16.89  \n",
       "2                                       106.13  \n",
       "3                                        99.02  \n",
       "4                                        28.34  \n",
       "5                                        41.45  "
      ]
     },
     "execution_count": 111,
     "metadata": {},
     "output_type": "execute_result"
    }
   ],
   "source": [
    "df2.head()"
   ]
  },
  {
   "cell_type": "code",
   "execution_count": 16,
   "metadata": {},
   "outputs": [],
   "source": [
    "df2.iloc[:,[3]];"
   ]
  },
  {
   "cell_type": "code",
   "execution_count": null,
   "metadata": {},
   "outputs": [],
   "source": []
  },
  {
   "cell_type": "code",
   "execution_count": 117,
   "metadata": {},
   "outputs": [],
   "source": [
    "columns =  df2.iloc[:,:6]\n",
    "for col in columns:\n",
    "    df2[col] = df2[col].apply(int)\n",
    "df2;"
   ]
  },
  {
   "cell_type": "code",
   "execution_count": 118,
   "metadata": {},
   "outputs": [
    {
     "name": "stdout",
     "output_type": "stream",
     "text": [
      "<class 'pandas.core.frame.DataFrame'>\n",
      "Int64Index: 10296 entries, 1 to 10296\n",
      "Data columns (total 13 columns):\n",
      "First_Policy_Year              10296 non-null int64\n",
      "Customer_Age                   10296 non-null int64\n",
      "Educational_Degree             10296 non-null int64\n",
      "Gross_Monthly_Salary           10296 non-null int64\n",
      "Geographic_Living_Area         10296 non-null int64\n",
      "Has_Children                   10296 non-null int64\n",
      "Customer_Monetary_Value        10296 non-null float64\n",
      "Claims_Rate                    10296 non-null float64\n",
      "Premiums_Motor                 10296 non-null float64\n",
      "Premiums_Household             10296 non-null float64\n",
      "Premiums_Health                10296 non-null float64\n",
      "Premiums_Life                  10296 non-null float64\n",
      "Premiums_Work_Compensations    10296 non-null float64\n",
      "dtypes: float64(7), int64(6)\n",
      "memory usage: 1.1 MB\n"
     ]
    }
   ],
   "source": [
    "df2.info()"
   ]
  },
  {
   "cell_type": "markdown",
   "metadata": {},
   "source": [
    "## Change the Index for Data2\n",
    "\n",
    "### - To make the DataFrame relevant, the Customer_Identity is used as index"
   ]
  },
  {
   "cell_type": "code",
   "execution_count": 121,
   "metadata": {},
   "outputs": [],
   "source": [
    "df2.Claims_Rate;"
   ]
  },
  {
   "cell_type": "code",
   "execution_count": 20,
   "metadata": {},
   "outputs": [],
   "source": [
    "#a = data2.First_Policy_Year.dropna().apply(np.int64); # The pupose of this was to check if it changes for the data frame or not. \n",
    "# It is found that it doesn't apply effect the data2."
   ]
  },
  {
   "cell_type": "markdown",
   "metadata": {},
   "source": [
    "### Check if there is any Null value in any column"
   ]
  },
  {
   "cell_type": "code",
   "execution_count": null,
   "metadata": {},
   "outputs": [],
   "source": []
  },
  {
   "cell_type": "code",
   "execution_count": 119,
   "metadata": {},
   "outputs": [
    {
     "data": {
      "text/plain": [
       "First_Policy_Year                int64\n",
       "Customer_Age                     int64\n",
       "Educational_Degree               int64\n",
       "Gross_Monthly_Salary             int64\n",
       "Geographic_Living_Area           int64\n",
       "Has_Children                     int64\n",
       "Customer_Monetary_Value        float64\n",
       "Claims_Rate                    float64\n",
       "Premiums_Motor                 float64\n",
       "Premiums_Household             float64\n",
       "Premiums_Health                float64\n",
       "Premiums_Life                  float64\n",
       "Premiums_Work_Compensations    float64\n",
       "dtype: object"
      ]
     },
     "execution_count": 119,
     "metadata": {},
     "output_type": "execute_result"
    }
   ],
   "source": [
    "df2.dtypes "
   ]
  },
  {
   "cell_type": "code",
   "execution_count": null,
   "metadata": {},
   "outputs": [],
   "source": []
  },
  {
   "cell_type": "code",
   "execution_count": 46,
   "metadata": {},
   "outputs": [
    {
     "data": {
      "text/html": [
       "<div>\n",
       "<style scoped>\n",
       "    .dataframe tbody tr th:only-of-type {\n",
       "        vertical-align: middle;\n",
       "    }\n",
       "\n",
       "    .dataframe tbody tr th {\n",
       "        vertical-align: top;\n",
       "    }\n",
       "\n",
       "    .dataframe thead th {\n",
       "        text-align: right;\n",
       "    }\n",
       "</style>\n",
       "<table border=\"1\" class=\"dataframe\">\n",
       "  <thead>\n",
       "    <tr style=\"text-align: right;\">\n",
       "      <th></th>\n",
       "      <th>First_Policy_Year</th>\n",
       "      <th>Customer_Age</th>\n",
       "      <th>Gross_Monthly_Salary</th>\n",
       "      <th>Geographic_Living_Area</th>\n",
       "      <th>Has_Children</th>\n",
       "      <th>Customer_Monetary_Value</th>\n",
       "      <th>Claims_Rate</th>\n",
       "      <th>Premiums_Motor</th>\n",
       "      <th>Premiums_Household</th>\n",
       "      <th>Premiums_Health</th>\n",
       "      <th>Premiums_Life</th>\n",
       "      <th>Premiums_Work_Compensations</th>\n",
       "      <th>Total_Premium</th>\n",
       "    </tr>\n",
       "  </thead>\n",
       "  <tbody>\n",
       "    <tr>\n",
       "      <th>count</th>\n",
       "      <td>10296.000000</td>\n",
       "      <td>10296.000000</td>\n",
       "      <td>10296.000000</td>\n",
       "      <td>10296.000000</td>\n",
       "      <td>10296.000000</td>\n",
       "      <td>10296.000000</td>\n",
       "      <td>10296.000000</td>\n",
       "      <td>10296.000000</td>\n",
       "      <td>10296.000000</td>\n",
       "      <td>10296.000000</td>\n",
       "      <td>10296.000000</td>\n",
       "      <td>10296.000000</td>\n",
       "      <td>10296.000000</td>\n",
       "    </tr>\n",
       "    <tr>\n",
       "      <th>mean</th>\n",
       "      <td>1986.020202</td>\n",
       "      <td>47.901418</td>\n",
       "      <td>4995.856158</td>\n",
       "      <td>2.709984</td>\n",
       "      <td>0.706876</td>\n",
       "      <td>177.892604</td>\n",
       "      <td>0.684239</td>\n",
       "      <td>300.486081</td>\n",
       "      <td>210.431192</td>\n",
       "      <td>172.224793</td>\n",
       "      <td>41.884261</td>\n",
       "      <td>41.296363</td>\n",
       "      <td>766.322689</td>\n",
       "    </tr>\n",
       "    <tr>\n",
       "      <th>std</th>\n",
       "      <td>6.612583</td>\n",
       "      <td>17.388135</td>\n",
       "      <td>1968.171012</td>\n",
       "      <td>1.266293</td>\n",
       "      <td>0.455217</td>\n",
       "      <td>1945.811545</td>\n",
       "      <td>0.381656</td>\n",
       "      <td>211.690281</td>\n",
       "      <td>352.595984</td>\n",
       "      <td>304.094586</td>\n",
       "      <td>47.522474</td>\n",
       "      <td>51.432838</td>\n",
       "      <td>476.450835</td>\n",
       "    </tr>\n",
       "    <tr>\n",
       "      <th>min</th>\n",
       "      <td>1974.000000</td>\n",
       "      <td>15.000000</td>\n",
       "      <td>665.000000</td>\n",
       "      <td>1.000000</td>\n",
       "      <td>0.000000</td>\n",
       "      <td>-165680.424000</td>\n",
       "      <td>0.000000</td>\n",
       "      <td>-4.110000</td>\n",
       "      <td>-75.000000</td>\n",
       "      <td>-2.110000</td>\n",
       "      <td>-7.000000</td>\n",
       "      <td>-12.000000</td>\n",
       "      <td>147.020000</td>\n",
       "    </tr>\n",
       "    <tr>\n",
       "      <th>25%</th>\n",
       "      <td>1980.000000</td>\n",
       "      <td>33.000000</td>\n",
       "      <td>3411.000000</td>\n",
       "      <td>1.000000</td>\n",
       "      <td>0.000000</td>\n",
       "      <td>-9.440000</td>\n",
       "      <td>0.392221</td>\n",
       "      <td>190.590000</td>\n",
       "      <td>49.450000</td>\n",
       "      <td>111.800000</td>\n",
       "      <td>9.890000</td>\n",
       "      <td>10.670000</td>\n",
       "      <td>627.560000</td>\n",
       "    </tr>\n",
       "    <tr>\n",
       "      <th>50%</th>\n",
       "      <td>1986.000000</td>\n",
       "      <td>48.000000</td>\n",
       "      <td>4999.500000</td>\n",
       "      <td>3.000000</td>\n",
       "      <td>1.000000</td>\n",
       "      <td>186.870000</td>\n",
       "      <td>0.719198</td>\n",
       "      <td>298.610000</td>\n",
       "      <td>132.800000</td>\n",
       "      <td>162.810000</td>\n",
       "      <td>25.560000</td>\n",
       "      <td>25.670000</td>\n",
       "      <td>699.405000</td>\n",
       "    </tr>\n",
       "    <tr>\n",
       "      <th>75%</th>\n",
       "      <td>1992.000000</td>\n",
       "      <td>63.000000</td>\n",
       "      <td>6578.250000</td>\n",
       "      <td>4.000000</td>\n",
       "      <td>1.000000</td>\n",
       "      <td>399.777500</td>\n",
       "      <td>0.976307</td>\n",
       "      <td>408.300000</td>\n",
       "      <td>290.050000</td>\n",
       "      <td>219.040000</td>\n",
       "      <td>57.790000</td>\n",
       "      <td>56.790000</td>\n",
       "      <td>824.950000</td>\n",
       "    </tr>\n",
       "    <tr>\n",
       "      <th>max</th>\n",
       "      <td>1998.000000</td>\n",
       "      <td>81.000000</td>\n",
       "      <td>10042.000000</td>\n",
       "      <td>4.000000</td>\n",
       "      <td>1.000000</td>\n",
       "      <td>11875.890000</td>\n",
       "      <td>13.900000</td>\n",
       "      <td>11604.420000</td>\n",
       "      <td>25048.800000</td>\n",
       "      <td>28272.000000</td>\n",
       "      <td>398.300000</td>\n",
       "      <td>1988.700000</td>\n",
       "      <td>29331.320000</td>\n",
       "    </tr>\n",
       "  </tbody>\n",
       "</table>\n",
       "</div>"
      ],
      "text/plain": [
       "       First_Policy_Year  Customer_Age  Gross_Monthly_Salary  \\\n",
       "count       10296.000000  10296.000000          10296.000000   \n",
       "mean         1986.020202     47.901418           4995.856158   \n",
       "std             6.612583     17.388135           1968.171012   \n",
       "min          1974.000000     15.000000            665.000000   \n",
       "25%          1980.000000     33.000000           3411.000000   \n",
       "50%          1986.000000     48.000000           4999.500000   \n",
       "75%          1992.000000     63.000000           6578.250000   \n",
       "max          1998.000000     81.000000          10042.000000   \n",
       "\n",
       "       Geographic_Living_Area  Has_Children  Customer_Monetary_Value  \\\n",
       "count            10296.000000  10296.000000             10296.000000   \n",
       "mean                 2.709984      0.706876               177.892604   \n",
       "std                  1.266293      0.455217              1945.811545   \n",
       "min                  1.000000      0.000000           -165680.424000   \n",
       "25%                  1.000000      0.000000                -9.440000   \n",
       "50%                  3.000000      1.000000               186.870000   \n",
       "75%                  4.000000      1.000000               399.777500   \n",
       "max                  4.000000      1.000000             11875.890000   \n",
       "\n",
       "        Claims_Rate  Premiums_Motor  Premiums_Household  Premiums_Health  \\\n",
       "count  10296.000000    10296.000000        10296.000000     10296.000000   \n",
       "mean       0.684239      300.486081          210.431192       172.224793   \n",
       "std        0.381656      211.690281          352.595984       304.094586   \n",
       "min        0.000000       -4.110000          -75.000000        -2.110000   \n",
       "25%        0.392221      190.590000           49.450000       111.800000   \n",
       "50%        0.719198      298.610000          132.800000       162.810000   \n",
       "75%        0.976307      408.300000          290.050000       219.040000   \n",
       "max       13.900000    11604.420000        25048.800000     28272.000000   \n",
       "\n",
       "       Premiums_Life  Premiums_Work_Compensations  Total_Premium  \n",
       "count   10296.000000                 10296.000000   10296.000000  \n",
       "mean       41.884261                    41.296363     766.322689  \n",
       "std        47.522474                    51.432838     476.450835  \n",
       "min        -7.000000                   -12.000000     147.020000  \n",
       "25%         9.890000                    10.670000     627.560000  \n",
       "50%        25.560000                    25.670000     699.405000  \n",
       "75%        57.790000                    56.790000     824.950000  \n",
       "max       398.300000                  1988.700000   29331.320000  "
      ]
     },
     "execution_count": 46,
     "metadata": {},
     "output_type": "execute_result"
    }
   ],
   "source": [
    "df2.describe()"
   ]
  },
  {
   "cell_type": "markdown",
   "metadata": {},
   "source": [
    "# 2. Convert the float into int. \n",
    "## -  Remove the NaN so that you can apply (int)"
   ]
  },
  {
   "cell_type": "markdown",
   "metadata": {},
   "source": [
    "##  - The most important part is to replace the NaN values (not drop) and convert the necessary floats into integers. \n"
   ]
  },
  {
   "cell_type": "markdown",
   "metadata": {},
   "source": [
    "### To check the customers' age in decending order. "
   ]
  },
  {
   "cell_type": "code",
   "execution_count": 122,
   "metadata": {},
   "outputs": [],
   "source": [
    "# Two column can be added with '+'\n",
    "df2['Total_Premium'] =  df2.iloc[:,8]+df2.iloc[:,9] + df2.iloc[:,10] + df2.iloc[:,11]+ df2.iloc[:,12];"
   ]
  },
  {
   "cell_type": "code",
   "execution_count": 124,
   "metadata": {},
   "outputs": [
    {
     "data": {
      "text/plain": [
       "Customer_Identity\n",
       "1    665.56\n",
       "2    910.96\n",
       "3    740.60\n",
       "4    600.68\n",
       "5    629.24\n",
       "Name: Total_Premium, dtype: float64"
      ]
     },
     "execution_count": 124,
     "metadata": {},
     "output_type": "execute_result"
    }
   ],
   "source": [
    "df2.Total_Premium.head()"
   ]
  },
  {
   "cell_type": "markdown",
   "metadata": {},
   "source": [
    "# Histograms\n",
    "### - to plot the distributions of numeric variables."
   ]
  },
  {
   "cell_type": "code",
   "execution_count": null,
   "metadata": {},
   "outputs": [],
   "source": []
  },
  {
   "cell_type": "markdown",
   "metadata": {},
   "source": [
    "# Clustering "
   ]
  },
  {
   "cell_type": "markdown",
   "metadata": {},
   "source": [
    "## Demographic Clustering "
   ]
  },
  {
   "cell_type": "code",
   "execution_count": null,
   "metadata": {},
   "outputs": [],
   "source": [
    "#Not used yet. \n",
    "Clus_1 = df2.First_Policy_Year.values\n",
    "Clus_2 = df2.Customer_Age.values\n",
    "Clus_3 = df2.Gross_Monthly_Salary.values"
   ]
  },
  {
   "cell_type": "code",
   "execution_count": 125,
   "metadata": {},
   "outputs": [
    {
     "name": "stdout",
     "output_type": "stream",
     "text": [
      "<class 'pandas.core.frame.DataFrame'>\n",
      "Int64Index: 10296 entries, 1 to 10296\n",
      "Data columns (total 14 columns):\n",
      "First_Policy_Year              10296 non-null int64\n",
      "Customer_Age                   10296 non-null int64\n",
      "Educational_Degree             10296 non-null int64\n",
      "Gross_Monthly_Salary           10296 non-null int64\n",
      "Geographic_Living_Area         10296 non-null int64\n",
      "Has_Children                   10296 non-null int64\n",
      "Customer_Monetary_Value        10296 non-null float64\n",
      "Claims_Rate                    10296 non-null float64\n",
      "Premiums_Motor                 10296 non-null float64\n",
      "Premiums_Household             10296 non-null float64\n",
      "Premiums_Health                10296 non-null float64\n",
      "Premiums_Life                  10296 non-null float64\n",
      "Premiums_Work_Compensations    10296 non-null float64\n",
      "Total_Premium                  10296 non-null float64\n",
      "dtypes: float64(8), int64(6)\n",
      "memory usage: 1.5 MB\n"
     ]
    }
   ],
   "source": [
    "  \n",
    "df2.info()"
   ]
  },
  {
   "cell_type": "markdown",
   "metadata": {},
   "source": [
    "## Trail 1"
   ]
  },
  {
   "cell_type": "code",
   "execution_count": 126,
   "metadata": {},
   "outputs": [
    {
     "data": {
      "text/plain": [
       "Index(['First_Policy_Year', 'Customer_Age', 'Educational_Degree',\n",
       "       'Gross_Monthly_Salary', 'Geographic_Living_Area', 'Has_Children',\n",
       "       'Customer_Monetary_Value', 'Claims_Rate', 'Premiums_Motor',\n",
       "       'Premiums_Household', 'Premiums_Health', 'Premiums_Life',\n",
       "       'Premiums_Work_Compensations', 'Total_Premium'],\n",
       "      dtype='object')"
      ]
     },
     "execution_count": 126,
     "metadata": {},
     "output_type": "execute_result"
    }
   ],
   "source": [
    "df2.columns"
   ]
  },
  {
   "cell_type": "code",
   "execution_count": 134,
   "metadata": {},
   "outputs": [],
   "source": [
    "from sklearn.preprocessing import StandardScaler\n",
    "\n",
    "Demo_Data = df2[['Total_Premium','Claims_Rate','Customer_Monetary_Value','Has_Children','Customer_Age','Educational_Degree','Gross_Monthly_Salary'] ]"
   ]
  },
  {
   "cell_type": "code",
   "execution_count": 135,
   "metadata": {},
   "outputs": [
    {
     "data": {
      "text/html": [
       "<div>\n",
       "<style scoped>\n",
       "    .dataframe tbody tr th:only-of-type {\n",
       "        vertical-align: middle;\n",
       "    }\n",
       "\n",
       "    .dataframe tbody tr th {\n",
       "        vertical-align: top;\n",
       "    }\n",
       "\n",
       "    .dataframe thead th {\n",
       "        text-align: right;\n",
       "    }\n",
       "</style>\n",
       "<table border=\"1\" class=\"dataframe\">\n",
       "  <thead>\n",
       "    <tr style=\"text-align: right;\">\n",
       "      <th></th>\n",
       "      <th>Total_Premium</th>\n",
       "      <th>Claims_Rate</th>\n",
       "      <th>Customer_Monetary_Value</th>\n",
       "      <th>Has_Children</th>\n",
       "      <th>Customer_Age</th>\n",
       "      <th>Educational_Degree</th>\n",
       "      <th>Gross_Monthly_Salary</th>\n",
       "    </tr>\n",
       "    <tr>\n",
       "      <th>Customer_Identity</th>\n",
       "      <th></th>\n",
       "      <th></th>\n",
       "      <th></th>\n",
       "      <th></th>\n",
       "      <th></th>\n",
       "      <th></th>\n",
       "      <th></th>\n",
       "    </tr>\n",
       "  </thead>\n",
       "  <tbody>\n",
       "    <tr>\n",
       "      <th>1</th>\n",
       "      <td>665.56</td>\n",
       "      <td>0.390032</td>\n",
       "      <td>380.97</td>\n",
       "      <td>1</td>\n",
       "      <td>34</td>\n",
       "      <td>2</td>\n",
       "      <td>4354</td>\n",
       "    </tr>\n",
       "    <tr>\n",
       "      <th>2</th>\n",
       "      <td>910.96</td>\n",
       "      <td>1.116503</td>\n",
       "      <td>-131.13</td>\n",
       "      <td>1</td>\n",
       "      <td>21</td>\n",
       "      <td>2</td>\n",
       "      <td>1353</td>\n",
       "    </tr>\n",
       "    <tr>\n",
       "      <th>3</th>\n",
       "      <td>740.60</td>\n",
       "      <td>0.284810</td>\n",
       "      <td>504.67</td>\n",
       "      <td>0</td>\n",
       "      <td>46</td>\n",
       "      <td>1</td>\n",
       "      <td>4554</td>\n",
       "    </tr>\n",
       "    <tr>\n",
       "      <th>4</th>\n",
       "      <td>600.68</td>\n",
       "      <td>0.986665</td>\n",
       "      <td>-16.99</td>\n",
       "      <td>1</td>\n",
       "      <td>35</td>\n",
       "      <td>3</td>\n",
       "      <td>2197</td>\n",
       "    </tr>\n",
       "    <tr>\n",
       "      <th>5</th>\n",
       "      <td>629.24</td>\n",
       "      <td>0.904281</td>\n",
       "      <td>35.23</td>\n",
       "      <td>1</td>\n",
       "      <td>43</td>\n",
       "      <td>3</td>\n",
       "      <td>3526</td>\n",
       "    </tr>\n",
       "  </tbody>\n",
       "</table>\n",
       "</div>"
      ],
      "text/plain": [
       "                   Total_Premium  Claims_Rate  Customer_Monetary_Value  \\\n",
       "Customer_Identity                                                        \n",
       "1                         665.56     0.390032                   380.97   \n",
       "2                         910.96     1.116503                  -131.13   \n",
       "3                         740.60     0.284810                   504.67   \n",
       "4                         600.68     0.986665                   -16.99   \n",
       "5                         629.24     0.904281                    35.23   \n",
       "\n",
       "                   Has_Children  Customer_Age  Educational_Degree  \\\n",
       "Customer_Identity                                                   \n",
       "1                             1            34                   2   \n",
       "2                             1            21                   2   \n",
       "3                             0            46                   1   \n",
       "4                             1            35                   3   \n",
       "5                             1            43                   3   \n",
       "\n",
       "                   Gross_Monthly_Salary  \n",
       "Customer_Identity                        \n",
       "1                                  4354  \n",
       "2                                  1353  \n",
       "3                                  4554  \n",
       "4                                  2197  \n",
       "5                                  3526  "
      ]
     },
     "execution_count": 135,
     "metadata": {},
     "output_type": "execute_result"
    }
   ],
   "source": [
    "Demo_Data.head()"
   ]
  },
  {
   "cell_type": "code",
   "execution_count": 136,
   "metadata": {},
   "outputs": [],
   "source": [
    "# Separating out the Demographic Data.\n",
    "\n",
    "x = Demo_Data.values\n",
    "\n",
    "# Separating out the Target as regions. \n",
    "y = df2.loc[:,['Geographic_Living_Area']].values\n",
    "\n",
    "# Standardizing the features\n",
    "scaler = StandardScaler()\n",
    "x = scaler.fit_transform(x)\n"
   ]
  },
  {
   "cell_type": "code",
   "execution_count": 137,
   "metadata": {},
   "outputs": [
    {
     "data": {
      "text/plain": [
       "array([[-0.21149629, -0.77090611,  0.10437149, ..., -0.79951604,\n",
       "        -0.60237827, -0.32613392],\n",
       "       [ 0.30358712,  1.13265922, -0.15882196, ..., -1.54718859,\n",
       "        -0.60237827, -1.85097385],\n",
       "       [-0.05399075, -1.04662055,  0.16794703, ..., -0.10935677,\n",
       "        -1.85964294, -0.2245118 ],\n",
       "       ...,\n",
       "       [-0.14710037, -1.23914495,  0.17793306, ..., -0.45443641,\n",
       "         0.6548864 ,  0.42637789],\n",
       "       [ 0.01804536, -0.10265942,  0.03708525, ..., -0.51194968,\n",
       "        -1.85964294, -0.5359836 ],\n",
       "       [-0.20310047, -1.08531333,  0.14691622, ..., -0.74200277,\n",
       "         1.91215107,  0.32221521]])"
      ]
     },
     "execution_count": 137,
     "metadata": {},
     "output_type": "execute_result"
    }
   ],
   "source": [
    "x"
   ]
  },
  {
   "cell_type": "code",
   "execution_count": 138,
   "metadata": {},
   "outputs": [
    {
     "data": {
      "text/html": [
       "<div>\n",
       "<style scoped>\n",
       "    .dataframe tbody tr th:only-of-type {\n",
       "        vertical-align: middle;\n",
       "    }\n",
       "\n",
       "    .dataframe tbody tr th {\n",
       "        vertical-align: top;\n",
       "    }\n",
       "\n",
       "    .dataframe thead th {\n",
       "        text-align: right;\n",
       "    }\n",
       "</style>\n",
       "<table border=\"1\" class=\"dataframe\">\n",
       "  <thead>\n",
       "    <tr style=\"text-align: right;\">\n",
       "      <th></th>\n",
       "      <th>First_Policy_Year</th>\n",
       "      <th>Customer_Age</th>\n",
       "      <th>Educational_Degree</th>\n",
       "      <th>Gross_Monthly_Salary</th>\n",
       "      <th>Geographic_Living_Area</th>\n",
       "      <th>Has_Children</th>\n",
       "      <th>Customer_Monetary_Value</th>\n",
       "      <th>Claims_Rate</th>\n",
       "      <th>Premiums_Motor</th>\n",
       "      <th>Premiums_Household</th>\n",
       "      <th>Premiums_Health</th>\n",
       "      <th>Premiums_Life</th>\n",
       "      <th>Premiums_Work_Compensations</th>\n",
       "      <th>Total_Premium</th>\n",
       "    </tr>\n",
       "    <tr>\n",
       "      <th>Customer_Identity</th>\n",
       "      <th></th>\n",
       "      <th></th>\n",
       "      <th></th>\n",
       "      <th></th>\n",
       "      <th></th>\n",
       "      <th></th>\n",
       "      <th></th>\n",
       "      <th></th>\n",
       "      <th></th>\n",
       "      <th></th>\n",
       "      <th></th>\n",
       "      <th></th>\n",
       "      <th></th>\n",
       "      <th></th>\n",
       "    </tr>\n",
       "  </thead>\n",
       "  <tbody>\n",
       "    <tr>\n",
       "      <th>1</th>\n",
       "      <td>1985</td>\n",
       "      <td>34</td>\n",
       "      <td>2</td>\n",
       "      <td>4354</td>\n",
       "      <td>1</td>\n",
       "      <td>1</td>\n",
       "      <td>380.97</td>\n",
       "      <td>0.390032</td>\n",
       "      <td>375.85</td>\n",
       "      <td>79.45</td>\n",
       "      <td>146.36</td>\n",
       "      <td>47.01</td>\n",
       "      <td>16.89</td>\n",
       "      <td>665.56</td>\n",
       "    </tr>\n",
       "    <tr>\n",
       "      <th>2</th>\n",
       "      <td>1981</td>\n",
       "      <td>21</td>\n",
       "      <td>2</td>\n",
       "      <td>1353</td>\n",
       "      <td>4</td>\n",
       "      <td>1</td>\n",
       "      <td>-131.13</td>\n",
       "      <td>1.116503</td>\n",
       "      <td>77.46</td>\n",
       "      <td>416.20</td>\n",
       "      <td>116.69</td>\n",
       "      <td>194.48</td>\n",
       "      <td>106.13</td>\n",
       "      <td>910.96</td>\n",
       "    </tr>\n",
       "    <tr>\n",
       "      <th>3</th>\n",
       "      <td>1991</td>\n",
       "      <td>46</td>\n",
       "      <td>1</td>\n",
       "      <td>4554</td>\n",
       "      <td>3</td>\n",
       "      <td>0</td>\n",
       "      <td>504.67</td>\n",
       "      <td>0.284810</td>\n",
       "      <td>206.15</td>\n",
       "      <td>224.50</td>\n",
       "      <td>124.58</td>\n",
       "      <td>86.35</td>\n",
       "      <td>99.02</td>\n",
       "      <td>740.60</td>\n",
       "    </tr>\n",
       "    <tr>\n",
       "      <th>4</th>\n",
       "      <td>1990</td>\n",
       "      <td>35</td>\n",
       "      <td>3</td>\n",
       "      <td>2197</td>\n",
       "      <td>4</td>\n",
       "      <td>1</td>\n",
       "      <td>-16.99</td>\n",
       "      <td>0.986665</td>\n",
       "      <td>182.48</td>\n",
       "      <td>43.35</td>\n",
       "      <td>311.17</td>\n",
       "      <td>35.34</td>\n",
       "      <td>28.34</td>\n",
       "      <td>600.68</td>\n",
       "    </tr>\n",
       "    <tr>\n",
       "      <th>5</th>\n",
       "      <td>1986</td>\n",
       "      <td>43</td>\n",
       "      <td>3</td>\n",
       "      <td>3526</td>\n",
       "      <td>4</td>\n",
       "      <td>1</td>\n",
       "      <td>35.23</td>\n",
       "      <td>0.904281</td>\n",
       "      <td>338.62</td>\n",
       "      <td>47.80</td>\n",
       "      <td>182.59</td>\n",
       "      <td>18.78</td>\n",
       "      <td>41.45</td>\n",
       "      <td>629.24</td>\n",
       "    </tr>\n",
       "  </tbody>\n",
       "</table>\n",
       "</div>"
      ],
      "text/plain": [
       "                   First_Policy_Year  Customer_Age  Educational_Degree  \\\n",
       "Customer_Identity                                                        \n",
       "1                               1985            34                   2   \n",
       "2                               1981            21                   2   \n",
       "3                               1991            46                   1   \n",
       "4                               1990            35                   3   \n",
       "5                               1986            43                   3   \n",
       "\n",
       "                   Gross_Monthly_Salary  Geographic_Living_Area  Has_Children  \\\n",
       "Customer_Identity                                                               \n",
       "1                                  4354                       1             1   \n",
       "2                                  1353                       4             1   \n",
       "3                                  4554                       3             0   \n",
       "4                                  2197                       4             1   \n",
       "5                                  3526                       4             1   \n",
       "\n",
       "                   Customer_Monetary_Value  Claims_Rate  Premiums_Motor  \\\n",
       "Customer_Identity                                                         \n",
       "1                                   380.97     0.390032          375.85   \n",
       "2                                  -131.13     1.116503           77.46   \n",
       "3                                   504.67     0.284810          206.15   \n",
       "4                                   -16.99     0.986665          182.48   \n",
       "5                                    35.23     0.904281          338.62   \n",
       "\n",
       "                   Premiums_Household  Premiums_Health  Premiums_Life  \\\n",
       "Customer_Identity                                                       \n",
       "1                               79.45           146.36          47.01   \n",
       "2                              416.20           116.69         194.48   \n",
       "3                              224.50           124.58          86.35   \n",
       "4                               43.35           311.17          35.34   \n",
       "5                               47.80           182.59          18.78   \n",
       "\n",
       "                   Premiums_Work_Compensations  Total_Premium  \n",
       "Customer_Identity                                              \n",
       "1                                        16.89         665.56  \n",
       "2                                       106.13         910.96  \n",
       "3                                        99.02         740.60  \n",
       "4                                        28.34         600.68  \n",
       "5                                        41.45         629.24  "
      ]
     },
     "execution_count": 138,
     "metadata": {},
     "output_type": "execute_result"
    }
   ],
   "source": [
    "df2.head()"
   ]
  },
  {
   "cell_type": "markdown",
   "metadata": {},
   "source": [
    "## PCA (Principle Component Analysis) Projection to 2D\n",
    "The original data has 4 columns ('Customer_Age','First_Policy_Year','Total_Premium', and 'Customer_Monetary_Value'). In this section, the code projects the original data which is 4 dimensional into 2 dimensions. We should note that after dimensionality reduction, there usually isn’t a particular meaning assigned to each principal component. The new components are just the two main dimensions of variation."
   ]
  },
  {
   "cell_type": "code",
   "execution_count": 139,
   "metadata": {},
   "outputs": [],
   "source": [
    "from sklearn.decomposition import PCA"
   ]
  },
  {
   "cell_type": "code",
   "execution_count": 203,
   "metadata": {},
   "outputs": [
    {
     "data": {
      "text/plain": [
       "array([[ 1.06967264e+00,  1.84062260e-02, -5.80504488e-01,\n",
       "         3.64527211e-01, -6.24662182e-01],\n",
       "       [ 2.52248365e+00,  1.82987260e-01,  1.00515863e+00,\n",
       "        -6.14405877e-01,  9.53223521e-02],\n",
       "       [-1.33662809e-01,  1.65354967e+00, -3.75779691e-01,\n",
       "         5.54809873e-01, -1.71520927e+00],\n",
       "       ...,\n",
       "       [ 1.66404389e-01, -6.34949531e-01, -1.19665005e+00,\n",
       "         6.71173215e-01,  2.07370341e-01],\n",
       "       [ 1.27670568e+00,  9.07074267e-01,  1.84263038e-01,\n",
       "        -8.95827337e-04, -1.23121871e+00],\n",
       "       [ 1.69721006e-01, -1.45976643e+00, -1.29418807e+00,\n",
       "         5.95822378e-01,  1.08693238e+00]])"
      ]
     },
     "execution_count": 203,
     "metadata": {},
     "output_type": "execute_result"
    }
   ],
   "source": [
    "pca = PCA(n_components=5)\n",
    "pca.fit_transform(x)\n",
    "# principalDf = pd.DataFrame(data = Demography_Data\n",
    "#              , columns = ['Demography_Data_1', 'Demography_Data_2'])"
   ]
  },
  {
   "cell_type": "code",
   "execution_count": 206,
   "metadata": {},
   "outputs": [
    {
     "data": {
      "text/plain": [
       "array([0.3332295 , 0.16768635, 0.16270414, 0.12225667, 0.11780344])"
      ]
     },
     "execution_count": 206,
     "metadata": {},
     "output_type": "execute_result"
    }
   ],
   "source": [
    "pca.explained_variance_ratio_"
   ]
  },
  {
   "cell_type": "code",
   "execution_count": 195,
   "metadata": {},
   "outputs": [
    {
     "data": {
      "text/plain": [
       "array([[-0.21149629, -0.77090611,  0.10437149, ..., -0.79951604,\n",
       "        -0.60237827, -0.32613392],\n",
       "       [ 0.30358712,  1.13265922, -0.15882196, ..., -1.54718859,\n",
       "        -0.60237827, -1.85097385],\n",
       "       [-0.05399075, -1.04662055,  0.16794703, ..., -0.10935677,\n",
       "        -1.85964294, -0.2245118 ],\n",
       "       ...,\n",
       "       [-0.14710037, -1.23914495,  0.17793306, ..., -0.45443641,\n",
       "         0.6548864 ,  0.42637789],\n",
       "       [ 0.01804536, -0.10265942,  0.03708525, ..., -0.51194968,\n",
       "        -1.85964294, -0.5359836 ],\n",
       "       [-0.20310047, -1.08531333,  0.14691622, ..., -0.74200277,\n",
       "         1.91215107,  0.32221521]])"
      ]
     },
     "execution_count": 195,
     "metadata": {},
     "output_type": "execute_result"
    }
   ],
   "source": [
    "x"
   ]
  },
  {
   "cell_type": "code",
   "execution_count": 143,
   "metadata": {},
   "outputs": [],
   "source": [
    "principalDf.index=df2[['Customer_Age']].index"
   ]
  },
  {
   "cell_type": "code",
   "execution_count": 144,
   "metadata": {},
   "outputs": [],
   "source": [
    "finalDf = pd.concat([principalDf, df2[['Customer_Age']]], axis = 1)"
   ]
  },
  {
   "cell_type": "code",
   "execution_count": 145,
   "metadata": {},
   "outputs": [
    {
     "data": {
      "text/html": [
       "<div>\n",
       "<style scoped>\n",
       "    .dataframe tbody tr th:only-of-type {\n",
       "        vertical-align: middle;\n",
       "    }\n",
       "\n",
       "    .dataframe tbody tr th {\n",
       "        vertical-align: top;\n",
       "    }\n",
       "\n",
       "    .dataframe thead th {\n",
       "        text-align: right;\n",
       "    }\n",
       "</style>\n",
       "<table border=\"1\" class=\"dataframe\">\n",
       "  <thead>\n",
       "    <tr style=\"text-align: right;\">\n",
       "      <th></th>\n",
       "      <th>Demography_Data_1</th>\n",
       "      <th>Demography_Data_2</th>\n",
       "      <th>Customer_Age</th>\n",
       "    </tr>\n",
       "    <tr>\n",
       "      <th>Customer_Identity</th>\n",
       "      <th></th>\n",
       "      <th></th>\n",
       "      <th></th>\n",
       "    </tr>\n",
       "  </thead>\n",
       "  <tbody>\n",
       "    <tr>\n",
       "      <th>1</th>\n",
       "      <td>1.069673</td>\n",
       "      <td>0.018406</td>\n",
       "      <td>34</td>\n",
       "    </tr>\n",
       "    <tr>\n",
       "      <th>2</th>\n",
       "      <td>2.522484</td>\n",
       "      <td>0.182987</td>\n",
       "      <td>21</td>\n",
       "    </tr>\n",
       "    <tr>\n",
       "      <th>3</th>\n",
       "      <td>-0.133663</td>\n",
       "      <td>1.653550</td>\n",
       "      <td>46</td>\n",
       "    </tr>\n",
       "    <tr>\n",
       "      <th>4</th>\n",
       "      <td>1.459278</td>\n",
       "      <td>-0.959605</td>\n",
       "      <td>35</td>\n",
       "    </tr>\n",
       "    <tr>\n",
       "      <th>5</th>\n",
       "      <td>0.764789</td>\n",
       "      <td>-0.869367</td>\n",
       "      <td>43</td>\n",
       "    </tr>\n",
       "  </tbody>\n",
       "</table>\n",
       "</div>"
      ],
      "text/plain": [
       "                   Demography_Data_1  Demography_Data_2  Customer_Age\n",
       "Customer_Identity                                                    \n",
       "1                           1.069673           0.018406            34\n",
       "2                           2.522484           0.182987            21\n",
       "3                          -0.133663           1.653550            46\n",
       "4                           1.459278          -0.959605            35\n",
       "5                           0.764789          -0.869367            43"
      ]
     },
     "execution_count": 145,
     "metadata": {},
     "output_type": "execute_result"
    }
   ],
   "source": [
    "finalDf.head()"
   ]
  },
  {
   "cell_type": "code",
   "execution_count": 179,
   "metadata": {},
   "outputs": [
    {
     "data": {
      "image/png": "[encoded data removed]",
      "text/plain": [
       "<matplotlib.figure.Figure at 0x18d45f60860>"
      ]
     },
     "metadata": {},
     "output_type": "display_data"
    }
   ],
   "source": [
    "%matplotlib inline\n",
    "colors = ['r', 'g', 'b', 'y', 'c', 'm']\n",
    "ax = finalDf.plot(kind='scatter', x='Demography_Data_1', y='Demography_Data_2', figsize=(10,8))\n",
    "#for i,idn in enumerate(finalDf.index):\n",
    "   # ax.annotate(idn, (finalDf.iloc[i].Demography_Data_1, finalDf.iloc[i].Demography_Data_2))"
   ]
  },
  {
   "cell_type": "code",
   "execution_count": null,
   "metadata": {},
   "outputs": [],
   "source": []
  },
  {
   "cell_type": "markdown",
   "metadata": {},
   "source": [
    "## Visualize 2D Projection\n",
    "This section is just plotting 2 dimensional data. Notice on the graph below that the classes seem well separated from each other"
   ]
  },
  {
   "cell_type": "code",
   "execution_count": 180,
   "metadata": {},
   "outputs": [
    {
     "data": {
      "image/png": "[encoded data removed]",
      "text/plain": [
       "<matplotlib.figure.Figure at 0x18d45fd7c18>"
      ]
     },
     "metadata": {},
     "output_type": "display_data"
    }
   ],
   "source": [
    "# K-Means Clustering\n",
    "\n",
    "X=principalDf.values\n",
    "\n",
    "# Using the elbow method to find  the optimal number of clusters\n",
    "from sklearn.cluster import KMeans\n",
    "wcss = []\n",
    "for i in range(1, 11):\n",
    "    kmeans=KMeans(n_clusters=i, init='k-means++', max_iter= 300, n_init= 10, random_state= 0)\n",
    "    kmeans.fit(X)\n",
    "    wcss.append(kmeans.inertia_)\n",
    "plt.plot(range(1, 11),wcss)\n",
    "plt.title('The Elbow Method')\n",
    "plt.xlabel('Number of clusters K')\n",
    "plt.ylabel('Average Within-Cluster distance to Centroid (WCSS)')  \n",
    "plt.show()\n",
    "\n",
    "\n"
   ]
  },
  {
   "cell_type": "code",
   "execution_count": 181,
   "metadata": {},
   "outputs": [],
   "source": [
    "# Applying k-means to the mall dataset\n",
    "kmeans=KMeans(n_clusters=6, init='k-means++', max_iter= 300, n_init= 10, random_state= 0)\n",
    "y_kmeans=kmeans.fit_predict(X)"
   ]
  },
  {
   "cell_type": "code",
   "execution_count": 182,
   "metadata": {},
   "outputs": [
    {
     "data": {
      "image/png": "[encoded data removed]",
      "text/plain": [
       "<matplotlib.figure.Figure at 0x18d43808630>"
      ]
     },
     "metadata": {},
     "output_type": "display_data"
    }
   ],
   "source": [
    "# Visualizing the clusters\n",
    "fig, ax = plt.subplots(figsize = (10,8))\n",
    "plt.scatter(X[y_kmeans == 0, 0], X[y_kmeans == 0, 1], s = 100, c = 'red')\n",
    "plt.scatter(X[y_kmeans == 2, 0], X[y_kmeans == 2, 1], s = 100, c = 'green')\n",
    "plt.scatter(X[y_kmeans == 1, 0], X[y_kmeans == 1, 1], s = 100, c = 'blue')\n",
    "\n",
    "plt.scatter(kmeans.cluster_centers_[:, 0], kmeans.cluster_centers_[:, 1], s = 250, c = 'yellow', \n",
    "            label='Centroids')\n",
    "\n",
    "plt.legend()\n",
    "plt.show()"
   ]
  },
  {
   "cell_type": "code",
   "execution_count": 161,
   "metadata": {},
   "outputs": [
    {
     "data": {
      "text/plain": [
       "Index(['Total_Premium', 'Claims_Rate', 'Customer_Monetary_Value',\n",
       "       'Has_Children', 'Customer_Age', 'Educational_Degree',\n",
       "       'Gross_Monthly_Salary'],\n",
       "      dtype='object')"
      ]
     },
     "execution_count": 161,
     "metadata": {},
     "output_type": "execute_result"
    }
   ],
   "source": [
    "Demo_Data.columns"
   ]
  },
  {
   "cell_type": "code",
   "execution_count": 173,
   "metadata": {},
   "outputs": [
    {
     "data": {
      "text/plain": [
       "<matplotlib.collections.PathCollection at 0x18d48747f28>"
      ]
     },
     "execution_count": 173,
     "metadata": {},
     "output_type": "execute_result"
    },
    {
     "data": {
      "image/png": "[encoded data removed]",
      "text/plain": [
       "<matplotlib.figure.Figure at 0x18d448d5710>"
      ]
     },
     "metadata": {},
     "output_type": "display_data"
    }
   ],
   "source": [
    "# Getting the values and plotting it\n",
    "fig, ax = plt.subplots(figsize = (10,8))\n",
    "colors = ['r', 'g', 'b', 'y', 'c', 'm']\n",
    "f1 = Demo_Data['Total_Premium'].values\n",
    "f2 = Demo_Data['Has_Children'].values\n",
    "f3 = Demo_Data['Gross_Monthly_Salary'].values\n",
    "\n",
    "f4 = Demo_Data['Educational_Degree'].values\n",
    "\n",
    "X = np.array(list(zip(f1, f2,f3,f4)))\n",
    "plt.scatter(f1, f2,f3,f4)"
   ]
  },
  {
   "cell_type": "code",
   "execution_count": 174,
   "metadata": {},
   "outputs": [
    {
     "data": {
      "image/png": "[encoded data removed]",
      "text/plain": [
       "<matplotlib.figure.Figure at 0x18d4876dc50>"
      ]
     },
     "metadata": {},
     "output_type": "display_data"
    }
   ],
   "source": [
    "# Create canvas\n",
    "fig, ax = plt.subplots(figsize=(10,8))\n",
    "\n",
    "# Visualizing the clusters\n",
    "ax.scatter(principalDf.values[y_kmeans == 0, 0], principalDf.values[y_kmeans == 0, 1], s = 100, c = 'red', label='Careful(c1)')\n",
    "ax.scatter(principalDf.values[y_kmeans == 2, 0], principalDf.values[y_kmeans == 2, 1], s = 100, c = 'green', label='Standard(c2)')\n",
    "ax.scatter(principalDf.values[y_kmeans == 1, 0], principalDf.values[y_kmeans == 1, 1], s = 100, c = 'blue', label='Target(c3)')\n",
    "ax.scatter(kmeans.cluster_centers_[:, 0], kmeans.cluster_centers_[:, 1], s = 250, c = 'yellow', \n",
    "            label='Centroids')\n",
    "\n",
    "ax.set(title='Clusters of customer',\n",
    "       xlabel='Gross Salary',\n",
    "       ylabel='Customer Age',)\n",
    "ax.legend()\n",
    "plt.show()"
   ]
  },
  {
   "cell_type": "markdown",
   "metadata": {},
   "source": [
    "## See the correlations between variables \n",
    "This significant to make the decision for the selection of appropriate columns for clustering. "
   ]
  },
  {
   "cell_type": "code",
   "execution_count": 177,
   "metadata": {},
   "outputs": [
    {
     "data": {
      "text/plain": [
       "<matplotlib.axes._subplots.AxesSubplot at 0x18d44a59160>"
      ]
     },
     "execution_count": 177,
     "metadata": {},
     "output_type": "execute_result"
    },
    {
     "data": {
      "image/png": "[encoded data removed]",
      "text/plain": [
       "<matplotlib.figure.Figure at 0x18d45eb3048>"
      ]
     },
     "metadata": {},
     "output_type": "display_data"
    }
   ],
   "source": [
    "fig, ax = plt.subplots(figsize=(15,10))\n",
    "# calculate the correlation matrix\n",
    "corr = df2.corr()\n",
    "\n",
    "# plot the heatmap\n",
    "sns.heatmap(corr, \n",
    "        xticklabels=corr.columns,\n",
    "        yticklabels=corr.columns, annot = True, vmin=-1,vmax=1)\n"
   ]
  },
  {
   "cell_type": "code",
   "execution_count": null,
   "metadata": {},
   "outputs": [],
   "source": []
  },
  {
   "cell_type": "code",
   "execution_count": 38,
   "metadata": {},
   "outputs": [
    {
     "data": {
      "text/html": [
       "<div>\n",
       "<style scoped>\n",
       "    .dataframe tbody tr th:only-of-type {\n",
       "        vertical-align: middle;\n",
       "    }\n",
       "\n",
       "    .dataframe tbody tr th {\n",
       "        vertical-align: top;\n",
       "    }\n",
       "\n",
       "    .dataframe thead th {\n",
       "        text-align: right;\n",
       "    }\n",
       "</style>\n",
       "<table border=\"1\" class=\"dataframe\">\n",
       "  <thead>\n",
       "    <tr style=\"text-align: right;\">\n",
       "      <th></th>\n",
       "      <th>First_Policy_Year</th>\n",
       "      <th>Customer_Age</th>\n",
       "      <th>Gross_Monthly_Salary</th>\n",
       "      <th>Geographic_Living_Area</th>\n",
       "      <th>Has_Children</th>\n",
       "      <th>Customer_Monetary_Value</th>\n",
       "      <th>Claims_Rate</th>\n",
       "      <th>Premiums_Motor</th>\n",
       "      <th>Premiums_Household</th>\n",
       "      <th>Premiums_Health</th>\n",
       "      <th>Premiums_Life</th>\n",
       "      <th>Premiums_Work_Compensations</th>\n",
       "      <th>Total_Premium</th>\n",
       "    </tr>\n",
       "  </thead>\n",
       "  <tbody>\n",
       "    <tr>\n",
       "      <th>First_Policy_Year</th>\n",
       "      <td>1.000000</td>\n",
       "      <td>0.018418</td>\n",
       "      <td>0.022929</td>\n",
       "      <td>-0.005240</td>\n",
       "      <td>-0.012586</td>\n",
       "      <td>-0.003512</td>\n",
       "      <td>-0.009910</td>\n",
       "      <td>-0.005845</td>\n",
       "      <td>-0.009454</td>\n",
       "      <td>0.000225</td>\n",
       "      <td>0.010828</td>\n",
       "      <td>0.017400</td>\n",
       "      <td>-0.006491</td>\n",
       "    </tr>\n",
       "    <tr>\n",
       "      <th>Customer_Age</th>\n",
       "      <td>0.018418</td>\n",
       "      <td>1.000000</td>\n",
       "      <td>0.923388</td>\n",
       "      <td>0.014045</td>\n",
       "      <td>-0.489988</td>\n",
       "      <td>-0.003903</td>\n",
       "      <td>-0.004136</td>\n",
       "      <td>0.174216</td>\n",
       "      <td>-0.169839</td>\n",
       "      <td>-0.005063</td>\n",
       "      <td>-0.258535</td>\n",
       "      <td>-0.232537</td>\n",
       "      <td>-0.102404</td>\n",
       "    </tr>\n",
       "    <tr>\n",
       "      <th>Gross_Monthly_Salary</th>\n",
       "      <td>0.022929</td>\n",
       "      <td>0.923388</td>\n",
       "      <td>1.000000</td>\n",
       "      <td>0.009072</td>\n",
       "      <td>-0.460878</td>\n",
       "      <td>-0.004304</td>\n",
       "      <td>-0.006921</td>\n",
       "      <td>0.163379</td>\n",
       "      <td>-0.156406</td>\n",
       "      <td>-0.003455</td>\n",
       "      <td>-0.239253</td>\n",
       "      <td>-0.213862</td>\n",
       "      <td>-0.092312</td>\n",
       "    </tr>\n",
       "    <tr>\n",
       "      <th>Geographic_Living_Area</th>\n",
       "      <td>-0.005240</td>\n",
       "      <td>0.014045</td>\n",
       "      <td>0.009072</td>\n",
       "      <td>1.000000</td>\n",
       "      <td>-0.021951</td>\n",
       "      <td>-0.005800</td>\n",
       "      <td>0.001416</td>\n",
       "      <td>0.001112</td>\n",
       "      <td>0.010968</td>\n",
       "      <td>-0.000038</td>\n",
       "      <td>0.012936</td>\n",
       "      <td>0.003829</td>\n",
       "      <td>0.010290</td>\n",
       "    </tr>\n",
       "    <tr>\n",
       "      <th>Has_Children</th>\n",
       "      <td>-0.012586</td>\n",
       "      <td>-0.489988</td>\n",
       "      <td>-0.460878</td>\n",
       "      <td>-0.021951</td>\n",
       "      <td>1.000000</td>\n",
       "      <td>-0.000866</td>\n",
       "      <td>-0.025147</td>\n",
       "      <td>0.154916</td>\n",
       "      <td>-0.062665</td>\n",
       "      <td>-0.061623</td>\n",
       "      <td>-0.112430</td>\n",
       "      <td>-0.081887</td>\n",
       "      <td>-0.036930</td>\n",
       "    </tr>\n",
       "    <tr>\n",
       "      <th>Customer_Monetary_Value</th>\n",
       "      <td>-0.003512</td>\n",
       "      <td>-0.003903</td>\n",
       "      <td>-0.004304</td>\n",
       "      <td>-0.005800</td>\n",
       "      <td>-0.000866</td>\n",
       "      <td>1.000000</td>\n",
       "      <td>-0.136795</td>\n",
       "      <td>0.033618</td>\n",
       "      <td>0.032664</td>\n",
       "      <td>0.000649</td>\n",
       "      <td>0.010704</td>\n",
       "      <td>0.020636</td>\n",
       "      <td>0.042819</td>\n",
       "    </tr>\n",
       "    <tr>\n",
       "      <th>Claims_Rate</th>\n",
       "      <td>-0.009910</td>\n",
       "      <td>-0.004136</td>\n",
       "      <td>-0.006921</td>\n",
       "      <td>0.001416</td>\n",
       "      <td>-0.025147</td>\n",
       "      <td>-0.136795</td>\n",
       "      <td>1.000000</td>\n",
       "      <td>-0.078790</td>\n",
       "      <td>-0.020049</td>\n",
       "      <td>0.064067</td>\n",
       "      <td>0.060296</td>\n",
       "      <td>0.044181</td>\n",
       "      <td>0.001830</td>\n",
       "    </tr>\n",
       "    <tr>\n",
       "      <th>Premiums_Motor</th>\n",
       "      <td>-0.005845</td>\n",
       "      <td>0.174216</td>\n",
       "      <td>0.163379</td>\n",
       "      <td>0.001112</td>\n",
       "      <td>0.154916</td>\n",
       "      <td>0.033618</td>\n",
       "      <td>-0.078790</td>\n",
       "      <td>1.000000</td>\n",
       "      <td>-0.276467</td>\n",
       "      <td>-0.074054</td>\n",
       "      <td>-0.404709</td>\n",
       "      <td>-0.348496</td>\n",
       "      <td>0.114456</td>\n",
       "    </tr>\n",
       "    <tr>\n",
       "      <th>Premiums_Household</th>\n",
       "      <td>-0.009454</td>\n",
       "      <td>-0.169839</td>\n",
       "      <td>-0.156406</td>\n",
       "      <td>0.010968</td>\n",
       "      <td>-0.062665</td>\n",
       "      <td>0.032664</td>\n",
       "      <td>-0.020049</td>\n",
       "      <td>-0.276467</td>\n",
       "      <td>1.000000</td>\n",
       "      <td>0.022566</td>\n",
       "      <td>0.260407</td>\n",
       "      <td>0.240479</td>\n",
       "      <td>0.683546</td>\n",
       "    </tr>\n",
       "    <tr>\n",
       "      <th>Premiums_Health</th>\n",
       "      <td>0.000225</td>\n",
       "      <td>-0.005063</td>\n",
       "      <td>-0.003455</td>\n",
       "      <td>-0.000038</td>\n",
       "      <td>-0.061623</td>\n",
       "      <td>0.000649</td>\n",
       "      <td>0.064067</td>\n",
       "      <td>-0.074054</td>\n",
       "      <td>0.022566</td>\n",
       "      <td>1.000000</td>\n",
       "      <td>0.023913</td>\n",
       "      <td>0.076310</td>\n",
       "      <td>0.632670</td>\n",
       "    </tr>\n",
       "    <tr>\n",
       "      <th>Premiums_Life</th>\n",
       "      <td>0.010828</td>\n",
       "      <td>-0.258535</td>\n",
       "      <td>-0.239253</td>\n",
       "      <td>0.012936</td>\n",
       "      <td>-0.112430</td>\n",
       "      <td>0.010704</td>\n",
       "      <td>0.060296</td>\n",
       "      <td>-0.404709</td>\n",
       "      <td>0.260407</td>\n",
       "      <td>0.023913</td>\n",
       "      <td>1.000000</td>\n",
       "      <td>0.340102</td>\n",
       "      <td>0.164617</td>\n",
       "    </tr>\n",
       "    <tr>\n",
       "      <th>Premiums_Work_Compensations</th>\n",
       "      <td>0.017400</td>\n",
       "      <td>-0.232537</td>\n",
       "      <td>-0.213862</td>\n",
       "      <td>0.003829</td>\n",
       "      <td>-0.081887</td>\n",
       "      <td>0.020636</td>\n",
       "      <td>0.044181</td>\n",
       "      <td>-0.348496</td>\n",
       "      <td>0.240479</td>\n",
       "      <td>0.076310</td>\n",
       "      <td>0.340102</td>\n",
       "      <td>1.000000</td>\n",
       "      <td>0.213704</td>\n",
       "    </tr>\n",
       "    <tr>\n",
       "      <th>Total_Premium</th>\n",
       "      <td>-0.006491</td>\n",
       "      <td>-0.102404</td>\n",
       "      <td>-0.092312</td>\n",
       "      <td>0.010290</td>\n",
       "      <td>-0.036930</td>\n",
       "      <td>0.042819</td>\n",
       "      <td>0.001830</td>\n",
       "      <td>0.114456</td>\n",
       "      <td>0.683546</td>\n",
       "      <td>0.632670</td>\n",
       "      <td>0.164617</td>\n",
       "      <td>0.213704</td>\n",
       "      <td>1.000000</td>\n",
       "    </tr>\n",
       "  </tbody>\n",
       "</table>\n",
       "</div>"
      ],
      "text/plain": [
       "                             First_Policy_Year  Customer_Age  \\\n",
       "First_Policy_Year                     1.000000      0.018418   \n",
       "Customer_Age                          0.018418      1.000000   \n",
       "Gross_Monthly_Salary                  0.022929      0.923388   \n",
       "Geographic_Living_Area               -0.005240      0.014045   \n",
       "Has_Children                         -0.012586     -0.489988   \n",
       "Customer_Monetary_Value              -0.003512     -0.003903   \n",
       "Claims_Rate                          -0.009910     -0.004136   \n",
       "Premiums_Motor                       -0.005845      0.174216   \n",
       "Premiums_Household                   -0.009454     -0.169839   \n",
       "Premiums_Health                       0.000225     -0.005063   \n",
       "Premiums_Life                         0.010828     -0.258535   \n",
       "Premiums_Work_Compensations           0.017400     -0.232537   \n",
       "Total_Premium                        -0.006491     -0.102404   \n",
       "\n",
       "                             Gross_Monthly_Salary  Geographic_Living_Area  \\\n",
       "First_Policy_Year                        0.022929               -0.005240   \n",
       "Customer_Age                             0.923388                0.014045   \n",
       "Gross_Monthly_Salary                     1.000000                0.009072   \n",
       "Geographic_Living_Area                   0.009072                1.000000   \n",
       "Has_Children                            -0.460878               -0.021951   \n",
       "Customer_Monetary_Value                 -0.004304               -0.005800   \n",
       "Claims_Rate                             -0.006921                0.001416   \n",
       "Premiums_Motor                           0.163379                0.001112   \n",
       "Premiums_Household                      -0.156406                0.010968   \n",
       "Premiums_Health                         -0.003455               -0.000038   \n",
       "Premiums_Life                           -0.239253                0.012936   \n",
       "Premiums_Work_Compensations             -0.213862                0.003829   \n",
       "Total_Premium                           -0.092312                0.010290   \n",
       "\n",
       "                             Has_Children  Customer_Monetary_Value  \\\n",
       "First_Policy_Year               -0.012586                -0.003512   \n",
       "Customer_Age                    -0.489988                -0.003903   \n",
       "Gross_Monthly_Salary            -0.460878                -0.004304   \n",
       "Geographic_Living_Area          -0.021951                -0.005800   \n",
       "Has_Children                     1.000000                -0.000866   \n",
       "Customer_Monetary_Value         -0.000866                 1.000000   \n",
       "Claims_Rate                     -0.025147                -0.136795   \n",
       "Premiums_Motor                   0.154916                 0.033618   \n",
       "Premiums_Household              -0.062665                 0.032664   \n",
       "Premiums_Health                 -0.061623                 0.000649   \n",
       "Premiums_Life                   -0.112430                 0.010704   \n",
       "Premiums_Work_Compensations     -0.081887                 0.020636   \n",
       "Total_Premium                   -0.036930                 0.042819   \n",
       "\n",
       "                             Claims_Rate  Premiums_Motor  Premiums_Household  \\\n",
       "First_Policy_Year              -0.009910       -0.005845           -0.009454   \n",
       "Customer_Age                   -0.004136        0.174216           -0.169839   \n",
       "Gross_Monthly_Salary           -0.006921        0.163379           -0.156406   \n",
       "Geographic_Living_Area          0.001416        0.001112            0.010968   \n",
       "Has_Children                   -0.025147        0.154916           -0.062665   \n",
       "Customer_Monetary_Value        -0.136795        0.033618            0.032664   \n",
       "Claims_Rate                     1.000000       -0.078790           -0.020049   \n",
       "Premiums_Motor                 -0.078790        1.000000           -0.276467   \n",
       "Premiums_Household             -0.020049       -0.276467            1.000000   \n",
       "Premiums_Health                 0.064067       -0.074054            0.022566   \n",
       "Premiums_Life                   0.060296       -0.404709            0.260407   \n",
       "Premiums_Work_Compensations     0.044181       -0.348496            0.240479   \n",
       "Total_Premium                   0.001830        0.114456            0.683546   \n",
       "\n",
       "                             Premiums_Health  Premiums_Life  \\\n",
       "First_Policy_Year                   0.000225       0.010828   \n",
       "Customer_Age                       -0.005063      -0.258535   \n",
       "Gross_Monthly_Salary               -0.003455      -0.239253   \n",
       "Geographic_Living_Area             -0.000038       0.012936   \n",
       "Has_Children                       -0.061623      -0.112430   \n",
       "Customer_Monetary_Value             0.000649       0.010704   \n",
       "Claims_Rate                         0.064067       0.060296   \n",
       "Premiums_Motor                     -0.074054      -0.404709   \n",
       "Premiums_Household                  0.022566       0.260407   \n",
       "Premiums_Health                     1.000000       0.023913   \n",
       "Premiums_Life                       0.023913       1.000000   \n",
       "Premiums_Work_Compensations         0.076310       0.340102   \n",
       "Total_Premium                       0.632670       0.164617   \n",
       "\n",
       "                             Premiums_Work_Compensations  Total_Premium  \n",
       "First_Policy_Year                               0.017400      -0.006491  \n",
       "Customer_Age                                   -0.232537      -0.102404  \n",
       "Gross_Monthly_Salary                           -0.213862      -0.092312  \n",
       "Geographic_Living_Area                          0.003829       0.010290  \n",
       "Has_Children                                   -0.081887      -0.036930  \n",
       "Customer_Monetary_Value                         0.020636       0.042819  \n",
       "Claims_Rate                                     0.044181       0.001830  \n",
       "Premiums_Motor                                 -0.348496       0.114456  \n",
       "Premiums_Household                              0.240479       0.683546  \n",
       "Premiums_Health                                 0.076310       0.632670  \n",
       "Premiums_Life                                   0.340102       0.164617  \n",
       "Premiums_Work_Compensations                     1.000000       0.213704  \n",
       "Total_Premium                                   0.213704       1.000000  "
      ]
     },
     "execution_count": 38,
     "metadata": {},
     "output_type": "execute_result"
    }
   ],
   "source": [
    "df2.corr(method='pearson', min_periods=1)"
   ]
  },
  {
   "cell_type": "code",
   "execution_count": null,
   "metadata": {},
   "outputs": [],
   "source": [
    "\n"
   ]
  },
  {
   "cell_type": "code",
   "execution_count": 39,
   "metadata": {},
   "outputs": [
    {
     "data": {
      "text/plain": [
       "<matplotlib.image.AxesImage at 0x18d415f3240>"
      ]
     },
     "execution_count": 39,
     "metadata": {},
     "output_type": "execute_result"
    },
    {
     "data": {
      "image/png": "[encoded data removed]",
      "text/plain": [
       "<matplotlib.figure.Figure at 0x18d415bc828>"
      ]
     },
     "metadata": {},
     "output_type": "display_data"
    }
   ],
   "source": [
    "fig, ax = plt.subplots(figsize=(15,10))\n",
    "ax.matshow(df2.corr())"
   ]
  },
  {
   "cell_type": "code",
   "execution_count": 69,
   "metadata": {},
   "outputs": [
    {
     "data": {
      "image/png": "[encoded data removed]",
      "text/plain": [
       "<matplotlib.figure.Figure at 0x18d41639e80>"
      ]
     },
     "metadata": {},
     "output_type": "display_data"
    }
   ],
   "source": [
    "wcss =[]\n",
    "for i in range(1,10):\n",
    "    kmeans  = KMeans(n_clusters = i, init = 'k-means++', random_state = 0)\n",
    "    kmeans.fit(finalDf)\n",
    "    wcss.append(kmeans.inertia_)\n",
    "     \n",
    "plt.plot(range(1,10), wcss)\n",
    "plt.title('Elbow Method')\n",
    "plt.xlabel('Number of clusters')\n",
    "plt.ylabel('wcss')\n",
    "plt.show()"
   ]
  },
  {
   "cell_type": "markdown",
   "metadata": {},
   "source": [
    "### Find the optimal number of clusters"
   ]
  },
  {
   "cell_type": "code",
   "execution_count": 41,
   "metadata": {},
   "outputs": [],
   "source": [
    "# Applying k-means to the mall dataset\n",
    "kmeans=KMeans(n_clusters=4, init='k-means++', max_iter= 300, n_init= 10, random_state= 0)\n",
    "y_kmeans=kmeans.fit_predict(finalDf)"
   ]
  },
  {
   "cell_type": "code",
   "execution_count": 43,
   "metadata": {},
   "outputs": [
    {
     "ename": "SyntaxError",
     "evalue": "invalid syntax (<ipython-input-43-276f5062c7b0>, line 11)",
     "output_type": "error",
     "traceback": [
      "\u001b[1;36m  File \u001b[1;32m\"<ipython-input-43-276f5062c7b0>\"\u001b[1;36m, line \u001b[1;32m11\u001b[0m\n\u001b[1;33m    print 't-SNE done! Time elapsed: {} seconds'.format(time.time()-time_start)\u001b[0m\n\u001b[1;37m                                               ^\u001b[0m\n\u001b[1;31mSyntaxError\u001b[0m\u001b[1;31m:\u001b[0m invalid syntax\n"
     ]
    }
   ],
   "source": [
    "import time\n",
    "\n",
    "from sklearn.manifold import TSNE\n",
    "\n",
    "n_sne = 7000\n",
    "\n",
    "time_start = time.time()\n",
    "tsne = TSNE(n_components=2, verbose=1, perplexity=40, n_iter=300)\n",
    "tsne_results = tsne.fit_transform(df2.iloc[rndperm[:n_sne],feat_cols].values)\n",
    "\n",
    "print 't-SNE done! Time elapsed: {} seconds'.format(time.time()-time_start)"
   ]
  },
  {
   "cell_type": "code",
   "execution_count": null,
   "metadata": {},
   "outputs": [],
   "source": [
    "\n",
    "\n",
    "\n",
    "\n"
   ]
  },
  {
   "cell_type": "markdown",
   "metadata": {},
   "source": [
    "## Trial 2"
   ]
  },
  {
   "cell_type": "code",
   "execution_count": null,
   "metadata": {},
   "outputs": [],
   "source": [
    "Data_Clus = df2[['Customer_Age', 'Gross_Monthly_Salary',\n",
    "       'Geographic_Living_Area', 'Has_Children', 'Total_Premium', 'Claims_Rate']]\n"
   ]
  },
  {
   "cell_type": "code",
   "execution_count": null,
   "metadata": {},
   "outputs": [],
   "source": [
    "Data_Clus.head()"
   ]
  },
  {
   "cell_type": "code",
   "execution_count": null,
   "metadata": {},
   "outputs": [],
   "source": [
    "df2.head()"
   ]
  },
  {
   "cell_type": "code",
   "execution_count": null,
   "metadata": {},
   "outputs": [],
   "source": []
  },
  {
   "cell_type": "code",
   "execution_count": null,
   "metadata": {},
   "outputs": [],
   "source": [
    "\n",
    "# Applying k-means to the mall dataset\n",
    "kmeans=KMeans(n_clusters=3, init='k-means++', max_iter= 300, n_init= 10, random_state= 0)\n",
    "y_kmeans=kmeans.fit_predict(Data_Clus)"
   ]
  },
  {
   "cell_type": "code",
   "execution_count": null,
   "metadata": {},
   "outputs": [],
   "source": [
    "# Create canvas\n",
    "fig, ax = plt.subplots(figsize=(10,8))\n",
    "\n",
    "# Visualizing the clusters\n",
    "ax.scatter(Data_Clus.values[y_kmeans == 0, 0], Data_Clus.values[y_kmeans == 0, 1], s = 100, c = 'red', label='Careful(c1)')\n",
    "ax.scatter(Data_Clus.values[y_kmeans == 2, 0], Data_Clus.values[y_kmeans == 2, 1], s = 100, c = 'green', label='Standard(c2)')\n",
    "ax.scatter(Data_Clus.values[y_kmeans == 1, 0], Data_Clus.values[y_kmeans == 1, 1], s = 100, c = 'blue', label='Target(c3)')\n",
    "ax.scatter(kmeans.cluster_centers_[:, 0], kmeans.cluster_centers_[:, 1], s = 250, c = 'yellow', \n",
    "            label='Centroids')\n",
    "\n",
    "ax.set(title='Clusters of customer',\n",
    "       xlabel='Gross Salary',\n",
    "       ylabel='Customer Age',)\n",
    "ax.legend()\n",
    "plt.show()"
   ]
  },
  {
   "cell_type": "markdown",
   "metadata": {},
   "source": [
    "## Trial 3"
   ]
  },
  {
   "cell_type": "code",
   "execution_count": null,
   "metadata": {},
   "outputs": [],
   "source": [
    "Data_Clus3 = df2[[ 'Gross_Monthly_Salary',\n",
    "       'Geographic_Living_Area', 'Has_Children', 'Total_Premium', 'Claims_Rate']]"
   ]
  },
  {
   "cell_type": "code",
   "execution_count": null,
   "metadata": {},
   "outputs": [],
   "source": []
  },
  {
   "cell_type": "code",
   "execution_count": null,
   "metadata": {},
   "outputs": [],
   "source": [
    "class KMeans:\n",
    "    def __init__(self,k):\n",
    "        self.k = k \n",
    "        selk.means = None\n",
    "        \n",
    "    def classify(self, input):\n",
    "        return min(range(self,k),\n",
    "                   key = lambda i: sqrd_distance(input, self.means[i]))\n",
    "    def train(self, inputs):\n",
    "        self.means = random.sample(inputs, self.k)\n",
    "        assignments = None\n",
    "        while true:\n",
    "            new_assignments = map(self.classify, inputs)\n",
    "            if assignments == new_assignments:return\n",
    "            "
   ]
  },
  {
   "cell_type": "code",
   "execution_count": 184,
   "metadata": {},
   "outputs": [
    {
     "data": {
      "text/plain": [
       "Index(['First_Policy_Year', 'Customer_Age', 'Educational_Degree',\n",
       "       'Gross_Monthly_Salary', 'Geographic_Living_Area', 'Has_Children',\n",
       "       'Customer_Monetary_Value', 'Claims_Rate', 'Premiums_Motor',\n",
       "       'Premiums_Household', 'Premiums_Health', 'Premiums_Life',\n",
       "       'Premiums_Work_Compensations', 'Total_Premium'],\n",
       "      dtype='object')"
      ]
     },
     "execution_count": 184,
     "metadata": {},
     "output_type": "execute_result"
    }
   ],
   "source": [
    "df2.columns"
   ]
  },
  {
   "cell_type": "markdown",
   "metadata": {},
   "source": [
    "#  Catagorization"
   ]
  },
  {
   "cell_type": "markdown",
   "metadata": {},
   "source": [
    "## Monthly Salary in based on Living Area"
   ]
  },
  {
   "cell_type": "code",
   "execution_count": 185,
   "metadata": {},
   "outputs": [
    {
     "data": {
      "image/png": "[encoded data removed]",
      "text/plain": [
       "<matplotlib.figure.Figure at 0x18d46026438>"
      ]
     },
     "metadata": {},
     "output_type": "display_data"
    }
   ],
   "source": [
    "import seaborn as sbn\n",
    "#df4=df2.head(5000)\n",
    "sbn.set_style(\"darkgrid\")\n",
    "ax = sbn.swarmplot(x= df2.Total_Premium, y = df2.Gross_Monthly_Salary , data= df2)\n",
    "plt.xticks(rotation=0)\n",
    "plt.rcParams[\"xtick.labelsize\"] = 10"
   ]
  },
  {
   "cell_type": "code",
   "execution_count": null,
   "metadata": {},
   "outputs": [],
   "source": [
    "import seaborn as sbn\n",
    "#df4=df3.head(500)\n",
    "sbn.set_style(\"darkgrid\")\n",
    "ax = sbn.swarmplot(x= df2.Geographic_Living_Area, y = df2.Premiums_Life , data= df2)\n",
    "plt.xticks(rotation=0)\n",
    "plt.rcParams[\"xtick.labelsize\"] = 10"
   ]
  },
  {
   "cell_type": "code",
   "execution_count": null,
   "metadata": {},
   "outputs": [],
   "source": [
    "import seaborn as sbn\n",
    "#df4=df3.head(500)\n",
    "sbn.set_style(\"darkgrid\")\n",
    "ax = sbn.swarmplot(x= df2.Geographic_Living_Area, y = df2.Customer_Age, data= df2)\n",
    "plt.xticks(rotation=0)\n",
    "plt.rcParams[\"xtick.labelsize\"] = 10"
   ]
  },
  {
   "cell_type": "markdown",
   "metadata": {},
   "source": [
    "### Observation: \n",
    "#### The number of people living in region 2 is the least and highest number of people belong to region 4.\n",
    "#### A close observation finds the age group patterns, < 30 , 30-55 and > 55. However, it can be divided further. "
   ]
  },
  {
   "cell_type": "code",
   "execution_count": null,
   "metadata": {},
   "outputs": [],
   "source": [
    "import seaborn as sbn\n",
    "df4=df3.head(500)\n",
    "sbn.set_style(\"darkgrid\")\n",
    "ax = sbn.swarmplot(x= df4.Geographic_Living_Area, y = df4.Claims_Rate, data= df4)\n",
    "plt.xticks(rotation=0)\n",
    "plt.rcParams[\"xtick.labelsize\"] = 5"
   ]
  },
  {
   "cell_type": "code",
   "execution_count": null,
   "metadata": {},
   "outputs": [],
   "source": [
    "import seaborn as sbn\n",
    "df4=df3.head(500)\n",
    "sbn.set_style(\"darkgrid\")\n",
    "ax = sbn.swarmplot( x = df4.Has_Children, y= df4.Customer_Age,data= df4)\n",
    "plt.xticks(rotation=0)\n",
    "plt.rcParams[\"xtick.labelsize\"] = 10"
   ]
  },
  {
   "cell_type": "markdown",
   "metadata": {},
   "source": [
    "## This result is quite important. This shows that our customer are of two types, one who has children and others who don't have children. The customers withoutout children largely do not intend to have this particular insurance until the age of 60 (Retirement). On the contrary, the customers with children has subscribed for this particular insurance before a very starting point of their carrier and largely they are interested until the age of 60. The subscriptions are counteracting to each other. "
   ]
  },
  {
   "cell_type": "code",
   "execution_count": null,
   "metadata": {},
   "outputs": [],
   "source": [
    "sns.boxplot(x = df3.Has_Children, y=df3.Claims_Rate, data=df3)"
   ]
  },
  {
   "cell_type": "markdown",
   "metadata": {},
   "source": [
    "## Customers' Gross Monthly Salary analysis based on Has_Children and Geographic_Living_Area "
   ]
  },
  {
   "cell_type": "code",
   "execution_count": null,
   "metadata": {},
   "outputs": [],
   "source": [
    "sns.boxplot(x=df3.Geographic_Living_Area, y = df3.Gross_Monthly_Salary, hue= df3.Has_Children, palette = 'husl')"
   ]
  },
  {
   "cell_type": "code",
   "execution_count": null,
   "metadata": {},
   "outputs": [],
   "source": [
    "sns.violinplot(x=df3.Geographic_Living_Area, y = df3.Gross_Monthly_Salary, hue= df3.Has_Children)"
   ]
  },
  {
   "cell_type": "code",
   "execution_count": null,
   "metadata": {},
   "outputs": [],
   "source": [
    "sns.violinplot(x=df3.Geographic_Living_Area, y = df3.Claims_Rate, hue= df3.Has_Children)"
   ]
  },
  {
   "cell_type": "code",
   "execution_count": null,
   "metadata": {},
   "outputs": [],
   "source": [
    "df3.columns"
   ]
  },
  {
   "cell_type": "code",
   "execution_count": null,
   "metadata": {},
   "outputs": [],
   "source": []
  },
  {
   "cell_type": "markdown",
   "metadata": {},
   "source": [
    "## Boxplot for one variable "
   ]
  },
  {
   "cell_type": "code",
   "execution_count": null,
   "metadata": {},
   "outputs": [],
   "source": [
    "sns.boxplot(x=df3.Customer_Age, color='#EB89B')\n",
    "plt.xticks(rotation=0)\n",
    "plt.rcParams[\"xtick.labelsize\"] = 10"
   ]
  },
  {
   "cell_type": "code",
   "execution_count": null,
   "metadata": {},
   "outputs": [],
   "source": [
    "sns.boxplot(x=df3.Claims_Rate)\n",
    "plt.xticks(rotation=0)\n",
    "plt.rcParams[\"xtick.labelsize\"] = 20\n"
   ]
  },
  {
   "cell_type": "code",
   "execution_count": null,
   "metadata": {},
   "outputs": [],
   "source": [
    "list(df.columns)\n",
    "\n",
    "df = pd.DataFrame({'a' : [1, 2, 3], 'b' : [1.1, 2.1, 3.1], 'c' : [1.1, 2.1, 3.1]})\n",
    "\n",
    "\n",
    "columns = list(df.columns)[1:]\n",
    "\n",
    "for c in columns:\n",
    "    df[c] = df[c].apply(int)\n",
    "                           \n",
    "print(df)                           "
   ]
  },
  {
   "cell_type": "code",
   "execution_count": null,
   "metadata": {},
   "outputs": [],
   "source": [
    "import seaborn as sbn\n",
    "sbn.set_style(\"whitegrid\")\n",
    "ax = sbn.swarmplot(x= \"Customer Age\", y = \"Gross Monthly Salary\" , data= data1)"
   ]
  },
  {
   "cell_type": "code",
   "execution_count": null,
   "metadata": {},
   "outputs": [],
   "source": [
    "import seaborn as sbn\n",
    "sbn.set_style(\"darkgrid\")\n",
    "#tips = sbn.data(\"tips\")\n",
    "ax = sbn.barplot(x= \"Customer Age\", y = \"Gross Monthly Salary\" , data= data1)"
   ]
  },
  {
   "cell_type": "code",
   "execution_count": null,
   "metadata": {},
   "outputs": [],
   "source": [
    "import seaborn as sbn\n",
    "sbn.set_style(\"darkgrid\")\n",
    "#tips = sbn.data(\"tips\")\n",
    "ax = sbn.violinplot(x= \"Customer Age\", y = \"Gross Monthly Salary\" , data= data1)"
   ]
  },
  {
   "cell_type": "code",
   "execution_count": null,
   "metadata": {},
   "outputs": [],
   "source": [
    "import seaborn as sns\n",
    "sns.set_style(\"darkgrid\")\n",
    "ax = sns.violinplot(x= \"Geographic Living Area\", y = \"Gross Monthly Salary\" , data= data1)"
   ]
  },
  {
   "cell_type": "code",
   "execution_count": null,
   "metadata": {},
   "outputs": [],
   "source": [
    "import seaborn as sns\n",
    "sns.set_style(\"darkgrid\")\n",
    "ax = sns.violinplot(x= \"Has Children (Y=1)\", y = \"Gross Monthly Salary\" , data= data1)"
   ]
  },
  {
   "cell_type": "code",
   "execution_count": null,
   "metadata": {},
   "outputs": [],
   "source": [
    "import seaborn as sns\n",
    "sbn.set_style(\"darkgrid\")\n",
    "#tips = sbn.data(\"tips\")\n",
    "ax = sns.violinplot(x= \"Has Children (Y=1)\", y = \"Gross Monthly Salary\" , data= data1)"
   ]
  },
  {
   "cell_type": "code",
   "execution_count": 183,
   "metadata": {},
   "outputs": [
    {
     "ename": "NameError",
     "evalue": "name 'data1' is not defined",
     "output_type": "error",
     "traceback": [
      "\u001b[1;31m---------------------------------------------------------------------------\u001b[0m",
      "\u001b[1;31mNameError\u001b[0m                                 Traceback (most recent call last)",
      "\u001b[1;32m<ipython-input-183-7a09c0683e5b>\u001b[0m in \u001b[0;36m<module>\u001b[1;34m()\u001b[0m\n\u001b[0;32m      8\u001b[0m \u001b[1;33m\u001b[0m\u001b[0m\n\u001b[0;32m      9\u001b[0m \u001b[1;31m# Draw a categorical scatterplot to show each observation\u001b[0m\u001b[1;33m\u001b[0m\u001b[1;33m\u001b[0m\u001b[0m\n\u001b[1;32m---> 10\u001b[1;33m \u001b[0msns\u001b[0m\u001b[1;33m.\u001b[0m\u001b[0mswarmplot\u001b[0m\u001b[1;33m(\u001b[0m\u001b[0my\u001b[0m\u001b[1;33m=\u001b[0m\u001b[1;34m\"Gross Monthly Salary\"\u001b[0m\u001b[1;33m,\u001b[0m \u001b[0mx\u001b[0m\u001b[1;33m=\u001b[0m\u001b[1;34m\"Customer Age\"\u001b[0m\u001b[1;33m,\u001b[0m \u001b[0mhue\u001b[0m\u001b[1;33m=\u001b[0m\u001b[1;34m\"Geographic Living Area\"\u001b[0m\u001b[1;33m,\u001b[0m \u001b[0mdata\u001b[0m\u001b[1;33m=\u001b[0m \u001b[0mdata1\u001b[0m\u001b[1;33m)\u001b[0m\u001b[1;33m\u001b[0m\u001b[0m\n\u001b[0m\u001b[0;32m     11\u001b[0m \u001b[1;31m#To visualize the x axis labels we use:\u001b[0m\u001b[1;33m\u001b[0m\u001b[1;33m\u001b[0m\u001b[0m\n\u001b[0;32m     12\u001b[0m \u001b[0mplt\u001b[0m\u001b[1;33m.\u001b[0m\u001b[0mxticks\u001b[0m\u001b[1;33m(\u001b[0m\u001b[0mrotation\u001b[0m\u001b[1;33m=\u001b[0m\u001b[1;36m90\u001b[0m\u001b[1;33m)\u001b[0m\u001b[1;33m\u001b[0m\u001b[0m\n",
      "\u001b[1;31mNameError\u001b[0m: name 'data1' is not defined"
     ]
    }
   ],
   "source": [
    "sns.set(style=\"whitegrid\", palette=\"muted\")\n",
    "\n",
    "\n",
    "\n",
    "\n",
    "# \"Melt\" the dataset to \"long-form\" or \"tidy\" representation\n",
    "#iris = pd.melt(data1, \"Customer Age\", var_name=\"Gross Monthly Salary\")\n",
    "\n",
    "# Draw a categorical scatterplot to show each observation\n",
    "sns.swarmplot(y=\"Gross Monthly Salary\", x=\"Customer Age\", hue=\"Geographic Living Area\", data= data1)\n",
    "#To visualize the x axis labels we use:\n",
    "plt.xticks(rotation=90)\n",
    "plt.rcParams[\"xtick.labelsize\"] = 10"
   ]
  },
  {
   "cell_type": "code",
   "execution_count": null,
   "metadata": {},
   "outputs": [],
   "source": [
    "sns.boxplot(data=data['Gross Monthly Salary'])"
   ]
  },
  {
   "cell_type": "code",
   "execution_count": null,
   "metadata": {},
   "outputs": [],
   "source": [
    "import seaborn as sbn\n",
    "sbn.set_style(\"whitegrid\")\n",
    "#tips = sbn.data(\"tips\")\n",
    "ax = sbn.swarmplot(x= \"Customer Age\", y = \"Gross Monthly Salary\" , data= data)"
   ]
  },
  {
   "cell_type": "code",
   "execution_count": null,
   "metadata": {},
   "outputs": [],
   "source": [
    "data.columns\n"
   ]
  },
  {
   "cell_type": "code",
   "execution_count": null,
   "metadata": {},
   "outputs": [],
   "source": [
    "import pandas as pd\n",
    "import numpy as np\n",
    "#from matplotlib.colors import Normalize, rgb2hex\n",
    "import matplotlib.pyplot as plt\n",
    "\n",
    "data = pd.read_excel('C:\\\\Users\\\\Closer\\\\Desktop\\\\Closer\\\\Imp_Doc\\\\A2Z_Insurance.xlsx', delimiter=',')\n",
    "data1 = data.head(n = 10)\n"
   ]
  },
  {
   "cell_type": "code",
   "execution_count": null,
   "metadata": {},
   "outputs": [],
   "source": [
    "data1.index\n"
   ]
  },
  {
   "cell_type": "code",
   "execution_count": null,
   "metadata": {},
   "outputs": [],
   "source": [
    "\n"
   ]
  },
  {
   "cell_type": "code",
   "execution_count": null,
   "metadata": {},
   "outputs": [],
   "source": [
    "plt.matshow(data1.corr())"
   ]
  },
  {
   "cell_type": "code",
   "execution_count": null,
   "metadata": {},
   "outputs": [],
   "source": [
    "data1.columns"
   ]
  },
  {
   "cell_type": "code",
   "execution_count": null,
   "metadata": {},
   "outputs": [],
   "source": [
    "sns.boxplot(y = data1['Customer Age'], x = data1['Has Children (Y=1)'])"
   ]
  },
  {
   "cell_type": "code",
   "execution_count": null,
   "metadata": {},
   "outputs": [],
   "source": [
    "import seaborn as sns\n",
    "corr = data1.corr()\n",
    "fig, ax = plt.subplots(figsize=(10,8))\n",
    "sns.heatmap(corr, \n",
    "            xticklabels=corr.columns.values,\n",
    "            yticklabels=corr.columns.values)"
   ]
  },
  {
   "cell_type": "code",
   "execution_count": null,
   "metadata": {},
   "outputs": [],
   "source": [
    "%matplotlib inline\n",
    "import matplotlib.pyplot as plt\n",
    "data1.hist(bins=50, figsize=(15,10), color='#AB89B5')\n",
    "plt.show()"
   ]
  },
  {
   "cell_type": "code",
   "execution_count": null,
   "metadata": {},
   "outputs": [],
   "source": []
  },
  {
   "cell_type": "code",
   "execution_count": null,
   "metadata": {},
   "outputs": [],
   "source": [
    "%matplotlib inline\n",
    "import matplotlib.pyplot as plt\n",
    "data.hist(bins=50, figsize=(15,10))\n",
    "plt.show()"
   ]
  },
  {
   "cell_type": "code",
   "execution_count": null,
   "metadata": {},
   "outputs": [],
   "source": [
    "from sklearn import svm \n",
    "clf = svm.SVM()\n",
    "clf.fit(X,y)"
   ]
  },
  {
   "cell_type": "markdown",
   "metadata": {},
   "source": [
    "## Claim_Rate based on Geographyc_Living_Area"
   ]
  },
  {
   "cell_type": "code",
   "execution_count": null,
   "metadata": {},
   "outputs": [],
   "source": [
    "df2.info()"
   ]
  },
  {
   "cell_type": "markdown",
   "metadata": {},
   "source": [
    "## Data Filtering "
   ]
  },
  {
   "cell_type": "code",
   "execution_count": null,
   "metadata": {},
   "outputs": [],
   "source": [
    "#Region based\n",
    "df2_GLA_1= df2[df2.Geographic_Living_Area == 1]\n",
    "df2_GLA_2= df2[df2.Geographic_Living_Area == 2]\n",
    "df2_GLA_3= df2[df2.Geographic_Living_Area == 3]\n",
    "df2_GLA_4= df2[df2.Geographic_Living_Area == 4]"
   ]
  },
  {
   "cell_type": "code",
   "execution_count": null,
   "metadata": {},
   "outputs": [],
   "source": [
    "#based in children\n",
    "df2_No_Child = df2[df2.Has_Children == 0]\n",
    "df2_Yes_Child = [df2.Has_Children == 1]"
   ]
  },
  {
   "cell_type": "code",
   "execution_count": null,
   "metadata": {},
   "outputs": [],
   "source": [
    "df2[df2.Customer_Monetary_Value > 0].info()"
   ]
  },
  {
   "cell_type": "code",
   "execution_count": null,
   "metadata": {},
   "outputs": [],
   "source": []
  },
  {
   "cell_type": "code",
   "execution_count": null,
   "metadata": {},
   "outputs": [],
   "source": []
  },
  {
   "cell_type": "code",
   "execution_count": null,
   "metadata": {},
   "outputs": [],
   "source": []
  },
  {
   "cell_type": "code",
   "execution_count": null,
   "metadata": {},
   "outputs": [],
   "source": [
    "df3.columns\n"
   ]
  },
  {
   "cell_type": "code",
   "execution_count": null,
   "metadata": {},
   "outputs": [],
   "source": [
    "sns.barplot(x= df3.Geographic_Living_Area, y = df3.Claims_Rate)"
   ]
  },
  {
   "cell_type": "code",
   "execution_count": null,
   "metadata": {},
   "outputs": [],
   "source": [
    "#The violin plot features a kernel density estimation of the underlying distribution.\n",
    "import seaborn as sns\n",
    "sns.set(style=\"whitegrid\", palette=\"pastel\", color_codes=True)\n",
    "# Draw a nested violinplot and split the violins for easier comparison\n",
    "sns.violinplot(x=df.Geographic_Living_Area, y=df.Gross_Monthly_Salary, hue=df.Has_Children, data=df, split=True,\n",
    "               inner=\"quart\")\n",
    "sns.despine(left=True)"
   ]
  },
  {
   "cell_type": "code",
   "execution_count": null,
   "metadata": {},
   "outputs": [],
   "source": [
    "sns.pairplot(df2, hue = 'Geographic_Living_Area',size = 4)\n"
   ]
  },
  {
   "cell_type": "code",
   "execution_count": null,
   "metadata": {},
   "outputs": [],
   "source": [
    "#The violin plot features a kernel density estimation of the underlying distribution.\n",
    "import seaborn as sns\n",
    "sns.set(style=\"whitegrid\", palette=\"pastel\", color_codes=True)\n",
    "# Draw a nested violinplot and split the violins for easier comparison\n",
    "sns.violinplot(x=df.Geographic_Living_Area, y=df.Claims_Rate, hue=df.Has_Children, data=df, split=True,\n",
    "               inner=\"quart\")\n",
    "sns.despine(left=True)"
   ]
  },
  {
   "cell_type": "code",
   "execution_count": null,
   "metadata": {},
   "outputs": [],
   "source": [
    "data2.columns"
   ]
  },
  {
   "cell_type": "code",
   "execution_count": null,
   "metadata": {},
   "outputs": [],
   "source": [
    "data2[(data2.Customer_Age >= 60) | (data2.Customer_Monetary_Value >= 50) ];\n",
    "\n",
    "# It gives common results "
   ]
  },
  {
   "cell_type": "markdown",
   "metadata": {},
   "source": [
    "#  Filter the Data"
   ]
  },
  {
   "cell_type": "code",
   "execution_count": null,
   "metadata": {},
   "outputs": [],
   "source": [
    "df.shape"
   ]
  },
  {
   "cell_type": "code",
   "execution_count": null,
   "metadata": {},
   "outputs": [],
   "source": [
    "#Check Unique value for each column\n",
    "def unique_counts(df2):\n",
    "    for i in df2.columns:\n",
    "        count = df2[i].nunique()\n",
    "        print(i, \": \", count)\n",
    "unique_counts(df2)"
   ]
  },
  {
   "cell_type": "markdown",
   "metadata": {},
   "source": [
    "First_Policy_Year,  Customer_Age, Geographic_Living_Area and Has_Children is preferable to use as the unique value classification- "
   ]
  },
  {
   "cell_type": "code",
   "execution_count": null,
   "metadata": {},
   "outputs": [],
   "source": [
    "sns.pairplot(df2, hue='First_Policy_Year', kind='scatter', diag_kind='hist', markers=None, size=2.5, aspect=1, dropna=True);"
   ]
  },
  {
   "cell_type": "code",
   "execution_count": null,
   "metadata": {},
   "outputs": [],
   "source": [
    "from sklearn.cluster import KMeans\n",
    "model = KMeans(n_clusters=4)\n",
    "model.fit(df2)"
   ]
  },
  {
   "cell_type": "code",
   "execution_count": null,
   "metadata": {},
   "outputs": [],
   "source": [
    "df.columns"
   ]
  },
  {
   "cell_type": "code",
   "execution_count": null,
   "metadata": {},
   "outputs": [],
   "source": [
    "#sns.boxplot(df2.Customer_Monetary_Value)\n",
    "Q1 = df2.quantile(0.25)\n",
    "Q3 = df2.quantile(0.75)\n",
    "IQR = Q3 - Q1\n",
    "((df2 < (Q1 - 1.5 * IQR)) | (df2 > (Q3 + 1.5 * IQR))).sum()\n",
    "\n",
    "#mask = (df2 < (Q1 - 1.5 * IQR)) | (df2 > (Q3 + 1.5 * IQR))\n",
    "#df2[mask] = np.nan"
   ]
  },
  {
   "cell_type": "code",
   "execution_count": null,
   "metadata": {},
   "outputs": [],
   "source": [
    "df2['Claims_Rate'];"
   ]
  },
  {
   "cell_type": "code",
   "execution_count": null,
   "metadata": {},
   "outputs": [],
   "source": [
    "sns.jointplot(y = df2['Claims_Rate'] , x = 'Customer_Age', data= df2)"
   ]
  },
  {
   "cell_type": "code",
   "execution_count": null,
   "metadata": {},
   "outputs": [],
   "source": [
    "df2.columns"
   ]
  },
  {
   "cell_type": "code",
   "execution_count": null,
   "metadata": {},
   "outputs": [],
   "source": [
    "df2.head()"
   ]
  },
  {
   "cell_type": "code",
   "execution_count": null,
   "metadata": {},
   "outputs": [],
   "source": []
  },
  {
   "cell_type": "code",
   "execution_count": null,
   "metadata": {},
   "outputs": [],
   "source": [
    "df3 = df2[(df2['Customer_Monetary_Value'] > -100).values & (df2['Customer_Monetary_Value'] < 2300).values]"
   ]
  },
  {
   "cell_type": "code",
   "execution_count": null,
   "metadata": {},
   "outputs": [],
   "source": []
  },
  {
   "cell_type": "code",
   "execution_count": null,
   "metadata": {},
   "outputs": [],
   "source": [
    "sns.jointplot(y = 'Customer_Monetary_Value', x = 'Customer_Age', data= df3)\n"
   ]
  },
  {
   "cell_type": "code",
   "execution_count": null,
   "metadata": {},
   "outputs": [],
   "source": [
    "from"
   ]
  },
  {
   "cell_type": "code",
   "execution_count": null,
   "metadata": {},
   "outputs": [],
   "source": [
    "class KMeans:\n",
    "    def __init__(self, k):\n",
    "        self.k = k # number of clusters\n",
    "        self.means = None # means of clusters\n",
    "    \n",
    "    def classify(self, input):\n",
    "        return min(range(self.k),\n",
    "                   key=lambda i: squared_distance(input, self.means[i]))\n",
    "    def train(self, inputs):\n",
    "        self.means = random.sample(inputs, self.k)\n",
    "        assignments = None\n",
    "        while True:\n",
    "            new_assignments = map(self.classify, inputs)\n",
    "\n",
    "            if assignments == new_assignments:return\n",
    "            assignments = new_assignments\n",
    "            for i in range(self.k):\n",
    "                i_points = [p for p, a in zip(inputs, assignments) if a == i]\n",
    "                if i_points:\n",
    "                    self.means[i] = vector_mean(i_points)"
   ]
  },
  {
   "cell_type": "code",
   "execution_count": null,
   "metadata": {},
   "outputs": [],
   "source": [
    "from scipy.spatial.distance import cdist\n",
    "clusters=range(1,10)\n",
    "meandist=[]\n",
    "for k in clusters:\n",
    "    model=KMeans(n_clusters)\n",
    "    model.fit(Data_Seg_1)\n",
    "    clusassign=model.predict(Data_Seg_1)\n",
    "    meandist.append(sum(np.min(cdist(df2, model.cluster_centers_),  axis=1)),\n",
    "                df2.shape[0])"
   ]
  },
  {
   "cell_type": "code",
   "execution_count": null,
   "metadata": {},
   "outputs": [],
   "source": [
    "plt.plot(clusters, meandist)\n",
    "plt.xlabel('Number of clusters')\n",
    "plt.ylabel('Average distance')\n",
    "plt.title('Selecting k with the Elbow Method')\n",
    "plt.show()"
   ]
  },
  {
   "cell_type": "code",
   "execution_count": null,
   "metadata": {},
   "outputs": [],
   "source": [
    "Data_Seg_1 = df2[['Customer_Age',\n",
    "       'First_Policy_Year', 'Geographic_Living_Area']]"
   ]
  },
  {
   "cell_type": "code",
   "execution_count": null,
   "metadata": {},
   "outputs": [],
   "source": [
    "#from sklearn.datasets.samples_generator import make_blobs\n",
    "X, y_true = make_blobs(n_samples=5000, centers=5,\n",
    "                       cluster_std=0.60, random_state=0)\n",
    "plt.scatter(X[:, 0], X[:,1],   data =Data_Seg_1);"
   ]
  },
  {
   "cell_type": "code",
   "execution_count": null,
   "metadata": {},
   "outputs": [],
   "source": [
    "random.df2(0) # so you get the same results as me\n",
    "clusterer = KMeans(3)\n",
    "clusterer.train(inputs)\n",
    "colors = 10*[\"g\",\"r\",\"c\",\"b\"]\n",
    "print (clusterer.means)"
   ]
  },
  {
   "cell_type": "code",
   "execution_count": null,
   "metadata": {},
   "outputs": [],
   "source": []
  },
  {
   "cell_type": "code",
   "execution_count": null,
   "metadata": {},
   "outputs": [],
   "source": [
    "\n",
    "kmeans = KMeans(init='k-means++', n_clusters=4, n_init=10)\n",
    "kmeans.fit(Data_Seg_1)\n",
    "\n"
   ]
  },
  {
   "cell_type": "code",
   "execution_count": null,
   "metadata": {},
   "outputs": [],
   "source": [
    "predictions = kmeans.predict(Data_Seg_1)"
   ]
  },
  {
   "cell_type": "code",
   "execution_count": null,
   "metadata": {},
   "outputs": [],
   "source": [
    "set(list(predictions))"
   ]
  },
  {
   "cell_type": "code",
   "execution_count": null,
   "metadata": {},
   "outputs": [],
   "source": [
    "len(predictions)"
   ]
  },
  {
   "cell_type": "code",
   "execution_count": null,
   "metadata": {},
   "outputs": [],
   "source": [
    "predictions[:10]"
   ]
  },
  {
   "cell_type": "code",
   "execution_count": null,
   "metadata": {},
   "outputs": [],
   "source": [
    "dir(kmeans)"
   ]
  },
  {
   "cell_type": "code",
   "execution_count": null,
   "metadata": {},
   "outputs": [],
   "source": [
    "import matplotlib.pyplot as plt\n",
    "from itertools import cycle\n",
    "\n",
    "plt.figure(1)\n",
    "plt.clf()\n",
    "\n",
    "cluster_centers = kmeans.cluster_centers_\n",
    "\n",
    "colors = cycle('bgrcmykbgrcmykbgrcmykbgrcmyk')\n",
    "for k, col in zip(range(4), colors):\n",
    "    my_members = predictions == k\n",
    "    cluster_center = cluster_centers[k]\n",
    "    plt.plot(X[my_members, 0], X[my_members, 1], col + '.')\n",
    "    plt.plot(cluster_center[0], cluster_center[1], 'o', markerfacecolor=col,\n",
    "             markeredgecolor='k', markersize=14)\n",
    "plt.title('Estimated number of clusters: %d' % n_clusters_)\n",
    "plt.show()"
   ]
  },
  {
   "cell_type": "code",
   "execution_count": null,
   "metadata": {},
   "outputs": [],
   "source": [
    "#from sklearn.datasets.samples_generator import make_blobs\n",
    "X, y_true = make_blobs(n_samples=5000, centers=5,\n",
    "                       cluster_std=0.60, random_state=0)\n",
    "plt.scatter(X[:, 0], X[:,1],   data =Data_Seg_1);"
   ]
  },
  {
   "cell_type": "code",
   "execution_count": null,
   "metadata": {},
   "outputs": [],
   "source": []
  },
  {
   "cell_type": "code",
   "execution_count": null,
   "metadata": {},
   "outputs": [],
   "source": []
  },
  {
   "cell_type": "code",
   "execution_count": null,
   "metadata": {},
   "outputs": [],
   "source": []
  }
 ],
 "metadata": {
  "kernelspec": {
   "display_name": "Python 3",
   "language": "python",
   "name": "python3"
  },
  "language_info": {
   "codemirror_mode": {
    "name": "ipython",
    "version": 3
   },
   "file_extension": ".py",
   "mimetype": "text/x-python",
   "name": "python",
   "nbconvert_exporter": "python",
   "pygments_lexer": "ipython3",
   "version": "3.6.4"
  }
 },
 "nbformat": 4,
 "nbformat_minor": 2
}
