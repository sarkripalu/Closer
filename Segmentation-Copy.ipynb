{
 "cells": [
  {
   "cell_type": "markdown",
   "metadata": {},
   "source": [
    "# Preliminaries "
   ]
  },
  {
   "cell_type": "code",
   "execution_count": 1,
   "metadata": {},
   "outputs": [],
   "source": [
    "import pandas as pd\n",
    "import numpy as np\n",
    "import seaborn as sns\n",
    "from sklearn import linear_model\n",
    "import matplotlib.pyplot as plt\n",
    "%matplotlib inline"
   ]
  },
  {
   "cell_type": "markdown",
   "metadata": {},
   "source": [
    "# Load the data"
   ]
  },
  {
   "cell_type": "code",
   "execution_count": 2,
   "metadata": {},
   "outputs": [],
   "source": [
    "data = pd.read_excel('C:\\\\Users\\\\Closer\\\\Desktop\\\\Closer\\\\Imp_Doc\\\\A2Z_Insurance.xlsx', delimiter=',' )\n",
    "\n",
    "\n",
    "#Int_data = [\"First Policy´s Year\", \"Customer Age\", \"Gross Monthly Salary\", \"Geographic Living Area\"]\n",
    "#data[Int_data] = data[Int_data].applymap(np.int64)"
   ]
  },
  {
   "cell_type": "code",
   "execution_count": null,
   "metadata": {},
   "outputs": [],
   "source": [
    "\n"
   ]
  },
  {
   "cell_type": "code",
   "execution_count": 3,
   "metadata": {},
   "outputs": [],
   "source": [
    "data.values;"
   ]
  },
  {
   "cell_type": "code",
   "execution_count": 4,
   "metadata": {},
   "outputs": [],
   "source": [
    "df1 = data[['Customer Identity', 'First Policy´s Year', 'Customer Age',\n",
    "       'Gross Monthly Salary', 'Geographic Living Area',\n",
    "       'Has Children (Y=1)', 'Customer Monetary Value', 'Claims Rate',\n",
    "       'Premiums in LOB: Motor', 'Premiums in LOB: Household',\n",
    "       'Premiums in LOB: Health', 'Premiums in LOB:  Life',\n",
    "       'Premiums in LOB: Work Compensations']]"
   ]
  },
  {
   "cell_type": "markdown",
   "metadata": {},
   "source": [
    "# Creating new dataset"
   ]
  },
  {
   "cell_type": "markdown",
   "metadata": {},
   "source": [
    "## 1. Change the Name_of_the_Column and integrate it with underscore so that the names can be used directly for the further purposes. \n"
   ]
  },
  {
   "cell_type": "markdown",
   "metadata": {},
   "source": [
    "#  Df (Stylish)"
   ]
  },
  {
   "cell_type": "code",
   "execution_count": 5,
   "metadata": {},
   "outputs": [],
   "source": [
    "df_rename =df1.rename(columns = {'Customer Identity':'Customer_Identity' , \n",
    "                           'First Policy´s Year':'First_Policy_Year',\n",
    "                           'Customer Age':'Customer_Age',\n",
    "                           'Gross Monthly Salary': 'Gross_Monthly_Salary',\n",
    "                           'Geographic Living Area':'Geographic_Living_Area',\n",
    "                           'Has Children (Y=1)': 'Has_Children', \n",
    "                           'Customer Monetary Value':'Customer_Monetary_Value',\n",
    "                           'Claims Rate':'Claims_Rate',\n",
    "                           'Premiums in LOB: Motor':'Premiums_Motor', \n",
    "                           'Premiums in LOB: Household':'Premiums_Household',\n",
    "                           'Premiums in LOB: Health':'Premiums_Health',\n",
    "                           'Premiums in LOB:  Life':'Premiums_Life',\n",
    "                           'Premiums in LOB: Work Compensations':'Premiums_Work_Compensations'})"
   ]
  },
  {
   "cell_type": "code",
   "execution_count": 6,
   "metadata": {},
   "outputs": [
    {
     "data": {
      "text/plain": [
       "Index(['Customer_Identity', 'First_Policy_Year', 'Customer_Age',\n",
       "       'Gross_Monthly_Salary', 'Geographic_Living_Area', 'Has_Children',\n",
       "       'Customer_Monetary_Value', 'Claims_Rate', 'Premiums_Motor',\n",
       "       'Premiums_Household', 'Premiums_Health', 'Premiums_Life',\n",
       "       'Premiums_Work_Compensations'],\n",
       "      dtype='object')"
      ]
     },
     "execution_count": 6,
     "metadata": {},
     "output_type": "execute_result"
    }
   ],
   "source": [
    "\n",
    "df_rename.columns"
   ]
  },
  {
   "cell_type": "code",
   "execution_count": null,
   "metadata": {},
   "outputs": [],
   "source": [
    "\n"
   ]
  },
  {
   "cell_type": "markdown",
   "metadata": {},
   "source": [
    "##  Now, need to organise the dataset. "
   ]
  },
  {
   "cell_type": "markdown",
   "metadata": {},
   "source": [
    "### NaN treatment"
   ]
  },
  {
   "cell_type": "code",
   "execution_count": 7,
   "metadata": {},
   "outputs": [
    {
     "data": {
      "text/plain": [
       "(10296, 13)"
      ]
     },
     "execution_count": 7,
     "metadata": {},
     "output_type": "execute_result"
    }
   ],
   "source": [
    "df_rename.shape"
   ]
  },
  {
   "cell_type": "code",
   "execution_count": null,
   "metadata": {},
   "outputs": [],
   "source": []
  },
  {
   "cell_type": "code",
   "execution_count": 8,
   "metadata": {},
   "outputs": [],
   "source": [
    "df_Id_Index = df_rename.set_index('Customer_Identity')"
   ]
  },
  {
   "cell_type": "code",
   "execution_count": 9,
   "metadata": {},
   "outputs": [],
   "source": [
    "df2= df_Id_Index.fillna(method= 'ffill') #Interpolate the values"
   ]
  },
  {
   "cell_type": "code",
   "execution_count": 10,
   "metadata": {},
   "outputs": [],
   "source": [
    "#df_CR_index = df_fillna.sort_values('Claims_Rate')"
   ]
  },
  {
   "cell_type": "code",
   "execution_count": 11,
   "metadata": {},
   "outputs": [],
   "source": [
    "df2;"
   ]
  },
  {
   "cell_type": "code",
   "execution_count": null,
   "metadata": {},
   "outputs": [],
   "source": []
  },
  {
   "cell_type": "code",
   "execution_count": 12,
   "metadata": {},
   "outputs": [
    {
     "data": {
      "text/plain": [
       "(10296, 12)"
      ]
     },
     "execution_count": 12,
     "metadata": {},
     "output_type": "execute_result"
    }
   ],
   "source": [
    "df2.shape"
   ]
  },
  {
   "cell_type": "code",
   "execution_count": 13,
   "metadata": {},
   "outputs": [
    {
     "data": {
      "text/plain": [
       "First_Policy_Year              False\n",
       "Customer_Age                   False\n",
       "Gross_Monthly_Salary           False\n",
       "Geographic_Living_Area         False\n",
       "Has_Children                   False\n",
       "Customer_Monetary_Value        False\n",
       "Claims_Rate                    False\n",
       "Premiums_Motor                 False\n",
       "Premiums_Household             False\n",
       "Premiums_Health                False\n",
       "Premiums_Life                  False\n",
       "Premiums_Work_Compensations    False\n",
       "dtype: bool"
      ]
     },
     "execution_count": 13,
     "metadata": {},
     "output_type": "execute_result"
    }
   ],
   "source": [
    "df2.isnull().any()"
   ]
  },
  {
   "cell_type": "markdown",
   "metadata": {},
   "source": [
    "###  NaN - interpolation"
   ]
  },
  {
   "cell_type": "code",
   "execution_count": 14,
   "metadata": {},
   "outputs": [],
   "source": [
    "columns =  df2.iloc[:,:5]\n",
    "for col in columns:\n",
    "    df2[col] = df2[col].apply(int)\n",
    "df2;"
   ]
  },
  {
   "cell_type": "code",
   "execution_count": 15,
   "metadata": {},
   "outputs": [
    {
     "data": {
      "text/plain": [
       "First_Policy_Year                int64\n",
       "Customer_Age                     int64\n",
       "Gross_Monthly_Salary             int64\n",
       "Geographic_Living_Area           int64\n",
       "Has_Children                     int64\n",
       "Customer_Monetary_Value        float64\n",
       "Claims_Rate                    float64\n",
       "Premiums_Motor                 float64\n",
       "Premiums_Household             float64\n",
       "Premiums_Health                float64\n",
       "Premiums_Life                  float64\n",
       "Premiums_Work_Compensations    float64\n",
       "dtype: object"
      ]
     },
     "execution_count": 15,
     "metadata": {},
     "output_type": "execute_result"
    }
   ],
   "source": [
    "df2.dtypes"
   ]
  },
  {
   "cell_type": "code",
   "execution_count": 16,
   "metadata": {},
   "outputs": [
    {
     "data": {
      "text/plain": [
       "array([34, 21, 46, 35, 43, 60, 73, 42, 38, 68, 71, 58, 67, 16, 41, 37, 27,\n",
       "       54, 30, 55, 64, 72, 79, 74, 44, 63, 50, 61, 75, 78, 48, 26, 32, 36,\n",
       "       70, 51, 59, 49, 39, 65, 31, 57, 28, 33, 77, 52, 66, 56, 40, 45, 62,\n",
       "       47, 22, 24, 19, 53, 25, 17, 23, 69, 29, 20, 76, 81, 80, 18, 15],\n",
       "      dtype=int64)"
      ]
     },
     "execution_count": 16,
     "metadata": {},
     "output_type": "execute_result"
    }
   ],
   "source": [
    "df2.Customer_Age.unique()"
   ]
  },
  {
   "cell_type": "markdown",
   "metadata": {},
   "source": [
    "## Change the Index for Data2\n",
    "\n",
    "### - To make the DataFrame relevant, the Customer_Identity is used as index"
   ]
  },
  {
   "cell_type": "code",
   "execution_count": 17,
   "metadata": {},
   "outputs": [],
   "source": [
    "df2.Claims_Rate;"
   ]
  },
  {
   "cell_type": "code",
   "execution_count": 18,
   "metadata": {},
   "outputs": [],
   "source": [
    "#a = data2.First_Policy_Year.dropna().apply(np.int64); # The pupose of this was to check if it changes for the data frame or not. \n",
    "# It is found that it doesn't apply effect the data2."
   ]
  },
  {
   "cell_type": "markdown",
   "metadata": {},
   "source": [
    "### Check if there is any Null value in any column"
   ]
  },
  {
   "cell_type": "code",
   "execution_count": 19,
   "metadata": {},
   "outputs": [],
   "source": [
    "df2.isnull();"
   ]
  },
  {
   "cell_type": "code",
   "execution_count": 20,
   "metadata": {},
   "outputs": [
    {
     "data": {
      "text/plain": [
       "First_Policy_Year                int64\n",
       "Customer_Age                     int64\n",
       "Gross_Monthly_Salary             int64\n",
       "Geographic_Living_Area           int64\n",
       "Has_Children                     int64\n",
       "Customer_Monetary_Value        float64\n",
       "Claims_Rate                    float64\n",
       "Premiums_Motor                 float64\n",
       "Premiums_Household             float64\n",
       "Premiums_Health                float64\n",
       "Premiums_Life                  float64\n",
       "Premiums_Work_Compensations    float64\n",
       "dtype: object"
      ]
     },
     "execution_count": 20,
     "metadata": {},
     "output_type": "execute_result"
    }
   ],
   "source": [
    "df2.dtypes "
   ]
  },
  {
   "cell_type": "code",
   "execution_count": 21,
   "metadata": {},
   "outputs": [],
   "source": [
    "dir(df2);"
   ]
  },
  {
   "cell_type": "code",
   "execution_count": 22,
   "metadata": {},
   "outputs": [
    {
     "data": {
      "text/html": [
       "<div>\n",
       "<style scoped>\n",
       "    .dataframe tbody tr th:only-of-type {\n",
       "        vertical-align: middle;\n",
       "    }\n",
       "\n",
       "    .dataframe tbody tr th {\n",
       "        vertical-align: top;\n",
       "    }\n",
       "\n",
       "    .dataframe thead th {\n",
       "        text-align: right;\n",
       "    }\n",
       "</style>\n",
       "<table border=\"1\" class=\"dataframe\">\n",
       "  <thead>\n",
       "    <tr style=\"text-align: right;\">\n",
       "      <th></th>\n",
       "      <th>First_Policy_Year</th>\n",
       "      <th>Customer_Age</th>\n",
       "      <th>Gross_Monthly_Salary</th>\n",
       "      <th>Geographic_Living_Area</th>\n",
       "      <th>Has_Children</th>\n",
       "      <th>Customer_Monetary_Value</th>\n",
       "      <th>Claims_Rate</th>\n",
       "      <th>Premiums_Motor</th>\n",
       "      <th>Premiums_Household</th>\n",
       "      <th>Premiums_Health</th>\n",
       "      <th>Premiums_Life</th>\n",
       "      <th>Premiums_Work_Compensations</th>\n",
       "    </tr>\n",
       "  </thead>\n",
       "  <tbody>\n",
       "    <tr>\n",
       "      <th>count</th>\n",
       "      <td>10296.000000</td>\n",
       "      <td>10296.000000</td>\n",
       "      <td>10296.000000</td>\n",
       "      <td>10296.000000</td>\n",
       "      <td>10296.000000</td>\n",
       "      <td>10296.000000</td>\n",
       "      <td>10296.000000</td>\n",
       "      <td>10296.000000</td>\n",
       "      <td>10296.000000</td>\n",
       "      <td>10296.000000</td>\n",
       "      <td>10296.000000</td>\n",
       "      <td>10296.000000</td>\n",
       "    </tr>\n",
       "    <tr>\n",
       "      <th>mean</th>\n",
       "      <td>1986.020202</td>\n",
       "      <td>47.901418</td>\n",
       "      <td>4995.856158</td>\n",
       "      <td>2.709984</td>\n",
       "      <td>0.706876</td>\n",
       "      <td>177.892604</td>\n",
       "      <td>0.684239</td>\n",
       "      <td>300.486081</td>\n",
       "      <td>210.431192</td>\n",
       "      <td>172.224793</td>\n",
       "      <td>41.884261</td>\n",
       "      <td>41.296363</td>\n",
       "    </tr>\n",
       "    <tr>\n",
       "      <th>std</th>\n",
       "      <td>6.612583</td>\n",
       "      <td>17.388135</td>\n",
       "      <td>1968.171012</td>\n",
       "      <td>1.266293</td>\n",
       "      <td>0.455217</td>\n",
       "      <td>1945.811545</td>\n",
       "      <td>0.381656</td>\n",
       "      <td>211.690281</td>\n",
       "      <td>352.595984</td>\n",
       "      <td>304.094586</td>\n",
       "      <td>47.522474</td>\n",
       "      <td>51.432838</td>\n",
       "    </tr>\n",
       "    <tr>\n",
       "      <th>min</th>\n",
       "      <td>1974.000000</td>\n",
       "      <td>15.000000</td>\n",
       "      <td>665.000000</td>\n",
       "      <td>1.000000</td>\n",
       "      <td>0.000000</td>\n",
       "      <td>-165680.424000</td>\n",
       "      <td>0.000000</td>\n",
       "      <td>-4.110000</td>\n",
       "      <td>-75.000000</td>\n",
       "      <td>-2.110000</td>\n",
       "      <td>-7.000000</td>\n",
       "      <td>-12.000000</td>\n",
       "    </tr>\n",
       "    <tr>\n",
       "      <th>25%</th>\n",
       "      <td>1980.000000</td>\n",
       "      <td>33.000000</td>\n",
       "      <td>3411.000000</td>\n",
       "      <td>1.000000</td>\n",
       "      <td>0.000000</td>\n",
       "      <td>-9.440000</td>\n",
       "      <td>0.392221</td>\n",
       "      <td>190.590000</td>\n",
       "      <td>49.450000</td>\n",
       "      <td>111.800000</td>\n",
       "      <td>9.890000</td>\n",
       "      <td>10.670000</td>\n",
       "    </tr>\n",
       "    <tr>\n",
       "      <th>50%</th>\n",
       "      <td>1986.000000</td>\n",
       "      <td>48.000000</td>\n",
       "      <td>4999.500000</td>\n",
       "      <td>3.000000</td>\n",
       "      <td>1.000000</td>\n",
       "      <td>186.870000</td>\n",
       "      <td>0.719198</td>\n",
       "      <td>298.610000</td>\n",
       "      <td>132.800000</td>\n",
       "      <td>162.810000</td>\n",
       "      <td>25.560000</td>\n",
       "      <td>25.670000</td>\n",
       "    </tr>\n",
       "    <tr>\n",
       "      <th>75%</th>\n",
       "      <td>1992.000000</td>\n",
       "      <td>63.000000</td>\n",
       "      <td>6578.250000</td>\n",
       "      <td>4.000000</td>\n",
       "      <td>1.000000</td>\n",
       "      <td>399.777500</td>\n",
       "      <td>0.976307</td>\n",
       "      <td>408.300000</td>\n",
       "      <td>290.050000</td>\n",
       "      <td>219.040000</td>\n",
       "      <td>57.790000</td>\n",
       "      <td>56.790000</td>\n",
       "    </tr>\n",
       "    <tr>\n",
       "      <th>max</th>\n",
       "      <td>1998.000000</td>\n",
       "      <td>81.000000</td>\n",
       "      <td>10042.000000</td>\n",
       "      <td>4.000000</td>\n",
       "      <td>1.000000</td>\n",
       "      <td>11875.890000</td>\n",
       "      <td>13.900000</td>\n",
       "      <td>11604.420000</td>\n",
       "      <td>25048.800000</td>\n",
       "      <td>28272.000000</td>\n",
       "      <td>398.300000</td>\n",
       "      <td>1988.700000</td>\n",
       "    </tr>\n",
       "  </tbody>\n",
       "</table>\n",
       "</div>"
      ],
      "text/plain": [
       "       First_Policy_Year  Customer_Age  Gross_Monthly_Salary  \\\n",
       "count       10296.000000  10296.000000          10296.000000   \n",
       "mean         1986.020202     47.901418           4995.856158   \n",
       "std             6.612583     17.388135           1968.171012   \n",
       "min          1974.000000     15.000000            665.000000   \n",
       "25%          1980.000000     33.000000           3411.000000   \n",
       "50%          1986.000000     48.000000           4999.500000   \n",
       "75%          1992.000000     63.000000           6578.250000   \n",
       "max          1998.000000     81.000000          10042.000000   \n",
       "\n",
       "       Geographic_Living_Area  Has_Children  Customer_Monetary_Value  \\\n",
       "count            10296.000000  10296.000000             10296.000000   \n",
       "mean                 2.709984      0.706876               177.892604   \n",
       "std                  1.266293      0.455217              1945.811545   \n",
       "min                  1.000000      0.000000           -165680.424000   \n",
       "25%                  1.000000      0.000000                -9.440000   \n",
       "50%                  3.000000      1.000000               186.870000   \n",
       "75%                  4.000000      1.000000               399.777500   \n",
       "max                  4.000000      1.000000             11875.890000   \n",
       "\n",
       "        Claims_Rate  Premiums_Motor  Premiums_Household  Premiums_Health  \\\n",
       "count  10296.000000    10296.000000        10296.000000     10296.000000   \n",
       "mean       0.684239      300.486081          210.431192       172.224793   \n",
       "std        0.381656      211.690281          352.595984       304.094586   \n",
       "min        0.000000       -4.110000          -75.000000        -2.110000   \n",
       "25%        0.392221      190.590000           49.450000       111.800000   \n",
       "50%        0.719198      298.610000          132.800000       162.810000   \n",
       "75%        0.976307      408.300000          290.050000       219.040000   \n",
       "max       13.900000    11604.420000        25048.800000     28272.000000   \n",
       "\n",
       "       Premiums_Life  Premiums_Work_Compensations  \n",
       "count   10296.000000                 10296.000000  \n",
       "mean       41.884261                    41.296363  \n",
       "std        47.522474                    51.432838  \n",
       "min        -7.000000                   -12.000000  \n",
       "25%         9.890000                    10.670000  \n",
       "50%        25.560000                    25.670000  \n",
       "75%        57.790000                    56.790000  \n",
       "max       398.300000                  1988.700000  "
      ]
     },
     "execution_count": 22,
     "metadata": {},
     "output_type": "execute_result"
    }
   ],
   "source": [
    "df2.describe()"
   ]
  },
  {
   "cell_type": "markdown",
   "metadata": {},
   "source": [
    "# 2. Convert the float into int. \n",
    "## -  Remove the NaN so that you can apply (int)"
   ]
  },
  {
   "cell_type": "markdown",
   "metadata": {},
   "source": [
    "##  - The most important part is to replace the NaN values (not drop) and convert the necessary floats into integers. \n"
   ]
  },
  {
   "cell_type": "markdown",
   "metadata": {},
   "source": [
    "### To check the customers' age in decending order. "
   ]
  },
  {
   "cell_type": "code",
   "execution_count": 23,
   "metadata": {},
   "outputs": [],
   "source": [
    "# Two column can be added with '+'\n",
    "df2['Total_Premium'] =  df2.iloc[:,7]+df2.iloc[:,8] + df2.iloc[:,9] + df2.iloc[:,10]+ df2.iloc[:,11];"
   ]
  },
  {
   "cell_type": "code",
   "execution_count": 24,
   "metadata": {},
   "outputs": [],
   "source": [
    "df2;"
   ]
  },
  {
   "cell_type": "markdown",
   "metadata": {},
   "source": [
    "# Histograms\n",
    "### - to plot the distributions of numeric variables."
   ]
  },
  {
   "cell_type": "code",
   "execution_count": null,
   "metadata": {},
   "outputs": [],
   "source": []
  },
  {
   "cell_type": "markdown",
   "metadata": {},
   "source": [
    "# Clustering "
   ]
  },
  {
   "cell_type": "markdown",
   "metadata": {},
   "source": [
    "## Demographic Clustering "
   ]
  },
  {
   "cell_type": "code",
   "execution_count": 25,
   "metadata": {},
   "outputs": [
    {
     "data": {
      "text/plain": [
       "Index(['First_Policy_Year', 'Customer_Age', 'Gross_Monthly_Salary',\n",
       "       'Geographic_Living_Area', 'Has_Children', 'Customer_Monetary_Value',\n",
       "       'Claims_Rate', 'Premiums_Motor', 'Premiums_Household',\n",
       "       'Premiums_Health', 'Premiums_Life', 'Premiums_Work_Compensations',\n",
       "       'Total_Premium'],\n",
       "      dtype='object')"
      ]
     },
     "execution_count": 25,
     "metadata": {},
     "output_type": "execute_result"
    }
   ],
   "source": [
    "df2.columns"
   ]
  },
  {
   "cell_type": "code",
   "execution_count": 26,
   "metadata": {},
   "outputs": [],
   "source": [
    "Clus_1 = df2.First_Policy_Year.values\n",
    "Clus_2 = df2.Customer_Age.values\n",
    "Clus_3 = df2.Gross_Monthly_Salary.values\n",
    "\n",
    "\n",
    "#KMeans(n_clusters =5,  )"
   ]
  },
  {
   "cell_type": "code",
   "execution_count": 27,
   "metadata": {},
   "outputs": [],
   "source": [
    "Data_Clus = df2[['Customer_Age', 'Gross_Monthly_Salary','Geographic_Living_Area', 'Has_Children']]\n"
   ]
  },
  {
   "cell_type": "code",
   "execution_count": 28,
   "metadata": {},
   "outputs": [
    {
     "ename": "NameError",
     "evalue": "name 'KMeans' is not defined",
     "output_type": "error",
     "traceback": [
      "\u001b[1;31m---------------------------------------------------------------------------\u001b[0m",
      "\u001b[1;31mNameError\u001b[0m                                 Traceback (most recent call last)",
      "\u001b[1;32m<ipython-input-28-e1fd7d96b916>\u001b[0m in \u001b[0;36m<module>\u001b[1;34m()\u001b[0m\n\u001b[0;32m      3\u001b[0m \u001b[0mData_Set_2\u001b[0m \u001b[1;33m=\u001b[0m \u001b[0mdf2\u001b[0m\u001b[1;33m[\u001b[0m\u001b[1;33m[\u001b[0m\u001b[1;34m'First_Policy_Year'\u001b[0m\u001b[1;33m,\u001b[0m \u001b[1;34m'Customer_Age'\u001b[0m\u001b[1;33m,\u001b[0m \u001b[1;34m'Gross_Monthly_Salary'\u001b[0m\u001b[1;33m,\u001b[0m\u001b[1;34m'Geographic_Living_Area'\u001b[0m\u001b[1;33m]\u001b[0m\u001b[1;33m]\u001b[0m\u001b[1;33m\u001b[0m\u001b[0m\n\u001b[0;32m      4\u001b[0m \u001b[1;33m\u001b[0m\u001b[0m\n\u001b[1;32m----> 5\u001b[1;33m \u001b[0mkmeans2\u001b[0m \u001b[1;33m=\u001b[0m \u001b[0mKMeans\u001b[0m\u001b[1;33m(\u001b[0m\u001b[0mn_clusters\u001b[0m \u001b[1;33m=\u001b[0m\u001b[1;36m4\u001b[0m\u001b[1;33m)\u001b[0m\u001b[1;33m.\u001b[0m\u001b[0mfit\u001b[0m\u001b[1;33m(\u001b[0m\u001b[0mData_Set_2\u001b[0m\u001b[1;33m)\u001b[0m\u001b[1;33m\u001b[0m\u001b[0m\n\u001b[0m\u001b[0;32m      6\u001b[0m \u001b[0mprint\u001b[0m\u001b[1;33m(\u001b[0m\u001b[0mkmeans2\u001b[0m\u001b[1;33m.\u001b[0m\u001b[0mcluster_centers_\u001b[0m\u001b[1;33m)\u001b[0m\u001b[1;33m\u001b[0m\u001b[0m\n\u001b[0;32m      7\u001b[0m \u001b[0mprint\u001b[0m\u001b[1;33m(\u001b[0m\u001b[0mkmeans2\u001b[0m\u001b[1;33m.\u001b[0m\u001b[0mlabels_\u001b[0m\u001b[1;33m)\u001b[0m\u001b[1;33m\u001b[0m\u001b[0m\n",
      "\u001b[1;31mNameError\u001b[0m: name 'KMeans' is not defined"
     ]
    }
   ],
   "source": [
    "## to test in another dataset\n",
    "\n",
    "Data_Set_2 = df2[['First_Policy_Year', 'Customer_Age', 'Gross_Monthly_Salary','Geographic_Living_Area']]\n",
    "\n",
    "kmeans2 = KMeans(n_clusters =4).fit(Data_Set_2)\n",
    "print(kmeans2.cluster_centers_)\n",
    "print(kmeans2.labels_)\n",
    "plt.scatter(x = Data_Set_2.Customer_Age,y= Data_Set_2.First_Policy_Year, c =kmeans.labels_, cmap = 'rainbow')\n",
    "X_embedded = TSNE(n_components=2).fit_transform(Data_Set_2)\n",
    "X_embedded.shape\n"
   ]
  },
  {
   "cell_type": "code",
   "execution_count": 29,
   "metadata": {},
   "outputs": [
    {
     "ename": "NameError",
     "evalue": "name 'kmeans2' is not defined",
     "output_type": "error",
     "traceback": [
      "\u001b[1;31m---------------------------------------------------------------------------\u001b[0m",
      "\u001b[1;31mNameError\u001b[0m                                 Traceback (most recent call last)",
      "\u001b[1;32m<ipython-input-29-5615b4684b4e>\u001b[0m in \u001b[0;36m<module>\u001b[1;34m()\u001b[0m\n\u001b[0;32m      7\u001b[0m \u001b[1;33m\u001b[0m\u001b[0m\n\u001b[0;32m      8\u001b[0m \u001b[0mX_embedded\u001b[0m\u001b[1;33m.\u001b[0m\u001b[0mshape\u001b[0m\u001b[1;33m\u001b[0m\u001b[0m\n\u001b[1;32m----> 9\u001b[1;33m \u001b[0mplt\u001b[0m\u001b[1;33m.\u001b[0m\u001b[0mscatter\u001b[0m\u001b[1;33m(\u001b[0m\u001b[0mX_embedded\u001b[0m\u001b[1;33m[\u001b[0m\u001b[1;33m:\u001b[0m\u001b[1;33m,\u001b[0m \u001b[1;36m0\u001b[0m\u001b[1;33m]\u001b[0m\u001b[1;33m,\u001b[0m\u001b[0mX_embedded\u001b[0m\u001b[1;33m[\u001b[0m\u001b[1;33m:\u001b[0m\u001b[1;33m,\u001b[0m \u001b[1;36m1\u001b[0m\u001b[1;33m]\u001b[0m\u001b[1;33m,\u001b[0m \u001b[0mc\u001b[0m \u001b[1;33m=\u001b[0m\u001b[0mkmeans2\u001b[0m\u001b[1;33m.\u001b[0m\u001b[0mlabels_\u001b[0m\u001b[1;33m)\u001b[0m\u001b[1;33m\u001b[0m\u001b[0m\n\u001b[0m",
      "\u001b[1;31mNameError\u001b[0m: name 'kmeans2' is not defined"
     ]
    }
   ],
   "source": [
    "from sklearn.manifold import TSNE\n",
    "#sklearn.manifold.TSNE is such a powerful manifold learning method.\n",
    "#apply it to the digits dataset, as the digits are vectors of dimension 8*8 = 64. Embedding them in 2D enables visualization\n",
    "\n",
    "X_embedded = TSNE(n_components=2).fit_transform(Data_Set_2)  \n",
    "#As TSNE cannot be applied to new data, we need to use its fit_transform method.\n",
    "\n",
    "X_embedded.shape\n",
    "plt.scatter(X_embedded[:, 0],X_embedded[:, 1], c =kmeans2.labels_) "
   ]
  },
  {
   "cell_type": "code",
   "execution_count": null,
   "metadata": {},
   "outputs": [],
   "source": [
    "data.loc[(data[\"Gender\"]==\"Female\") & (data[\"Education\"]==\"Not Graduate\") \n",
    "         & (data[\"Loan_Status\"]==\"Y\"), [\"Gender\",\"Education\",\"Loan_Status\"]]"
   ]
  },
  {
   "cell_type": "code",
   "execution_count": null,
   "metadata": {},
   "outputs": [],
   "source": [
    "from sklearn.metrics import silhouette_score\n",
    "from sklearn.cluster import KMeans\n",
    "\n",
    "X = load_iris().data\n",
    "y = load_iris().target\n",
    "\n",
    "for n_cluster in range(2, 11):\n",
    "    kmeans = KMeans(n_clusters=n_cluster).fit(X)\n",
    "    label = kmeans.labels_\n",
    "    sil_coeff = silhouette_score(X, label, metric='euclidean')\n",
    "    print(\"For n_clusters={}, The Silhouette Coefficient is {}\".format(n_cluster, sil_coeff))"
   ]
  },
  {
   "cell_type": "code",
   "execution_count": 30,
   "metadata": {},
   "outputs": [
    {
     "ename": "NameError",
     "evalue": "name 'k_means' is not defined",
     "output_type": "error",
     "traceback": [
      "\u001b[1;31m---------------------------------------------------------------------------\u001b[0m",
      "\u001b[1;31mNameError\u001b[0m                                 Traceback (most recent call last)",
      "\u001b[1;32m<ipython-input-30-a5f79e1f79cc>\u001b[0m in \u001b[0;36m<module>\u001b[1;34m()\u001b[0m\n\u001b[1;32m----> 1\u001b[1;33m \u001b[0mpredict\u001b[0m \u001b[1;33m=\u001b[0m \u001b[0mk_means\u001b[0m\u001b[1;33m.\u001b[0m\u001b[0mpredict\u001b[0m\u001b[1;33m(\u001b[0m\u001b[0mdf2\u001b[0m\u001b[1;33m)\u001b[0m\u001b[1;33m\u001b[0m\u001b[0m\n\u001b[0m\u001b[0;32m      2\u001b[0m \u001b[0mdf2\u001b[0m\u001b[1;33m[\u001b[0m\u001b[1;34m'cluster'\u001b[0m\u001b[1;33m]\u001b[0m \u001b[1;33m=\u001b[0m \u001b[0mpredict\u001b[0m\u001b[1;33m\u001b[0m\u001b[0m\n\u001b[0;32m      3\u001b[0m \u001b[0mpandas\u001b[0m\u001b[1;33m.\u001b[0m\u001b[0mtools\u001b[0m\u001b[1;33m.\u001b[0m\u001b[0mplotting\u001b[0m\u001b[1;33m.\u001b[0m\u001b[0mparallel_coordinates\u001b[0m\u001b[1;33m(\u001b[0m\u001b[0mdf2\u001b[0m\u001b[1;33m,\u001b[0m \u001b[1;34m'cluster'\u001b[0m\u001b[1;33m)\u001b[0m\u001b[1;33m\u001b[0m\u001b[0m\n",
      "\u001b[1;31mNameError\u001b[0m: name 'k_means' is not defined"
     ]
    }
   ],
   "source": []
  },
  {
   "cell_type": "code",
   "execution_count": null,
   "metadata": {},
   "outputs": [],
   "source": []
  },
  {
   "cell_type": "code",
   "execution_count": null,
   "metadata": {},
   "outputs": [],
   "source": []
  },
  {
   "cell_type": "code",
   "execution_count": null,
   "metadata": {},
   "outputs": [],
   "source": [
    "Claims_Rate = (df2[df2['Claims_Rate'] < 2]).values"
   ]
  },
  {
   "cell_type": "code",
   "execution_count": null,
   "metadata": {},
   "outputs": [],
   "source": [
    "Claims_Rate"
   ]
  },
  {
   "cell_type": "code",
   "execution_count": null,
   "metadata": {},
   "outputs": [],
   "source": [
    "Data_Set_1 = df2[['Customer_Age', 'Claims_Rate', 'Premiums_Motor']]\n",
    "kmeans1 = KMeans(n_clusters =2).fit(Data_Set_1)"
   ]
  },
  {
   "cell_type": "code",
   "execution_count": null,
   "metadata": {},
   "outputs": [],
   "source": [
    "Data_Set_1 = df2[['Customer_Age', 'Claims_Rate', 'Premiums_Motor']]\n",
    "\n",
    "from sklearn.cluster import KMeans\n",
    "\n",
    "kmeans = KMeans(n_clusters =3).fit(Data_Set_1)\n",
    "\n",
    "plt.scatter(x = Data_Set_1.Customer_Age,y= Data_Set_1.Claims_Rate, c =kmeans.labels_, cmap = 'rainbow')"
   ]
  },
  {
   "cell_type": "code",
   "execution_count": null,
   "metadata": {},
   "outputs": [],
   "source": [
    "print(kmeans.cluster_centers_)"
   ]
  },
  {
   "cell_type": "code",
   "execution_count": null,
   "metadata": {},
   "outputs": [],
   "source": [
    "print(kmeans.labels_)"
   ]
  },
  {
   "cell_type": "code",
   "execution_count": null,
   "metadata": {},
   "outputs": [],
   "source": [
    "plt.scatter(y = Data_Clus.Customer_Age,x= Data_Clus.Geographic_Living_Area, c =kmeans.labels_, cmap = 'rainbow')"
   ]
  },
  {
   "cell_type": "code",
   "execution_count": null,
   "metadata": {},
   "outputs": [],
   "source": [
    "## DB- Scan \n",
    "from sklearn.cluster import DBSCAN\n",
    "db = DBSCAN(eps=0.3, min_samples=10).fit(Data_Set_1)\n",
    "core_samples_mask = np.zeros_like(db.labels_, dtype=bool)\n",
    "core_samples_mask[db.core_sample_indices_] = True\n",
    "labels = db.labels_\n",
    "plt.scatter(x = Data_Set_1.Customer_Age,y= Data_Set_1.Claims_Rate, c =kmeans.labels_, cmap = 'rainbow')"
   ]
  },
  {
   "cell_type": "code",
   "execution_count": null,
   "metadata": {},
   "outputs": [],
   "source": []
  },
  {
   "cell_type": "code",
   "execution_count": null,
   "metadata": {},
   "outputs": [],
   "source": []
  },
  {
   "cell_type": "code",
   "execution_count": null,
   "metadata": {},
   "outputs": [],
   "source": [
    "class KMeans:\n",
    "    def __init__(self,k):\n",
    "        self.k = k \n",
    "        selk.means = None\n",
    "        \n",
    "    def classify(self, input):\n",
    "        return min(range(self,k),\n",
    "                   key = lambda i: sqrd_distance(input, self.means[i]))\n",
    "    def train(self, inputs):\n",
    "        self.means = random.sample(inputs, self.k)\n",
    "        assignments = None\n",
    "        while true:\n",
    "            new_assignments = map(self.classify, inputs)\n",
    "            if assignments == new_assignments:return\n",
    "            "
   ]
  },
  {
   "cell_type": "code",
   "execution_count": null,
   "metadata": {},
   "outputs": [],
   "source": [
    "df2.columns"
   ]
  },
  {
   "cell_type": "code",
   "execution_count": null,
   "metadata": {},
   "outputs": [],
   "source": [
    "#sns.boxplot(df2.Customer_Monetary_Value)\n",
    "\n",
    "## Need to know how to use \n",
    "\n",
    "Q1 = df2.quantile(0.25)\n",
    "Q3 = df2.quantile(0.75)\n",
    "IQR = Q3 - Q1\n",
    "((df2 < (Q1 - 1.5 * IQR)) | (df2 > (Q3 + 1.5 * IQR))).sum()\n",
    "\n",
    "#mask = (df2 < (Q1 - 1.5 * IQR)) | (df2 > (Q3 + 1.5 * IQR))\n",
    "#df2[mask] = np.nan"
   ]
  },
  {
   "cell_type": "code",
   "execution_count": null,
   "metadata": {},
   "outputs": [],
   "source": [
    "sns.jointplot(y = 'Claims_Rate', x = 'Customer_Age', data= df2)"
   ]
  },
  {
   "cell_type": "code",
   "execution_count": null,
   "metadata": {},
   "outputs": [],
   "source": [
    "df2.columns"
   ]
  },
  {
   "cell_type": "code",
   "execution_count": null,
   "metadata": {},
   "outputs": [],
   "source": [
    "df2.head()"
   ]
  },
  {
   "cell_type": "code",
   "execution_count": null,
   "metadata": {},
   "outputs": [],
   "source": []
  },
  {
   "cell_type": "code",
   "execution_count": null,
   "metadata": {},
   "outputs": [],
   "source": [
    "df3 = df2[(df2['Customer_Monetary_Value'] > -100).values & (df2['Customer_Monetary_Value'] < 2300).values]"
   ]
  },
  {
   "cell_type": "code",
   "execution_count": null,
   "metadata": {},
   "outputs": [],
   "source": []
  },
  {
   "cell_type": "code",
   "execution_count": null,
   "metadata": {},
   "outputs": [],
   "source": [
    "sns.jointplot(y = 'Customer_Monetary_Value', x = 'Customer_Age', data= df3)\n"
   ]
  },
  {
   "cell_type": "code",
   "execution_count": null,
   "metadata": {},
   "outputs": [],
   "source": [
    "from"
   ]
  },
  {
   "cell_type": "code",
   "execution_count": null,
   "metadata": {},
   "outputs": [],
   "source": [
    "from scipy.spatial.distance import cdist\n",
    "clusters=range(1,10)\n",
    "meandist=[]\n",
    "for k in clusters:\n",
    "    model=KMeans(n_clusters)\n",
    "    model.fit(Data_Seg_1)\n",
    "    clusassign=model.predict(Data_Seg_1)\n",
    "    meandist.append(sum(np.min(cdist(df2, model.cluster_centers_),  axis=1)),\n",
    "                df2.shape[0])"
   ]
  },
  {
   "cell_type": "code",
   "execution_count": null,
   "metadata": {},
   "outputs": [],
   "source": [
    "plt.plot(clusters, meandist)\n",
    "plt.xlabel('Number of clusters')\n",
    "plt.ylabel('Average distance')\n",
    "plt.title('Selecting k with the Elbow Method')\n",
    "plt.show()"
   ]
  },
  {
   "cell_type": "code",
   "execution_count": null,
   "metadata": {},
   "outputs": [],
   "source": [
    "Data_Seg_1 = df2[['Customer_Age',\n",
    "       'First_Policy_Year', 'Geographic_Living_Area']]"
   ]
  },
  {
   "cell_type": "code",
   "execution_count": null,
   "metadata": {},
   "outputs": [],
   "source": [
    "#from sklearn.datasets.samples_generator import make_blobs\n",
    "X, y_true = make_blobs(n_samples=5000, centers=5,\n",
    "                       cluster_std=0.60, random_state=0)\n",
    "plt.scatter(X[:, 0], X[:,1],   data =Data_Seg_1);"
   ]
  },
  {
   "cell_type": "code",
   "execution_count": null,
   "metadata": {},
   "outputs": [],
   "source": [
    "class KMeans:\n",
    "    def __init__(self, k):\n",
    "        self.k = k # number of clusters\n",
    "        self.means = None # means of clusters\n",
    "    \n",
    "    def classify(self, input):\n",
    "        return min(range(self.k),\n",
    "                   key=lambda i: squared_distance(input, self.means[i]))\n",
    "    def train(self, inputs):\n",
    "        self.means = random.sample(inputs, self.k)\n",
    "        assignments = None\n",
    "        while True:\n",
    "            new_assignments = map(self.classify, inputs)\n",
    "\n",
    "            if assignments == new_assignments:return\n",
    "            assignments = new_assignments\n",
    "            for i in range(self.k):\n",
    "                i_points = [p for p, a in zip(inputs, assignments) if a == i]\n",
    "                if i_points:\n",
    "                    self.means[i] = vector_mean(i_points)"
   ]
  },
  {
   "cell_type": "code",
   "execution_count": null,
   "metadata": {},
   "outputs": [],
   "source": [
    "random.df2(0) # so you get the same results as me\n",
    "clusterer = KMeans(3)\n",
    "clusterer.train(inputs)\n",
    "colors = 10*[\"g\",\"r\",\"c\",\"b\"]\n",
    "print (clusterer.means)"
   ]
  },
  {
   "cell_type": "code",
   "execution_count": null,
   "metadata": {},
   "outputs": [],
   "source": []
  },
  {
   "cell_type": "code",
   "execution_count": null,
   "metadata": {},
   "outputs": [],
   "source": [
    "from sklearn.cluster import KMeans\n",
    "kmeans = KMeans(init='k-means++', n_clusters=4, n_init=10)\n",
    "kmeans.fit(Data_Seg_1)\n",
    "\n"
   ]
  },
  {
   "cell_type": "code",
   "execution_count": null,
   "metadata": {},
   "outputs": [],
   "source": [
    "predictions = kmeans.predict(Data_Seg_1)"
   ]
  },
  {
   "cell_type": "code",
   "execution_count": null,
   "metadata": {},
   "outputs": [],
   "source": [
    "set(list(predictions))"
   ]
  },
  {
   "cell_type": "code",
   "execution_count": null,
   "metadata": {},
   "outputs": [],
   "source": [
    "len(predictions)"
   ]
  },
  {
   "cell_type": "code",
   "execution_count": null,
   "metadata": {},
   "outputs": [],
   "source": [
    "predictions[:10]"
   ]
  },
  {
   "cell_type": "code",
   "execution_count": null,
   "metadata": {},
   "outputs": [],
   "source": [
    "dir(kmeans)"
   ]
  },
  {
   "cell_type": "code",
   "execution_count": null,
   "metadata": {},
   "outputs": [],
   "source": [
    "import matplotlib.pyplot as plt\n",
    "from itertools import cycle\n",
    "\n",
    "plt.figure(1)\n",
    "plt.clf()\n",
    "\n",
    "cluster_centers = kmeans.cluster_centers_\n",
    "\n",
    "colors = cycle('bgrcmykbgrcmykbgrcmykbgrcmyk')\n",
    "for k, col in zip(range(4), colors):\n",
    "    my_members = predictions == k\n",
    "    cluster_center = cluster_centers[k]\n",
    "    plt.plot(X[my_members, 0], X[my_members, 1], col + '.')\n",
    "    plt.plot(cluster_center[0], cluster_center[1], 'o', markerfacecolor=col,\n",
    "             markeredgecolor='k', markersize=14)\n",
    "plt.title('Estimated number of clusters: %d' % n_clusters_)\n",
    "plt.show()"
   ]
  },
  {
   "cell_type": "code",
   "execution_count": null,
   "metadata": {},
   "outputs": [],
   "source": [
    "#from sklearn.datasets.samples_generator import make_blobs\n",
    "X, y_true = make_blobs(n_samples=5000, centers=5,\n",
    "                       cluster_std=0.60, random_state=0)\n",
    "plt.scatter(X[:, 0], X[:,1],   data =Data_Seg_1);"
   ]
  },
  {
   "cell_type": "code",
   "execution_count": null,
   "metadata": {},
   "outputs": [],
   "source": []
  },
  {
   "cell_type": "code",
   "execution_count": null,
   "metadata": {},
   "outputs": [],
   "source": []
  },
  {
   "cell_type": "code",
   "execution_count": null,
   "metadata": {},
   "outputs": [],
   "source": []
  }
 ],
 "metadata": {
  "kernelspec": {
   "display_name": "Python 3",
   "language": "python",
   "name": "python3"
  },
  "language_info": {
   "codemirror_mode": {
    "name": "ipython",
    "version": 3
   },
   "file_extension": ".py",
   "mimetype": "text/x-python",
   "name": "python",
   "nbconvert_exporter": "python",
   "pygments_lexer": "ipython3",
   "version": "3.6.4"
  }
 },
 "nbformat": 4,
 "nbformat_minor": 2
}
