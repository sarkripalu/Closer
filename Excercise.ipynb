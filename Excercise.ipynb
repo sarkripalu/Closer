{
 "cells": [
  {
   "cell_type": "markdown",
   "metadata": {},
   "source": [
    "# Preliminaries "
   ]
  },
  {
   "cell_type": "code",
   "execution_count": 1,
   "metadata": {},
   "outputs": [],
   "source": [
    "import pandas as pd\n",
    "import numpy as np\n",
    "import seaborn as sns\n",
    "from sklearn import linear_model\n",
    "import matplotlib.pyplot as plt\n",
    "%matplotlib inline"
   ]
  },
  {
   "cell_type": "markdown",
   "metadata": {},
   "source": [
    "# Load the data"
   ]
  },
  {
   "cell_type": "code",
   "execution_count": 2,
   "metadata": {},
   "outputs": [],
   "source": [
    "data = pd.read_excel('C:\\\\Users\\\\Closer\\\\Desktop\\\\Closer\\\\Imp_Doc\\\\A2Z_Insurance.xlsx', delimiter=',' )\n",
    "\n",
    "\n",
    "#Int_data = [\"First Policy´s Year\", \"Customer Age\", \"Gross Monthly Salary\", \"Geographic Living Area\"]\n",
    "#data[Int_data] = data[Int_data].applymap(np.int64)"
   ]
  },
  {
   "cell_type": "code",
   "execution_count": 3,
   "metadata": {},
   "outputs": [
    {
     "data": {
      "text/plain": [
       "(10296, 14)"
      ]
     },
     "execution_count": 3,
     "metadata": {},
     "output_type": "execute_result"
    }
   ],
   "source": [
    "data.shape"
   ]
  },
  {
   "cell_type": "code",
   "execution_count": 4,
   "metadata": {},
   "outputs": [
    {
     "data": {
      "text/plain": [
       "(10296, 14)"
      ]
     },
     "execution_count": 4,
     "metadata": {},
     "output_type": "execute_result"
    }
   ],
   "source": [
    "data.shape"
   ]
  },
  {
   "cell_type": "code",
   "execution_count": null,
   "metadata": {},
   "outputs": [],
   "source": [
    "\n"
   ]
  },
  {
   "cell_type": "code",
   "execution_count": 5,
   "metadata": {},
   "outputs": [],
   "source": [
    "data.values;"
   ]
  },
  {
   "cell_type": "code",
   "execution_count": 6,
   "metadata": {},
   "outputs": [],
   "source": [
    "data1 = data[['Customer Identity', 'First Policy´s Year', 'Customer Age',\n",
    "       'Gross Monthly Salary', 'Geographic Living Area',\n",
    "       'Has Children (Y=1)', 'Customer Monetary Value', 'Claims Rate',\n",
    "       'Premiums in LOB: Motor', 'Premiums in LOB: Household',\n",
    "       'Premiums in LOB: Health', 'Premiums in LOB:  Life',\n",
    "       'Premiums in LOB: Work Compensations']]\n",
    "df1 = data[['Customer Identity', 'First Policy´s Year', 'Customer Age',\n",
    "       'Gross Monthly Salary', 'Geographic Living Area',\n",
    "       'Has Children (Y=1)', 'Customer Monetary Value', 'Claims Rate',\n",
    "       'Premiums in LOB: Motor', 'Premiums in LOB: Household',\n",
    "       'Premiums in LOB: Health', 'Premiums in LOB:  Life',\n",
    "       'Premiums in LOB: Work Compensations']]"
   ]
  },
  {
   "cell_type": "code",
   "execution_count": 7,
   "metadata": {},
   "outputs": [],
   "source": [
    "data1; # Data1 is without Educational Degree."
   ]
  },
  {
   "cell_type": "markdown",
   "metadata": {},
   "source": [
    "# Creating new dataset"
   ]
  },
  {
   "cell_type": "markdown",
   "metadata": {},
   "source": [
    "## 1. Change the Name_of_the_Column and integrate it with underscore so that the names can be used directly for the further purposes. \n"
   ]
  },
  {
   "cell_type": "code",
   "execution_count": 8,
   "metadata": {},
   "outputs": [],
   "source": [
    "data2 = data1.rename(columns = {'Customer Identity':'Customer_Identity' , \n",
    "                           'First Policy´s Year':'First_Policy_Year',\n",
    "                           'Customer Age':'Customer_Age',\n",
    "                           'Gross Monthly Salary': 'Gross_Monthly_Salary',\n",
    "                           'Geographic Living Area':'Geographic_Living_Area',\n",
    "                           'Has Children (Y=1)': 'Has_Children', \n",
    "                           'Customer Monetary Value':'Customer_Monetary_Value',\n",
    "                           'Claims Rate':'Claims_Rate',\n",
    "                           'Premiums in LOB: Motor':'Premiums_Motor', \n",
    "                           'Premiums in LOB: Household':'Premiums_Household',\n",
    "                           'Premiums in LOB: Health':'Premiums_Health',\n",
    "                           'Premiums in LOB:  Life':'Premiums_Life',\n",
    "                           'Premiums in LOB: Work Compensations':'Premiums_Work_Compensations'})"
   ]
  },
  {
   "cell_type": "code",
   "execution_count": 9,
   "metadata": {},
   "outputs": [],
   "source": [
    "data2;\n"
   ]
  },
  {
   "cell_type": "markdown",
   "metadata": {},
   "source": [
    "#  Df (Stylish 10000 ;) )"
   ]
  },
  {
   "cell_type": "code",
   "execution_count": 10,
   "metadata": {},
   "outputs": [],
   "source": [
    "df_rename =df1.rename(columns = {'Customer Identity':'Customer_Identity' , \n",
    "                           'First Policy´s Year':'First_Policy_Year',\n",
    "                           'Customer Age':'Customer_Age',\n",
    "                           'Gross Monthly Salary': 'Gross_Monthly_Salary',\n",
    "                           'Geographic Living Area':'Geographic_Living_Area',\n",
    "                           'Has Children (Y=1)': 'Has_Children', \n",
    "                           'Customer Monetary Value':'Customer_Monetary_Value',\n",
    "                           'Claims Rate':'Claims_Rate',\n",
    "                           'Premiums in LOB: Motor':'Premiums_Motor', \n",
    "                           'Premiums in LOB: Household':'Premiums_Household',\n",
    "                           'Premiums in LOB: Health':'Premiums_Health',\n",
    "                           'Premiums in LOB:  Life':'Premiums_Life',\n",
    "                           'Premiums in LOB: Work Compensations':'Premiums_Work_Compensations'})"
   ]
  },
  {
   "cell_type": "code",
   "execution_count": 11,
   "metadata": {},
   "outputs": [
    {
     "data": {
      "text/plain": [
       "Index(['Customer_Identity', 'First_Policy_Year', 'Customer_Age',\n",
       "       'Gross_Monthly_Salary', 'Geographic_Living_Area', 'Has_Children',\n",
       "       'Customer_Monetary_Value', 'Claims_Rate', 'Premiums_Motor',\n",
       "       'Premiums_Household', 'Premiums_Health', 'Premiums_Life',\n",
       "       'Premiums_Work_Compensations'],\n",
       "      dtype='object')"
      ]
     },
     "execution_count": 11,
     "metadata": {},
     "output_type": "execute_result"
    }
   ],
   "source": [
    "df_rename.columns"
   ]
  },
  {
   "cell_type": "code",
   "execution_count": null,
   "metadata": {},
   "outputs": [],
   "source": [
    "\n"
   ]
  },
  {
   "cell_type": "code",
   "execution_count": null,
   "metadata": {},
   "outputs": [],
   "source": []
  },
  {
   "cell_type": "markdown",
   "metadata": {},
   "source": [
    "##  Now, need to organise the dataset. "
   ]
  },
  {
   "cell_type": "markdown",
   "metadata": {},
   "source": [
    "### NaN treatment"
   ]
  },
  {
   "cell_type": "code",
   "execution_count": 12,
   "metadata": {},
   "outputs": [
    {
     "data": {
      "text/plain": [
       "(10296, 13)"
      ]
     },
     "execution_count": 12,
     "metadata": {},
     "output_type": "execute_result"
    }
   ],
   "source": [
    "df_rename.shape"
   ]
  },
  {
   "cell_type": "code",
   "execution_count": null,
   "metadata": {},
   "outputs": [],
   "source": []
  },
  {
   "cell_type": "code",
   "execution_count": 13,
   "metadata": {},
   "outputs": [],
   "source": [
    "df_Id_Index = df_rename.set_index('Customer_Identity')"
   ]
  },
  {
   "cell_type": "code",
   "execution_count": 14,
   "metadata": {},
   "outputs": [],
   "source": [
    "df_fillna= df_Id_Index.fillna(method= 'ffill') #Interpolate the values"
   ]
  },
  {
   "cell_type": "code",
   "execution_count": 15,
   "metadata": {},
   "outputs": [],
   "source": [
    "#df_CR_index = df_fillna.sort_values('Claims_Rate')"
   ]
  },
  {
   "cell_type": "code",
   "execution_count": 16,
   "metadata": {},
   "outputs": [],
   "source": [
    "df_fillna;"
   ]
  },
  {
   "cell_type": "code",
   "execution_count": 17,
   "metadata": {},
   "outputs": [],
   "source": [
    "df2 = df_fillna.head(n = 10000)"
   ]
  },
  {
   "cell_type": "code",
   "execution_count": 18,
   "metadata": {},
   "outputs": [
    {
     "data": {
      "text/plain": [
       "(10296, 13)"
      ]
     },
     "execution_count": 18,
     "metadata": {},
     "output_type": "execute_result"
    }
   ],
   "source": [
    "df1.shape"
   ]
  },
  {
   "cell_type": "code",
   "execution_count": 19,
   "metadata": {},
   "outputs": [
    {
     "data": {
      "text/plain": [
       "(10000, 12)"
      ]
     },
     "execution_count": 19,
     "metadata": {},
     "output_type": "execute_result"
    }
   ],
   "source": [
    "df2.shape"
   ]
  },
  {
   "cell_type": "code",
   "execution_count": null,
   "metadata": {},
   "outputs": [],
   "source": []
  },
  {
   "cell_type": "code",
   "execution_count": 20,
   "metadata": {},
   "outputs": [
    {
     "data": {
      "text/plain": [
       "First_Policy_Year              False\n",
       "Customer_Age                   False\n",
       "Gross_Monthly_Salary           False\n",
       "Geographic_Living_Area         False\n",
       "Has_Children                   False\n",
       "Customer_Monetary_Value        False\n",
       "Claims_Rate                    False\n",
       "Premiums_Motor                 False\n",
       "Premiums_Household             False\n",
       "Premiums_Health                False\n",
       "Premiums_Life                  False\n",
       "Premiums_Work_Compensations    False\n",
       "dtype: bool"
      ]
     },
     "execution_count": 20,
     "metadata": {},
     "output_type": "execute_result"
    }
   ],
   "source": [
    "df2.isnull().any()"
   ]
  },
  {
   "cell_type": "code",
   "execution_count": 21,
   "metadata": {},
   "outputs": [],
   "source": [
    "df2.fillna(method = 'ffill');"
   ]
  },
  {
   "cell_type": "markdown",
   "metadata": {},
   "source": [
    "###  NaN - interpolation"
   ]
  },
  {
   "cell_type": "code",
   "execution_count": 22,
   "metadata": {},
   "outputs": [
    {
     "name": "stderr",
     "output_type": "stream",
     "text": [
      "C:\\Users\\Closer\\AppData\\Local\\Continuum\\anaconda3\\lib\\site-packages\\ipykernel_launcher.py:3: SettingWithCopyWarning: \n",
      "A value is trying to be set on a copy of a slice from a DataFrame.\n",
      "Try using .loc[row_indexer,col_indexer] = value instead\n",
      "\n",
      "See the caveats in the documentation: http://pandas.pydata.org/pandas-docs/stable/indexing.html#indexing-view-versus-copy\n",
      "  This is separate from the ipykernel package so we can avoid doing imports until\n"
     ]
    }
   ],
   "source": [
    "columns =  df2.iloc[:,:5]\n",
    "for col in columns:\n",
    "    df2[col] = df2[col].fillna(method = 'ffill').apply(int)\n",
    "df2;"
   ]
  },
  {
   "cell_type": "code",
   "execution_count": 23,
   "metadata": {},
   "outputs": [
    {
     "data": {
      "text/plain": [
       "First_Policy_Year                int64\n",
       "Customer_Age                     int64\n",
       "Gross_Monthly_Salary             int64\n",
       "Geographic_Living_Area           int64\n",
       "Has_Children                     int64\n",
       "Customer_Monetary_Value        float64\n",
       "Claims_Rate                    float64\n",
       "Premiums_Motor                 float64\n",
       "Premiums_Household             float64\n",
       "Premiums_Health                float64\n",
       "Premiums_Life                  float64\n",
       "Premiums_Work_Compensations    float64\n",
       "dtype: object"
      ]
     },
     "execution_count": 23,
     "metadata": {},
     "output_type": "execute_result"
    }
   ],
   "source": [
    "df2.dtypes"
   ]
  },
  {
   "cell_type": "code",
   "execution_count": 24,
   "metadata": {},
   "outputs": [
    {
     "data": {
      "text/plain": [
       "array([34, 21, 46, 35, 43, 60, 73, 42, 38, 68, 71, 58, 67, 16, 41, 37, 27,\n",
       "       54, 30, 55, 64, 72, 79, 74, 44, 63, 50, 61, 75, 78, 48, 26, 32, 36,\n",
       "       70, 51, 59, 49, 39, 65, 31, 57, 28, 33, 77, 52, 66, 56, 40, 45, 62,\n",
       "       47, 22, 24, 19, 53, 25, 17, 23, 69, 29, 20, 76, 81, 80, 18, 15],\n",
       "      dtype=int64)"
      ]
     },
     "execution_count": 24,
     "metadata": {},
     "output_type": "execute_result"
    }
   ],
   "source": [
    "df2.Customer_Age.unique()"
   ]
  },
  {
   "cell_type": "code",
   "execution_count": null,
   "metadata": {},
   "outputs": [],
   "source": []
  },
  {
   "cell_type": "code",
   "execution_count": null,
   "metadata": {},
   "outputs": [],
   "source": []
  },
  {
   "cell_type": "markdown",
   "metadata": {},
   "source": [
    "## Change the Index for Data2\n",
    "\n",
    "### - To make the DataFrame relevant, the Customer_Identity is used as index"
   ]
  },
  {
   "cell_type": "code",
   "execution_count": 25,
   "metadata": {},
   "outputs": [],
   "source": [
    "data2= data2.set_index('Customer_Identity')"
   ]
  },
  {
   "cell_type": "code",
   "execution_count": 26,
   "metadata": {},
   "outputs": [
    {
     "data": {
      "text/plain": [
       "(10296, 12)"
      ]
     },
     "execution_count": 26,
     "metadata": {},
     "output_type": "execute_result"
    }
   ],
   "source": [
    "data2.shape"
   ]
  },
  {
   "cell_type": "code",
   "execution_count": 27,
   "metadata": {},
   "outputs": [],
   "source": [
    "data2.Claims_Rate;"
   ]
  },
  {
   "cell_type": "code",
   "execution_count": 28,
   "metadata": {},
   "outputs": [],
   "source": [
    "a = data2.First_Policy_Year.dropna().apply(np.int64); # The pupose of this was to check if it changes for the data frame or not. \n",
    "# It is found that it doesn't apply effect the data2."
   ]
  },
  {
   "cell_type": "code",
   "execution_count": 29,
   "metadata": {},
   "outputs": [],
   "source": [
    "data2;"
   ]
  },
  {
   "cell_type": "code",
   "execution_count": null,
   "metadata": {},
   "outputs": [],
   "source": []
  },
  {
   "cell_type": "markdown",
   "metadata": {},
   "source": [
    "### Check if there is any Null value in any column"
   ]
  },
  {
   "cell_type": "code",
   "execution_count": 30,
   "metadata": {},
   "outputs": [
    {
     "data": {
      "text/plain": [
       "First_Policy_Year               True\n",
       "Customer_Age                    True\n",
       "Gross_Monthly_Salary            True\n",
       "Geographic_Living_Area          True\n",
       "Has_Children                    True\n",
       "Customer_Monetary_Value        False\n",
       "Claims_Rate                    False\n",
       "Premiums_Motor                  True\n",
       "Premiums_Household             False\n",
       "Premiums_Health                 True\n",
       "Premiums_Life                   True\n",
       "Premiums_Work_Compensations     True\n",
       "dtype: bool"
      ]
     },
     "execution_count": 30,
     "metadata": {},
     "output_type": "execute_result"
    }
   ],
   "source": [
    "data2.isnull().any() # True value suggest that there are null. "
   ]
  },
  {
   "cell_type": "code",
   "execution_count": null,
   "metadata": {},
   "outputs": [],
   "source": []
  },
  {
   "cell_type": "code",
   "execution_count": null,
   "metadata": {},
   "outputs": [],
   "source": []
  },
  {
   "cell_type": "code",
   "execution_count": 31,
   "metadata": {},
   "outputs": [
    {
     "data": {
      "text/plain": [
       "First_Policy_Year              float64\n",
       "Customer_Age                   float64\n",
       "Gross_Monthly_Salary           float64\n",
       "Geographic_Living_Area         float64\n",
       "Has_Children                   float64\n",
       "Customer_Monetary_Value        float64\n",
       "Claims_Rate                    float64\n",
       "Premiums_Motor                 float64\n",
       "Premiums_Household             float64\n",
       "Premiums_Health                float64\n",
       "Premiums_Life                  float64\n",
       "Premiums_Work_Compensations    float64\n",
       "dtype: object"
      ]
     },
     "execution_count": 31,
     "metadata": {},
     "output_type": "execute_result"
    }
   ],
   "source": [
    "data2.dtypes "
   ]
  },
  {
   "cell_type": "code",
   "execution_count": 32,
   "metadata": {},
   "outputs": [
    {
     "data": {
      "text/html": [
       "<div>\n",
       "<style scoped>\n",
       "    .dataframe tbody tr th:only-of-type {\n",
       "        vertical-align: middle;\n",
       "    }\n",
       "\n",
       "    .dataframe tbody tr th {\n",
       "        vertical-align: top;\n",
       "    }\n",
       "\n",
       "    .dataframe thead th {\n",
       "        text-align: right;\n",
       "    }\n",
       "</style>\n",
       "<table border=\"1\" class=\"dataframe\">\n",
       "  <thead>\n",
       "    <tr style=\"text-align: right;\">\n",
       "      <th></th>\n",
       "      <th>Customer Identity</th>\n",
       "      <th>First Policy´s Year</th>\n",
       "      <th>Customer Age</th>\n",
       "      <th>Gross Monthly Salary</th>\n",
       "      <th>Geographic Living Area</th>\n",
       "      <th>Has Children (Y=1)</th>\n",
       "      <th>Customer Monetary Value</th>\n",
       "      <th>Claims Rate</th>\n",
       "      <th>Premiums in LOB: Motor</th>\n",
       "      <th>Premiums in LOB: Household</th>\n",
       "      <th>Premiums in LOB: Health</th>\n",
       "      <th>Premiums in LOB:  Life</th>\n",
       "      <th>Premiums in LOB: Work Compensations</th>\n",
       "    </tr>\n",
       "  </thead>\n",
       "  <tbody>\n",
       "    <tr>\n",
       "      <th>count</th>\n",
       "      <td>10296.00000</td>\n",
       "      <td>10265.000000</td>\n",
       "      <td>10279.000000</td>\n",
       "      <td>10258.000000</td>\n",
       "      <td>10295.000000</td>\n",
       "      <td>10275.000000</td>\n",
       "      <td>10296.000000</td>\n",
       "      <td>10296.000000</td>\n",
       "      <td>10262.000000</td>\n",
       "      <td>10296.000000</td>\n",
       "      <td>10253.000000</td>\n",
       "      <td>10192.000000</td>\n",
       "      <td>10209.000000</td>\n",
       "    </tr>\n",
       "    <tr>\n",
       "      <th>mean</th>\n",
       "      <td>5148.50000</td>\n",
       "      <td>1986.017048</td>\n",
       "      <td>47.903687</td>\n",
       "      <td>4996.326087</td>\n",
       "      <td>2.709859</td>\n",
       "      <td>0.706764</td>\n",
       "      <td>177.892604</td>\n",
       "      <td>0.684239</td>\n",
       "      <td>300.470252</td>\n",
       "      <td>210.431192</td>\n",
       "      <td>171.580833</td>\n",
       "      <td>41.855782</td>\n",
       "      <td>41.240703</td>\n",
       "    </tr>\n",
       "    <tr>\n",
       "      <th>std</th>\n",
       "      <td>2972.34352</td>\n",
       "      <td>6.612110</td>\n",
       "      <td>17.394590</td>\n",
       "      <td>1969.053253</td>\n",
       "      <td>1.266291</td>\n",
       "      <td>0.455268</td>\n",
       "      <td>1945.811545</td>\n",
       "      <td>0.381656</td>\n",
       "      <td>211.914997</td>\n",
       "      <td>352.595984</td>\n",
       "      <td>296.405976</td>\n",
       "      <td>47.480632</td>\n",
       "      <td>51.381629</td>\n",
       "    </tr>\n",
       "    <tr>\n",
       "      <th>min</th>\n",
       "      <td>1.00000</td>\n",
       "      <td>1974.000000</td>\n",
       "      <td>15.000000</td>\n",
       "      <td>665.000000</td>\n",
       "      <td>1.000000</td>\n",
       "      <td>0.000000</td>\n",
       "      <td>-165680.424000</td>\n",
       "      <td>0.000000</td>\n",
       "      <td>-4.110000</td>\n",
       "      <td>-75.000000</td>\n",
       "      <td>-2.110000</td>\n",
       "      <td>-7.000000</td>\n",
       "      <td>-12.000000</td>\n",
       "    </tr>\n",
       "    <tr>\n",
       "      <th>25%</th>\n",
       "      <td>2574.75000</td>\n",
       "      <td>1980.000000</td>\n",
       "      <td>33.000000</td>\n",
       "      <td>3411.000000</td>\n",
       "      <td>1.000000</td>\n",
       "      <td>0.000000</td>\n",
       "      <td>-9.440000</td>\n",
       "      <td>0.392221</td>\n",
       "      <td>190.590000</td>\n",
       "      <td>49.450000</td>\n",
       "      <td>111.800000</td>\n",
       "      <td>9.890000</td>\n",
       "      <td>10.670000</td>\n",
       "    </tr>\n",
       "    <tr>\n",
       "      <th>50%</th>\n",
       "      <td>5148.50000</td>\n",
       "      <td>1986.000000</td>\n",
       "      <td>48.000000</td>\n",
       "      <td>5002.000000</td>\n",
       "      <td>3.000000</td>\n",
       "      <td>1.000000</td>\n",
       "      <td>186.870000</td>\n",
       "      <td>0.719198</td>\n",
       "      <td>298.610000</td>\n",
       "      <td>132.800000</td>\n",
       "      <td>162.810000</td>\n",
       "      <td>25.560000</td>\n",
       "      <td>25.670000</td>\n",
       "    </tr>\n",
       "    <tr>\n",
       "      <th>75%</th>\n",
       "      <td>7722.25000</td>\n",
       "      <td>1992.000000</td>\n",
       "      <td>63.000000</td>\n",
       "      <td>6580.000000</td>\n",
       "      <td>4.000000</td>\n",
       "      <td>1.000000</td>\n",
       "      <td>399.777500</td>\n",
       "      <td>0.976307</td>\n",
       "      <td>408.300000</td>\n",
       "      <td>290.050000</td>\n",
       "      <td>219.820000</td>\n",
       "      <td>57.790000</td>\n",
       "      <td>56.790000</td>\n",
       "    </tr>\n",
       "    <tr>\n",
       "      <th>max</th>\n",
       "      <td>10296.00000</td>\n",
       "      <td>1998.000000</td>\n",
       "      <td>81.000000</td>\n",
       "      <td>10042.000000</td>\n",
       "      <td>4.000000</td>\n",
       "      <td>1.000000</td>\n",
       "      <td>11875.890000</td>\n",
       "      <td>13.900000</td>\n",
       "      <td>11604.420000</td>\n",
       "      <td>25048.800000</td>\n",
       "      <td>28272.000000</td>\n",
       "      <td>398.300000</td>\n",
       "      <td>1988.700000</td>\n",
       "    </tr>\n",
       "  </tbody>\n",
       "</table>\n",
       "</div>"
      ],
      "text/plain": [
       "       Customer Identity  First Policy´s Year  Customer Age  \\\n",
       "count        10296.00000         10265.000000  10279.000000   \n",
       "mean          5148.50000          1986.017048     47.903687   \n",
       "std           2972.34352             6.612110     17.394590   \n",
       "min              1.00000          1974.000000     15.000000   \n",
       "25%           2574.75000          1980.000000     33.000000   \n",
       "50%           5148.50000          1986.000000     48.000000   \n",
       "75%           7722.25000          1992.000000     63.000000   \n",
       "max          10296.00000          1998.000000     81.000000   \n",
       "\n",
       "       Gross Monthly Salary  Geographic Living Area  Has Children (Y=1)  \\\n",
       "count          10258.000000            10295.000000        10275.000000   \n",
       "mean            4996.326087                2.709859            0.706764   \n",
       "std             1969.053253                1.266291            0.455268   \n",
       "min              665.000000                1.000000            0.000000   \n",
       "25%             3411.000000                1.000000            0.000000   \n",
       "50%             5002.000000                3.000000            1.000000   \n",
       "75%             6580.000000                4.000000            1.000000   \n",
       "max            10042.000000                4.000000            1.000000   \n",
       "\n",
       "       Customer Monetary Value   Claims Rate  Premiums in LOB: Motor  \\\n",
       "count             10296.000000  10296.000000            10262.000000   \n",
       "mean                177.892604      0.684239              300.470252   \n",
       "std                1945.811545      0.381656              211.914997   \n",
       "min             -165680.424000      0.000000               -4.110000   \n",
       "25%                  -9.440000      0.392221              190.590000   \n",
       "50%                 186.870000      0.719198              298.610000   \n",
       "75%                 399.777500      0.976307              408.300000   \n",
       "max               11875.890000     13.900000            11604.420000   \n",
       "\n",
       "       Premiums in LOB: Household  Premiums in LOB: Health  \\\n",
       "count                10296.000000             10253.000000   \n",
       "mean                   210.431192               171.580833   \n",
       "std                    352.595984               296.405976   \n",
       "min                    -75.000000                -2.110000   \n",
       "25%                     49.450000               111.800000   \n",
       "50%                    132.800000               162.810000   \n",
       "75%                    290.050000               219.820000   \n",
       "max                  25048.800000             28272.000000   \n",
       "\n",
       "       Premiums in LOB:  Life  Premiums in LOB: Work Compensations  \n",
       "count            10192.000000                         10209.000000  \n",
       "mean                41.855782                            41.240703  \n",
       "std                 47.480632                            51.381629  \n",
       "min                 -7.000000                           -12.000000  \n",
       "25%                  9.890000                            10.670000  \n",
       "50%                 25.560000                            25.670000  \n",
       "75%                 57.790000                            56.790000  \n",
       "max                398.300000                          1988.700000  "
      ]
     },
     "execution_count": 32,
     "metadata": {},
     "output_type": "execute_result"
    }
   ],
   "source": [
    "df1.describe()"
   ]
  },
  {
   "cell_type": "markdown",
   "metadata": {},
   "source": [
    "# 2. Convert the float into int. \n",
    "## -  Remove the NaN so that you can apply (int)"
   ]
  },
  {
   "cell_type": "markdown",
   "metadata": {},
   "source": [
    "##  - The most important part is to replace the NaN values (not drop) and convert the necessary floats into integers. \n"
   ]
  },
  {
   "cell_type": "code",
   "execution_count": 33,
   "metadata": {},
   "outputs": [
    {
     "data": {
      "text/plain": [
       "Index(['First_Policy_Year', 'Customer_Age', 'Gross_Monthly_Salary',\n",
       "       'Geographic_Living_Area', 'Has_Children', 'Customer_Monetary_Value',\n",
       "       'Claims_Rate', 'Premiums_Motor', 'Premiums_Household',\n",
       "       'Premiums_Health', 'Premiums_Life', 'Premiums_Work_Compensations'],\n",
       "      dtype='object')"
      ]
     },
     "execution_count": 33,
     "metadata": {},
     "output_type": "execute_result"
    }
   ],
   "source": [
    "data2['First_Policy_Year']=data2.First_Policy_Year.dropna().apply(np.int64) # Testing\n",
    "data2.columns"
   ]
  },
  {
   "cell_type": "code",
   "execution_count": 34,
   "metadata": {},
   "outputs": [],
   "source": [
    "columns =  data2.iloc[:,:5]\n",
    "for col in columns:\n",
    "    data2[col] = data2[col].fillna(method = 'ffill').apply(int)\n",
    "    "
   ]
  },
  {
   "cell_type": "code",
   "execution_count": 35,
   "metadata": {},
   "outputs": [],
   "source": [
    "#data2.sort_values('Customer_Monetary_Value');"
   ]
  },
  {
   "cell_type": "code",
   "execution_count": 36,
   "metadata": {},
   "outputs": [],
   "source": [
    "columns =  data2.iloc[:,6:13]\n",
    "for col in columns:\n",
    "    data2[col] = data2[col].fillna(method = 'ffill').apply(float) \n",
    "    #The float was tried to convert into str but it's better in float."
   ]
  },
  {
   "cell_type": "code",
   "execution_count": 37,
   "metadata": {},
   "outputs": [
    {
     "data": {
      "text/plain": [
       "First_Policy_Year                int64\n",
       "Customer_Age                     int64\n",
       "Gross_Monthly_Salary             int64\n",
       "Geographic_Living_Area           int64\n",
       "Has_Children                     int64\n",
       "Customer_Monetary_Value        float64\n",
       "Claims_Rate                    float64\n",
       "Premiums_Motor                 float64\n",
       "Premiums_Household             float64\n",
       "Premiums_Health                float64\n",
       "Premiums_Life                  float64\n",
       "Premiums_Work_Compensations    float64\n",
       "dtype: object"
      ]
     },
     "execution_count": 37,
     "metadata": {},
     "output_type": "execute_result"
    }
   ],
   "source": [
    "data2.dtypes"
   ]
  },
  {
   "cell_type": "code",
   "execution_count": 38,
   "metadata": {},
   "outputs": [
    {
     "data": {
      "text/plain": [
       "Index(['First_Policy_Year', 'Customer_Age', 'Gross_Monthly_Salary',\n",
       "       'Geographic_Living_Area', 'Has_Children', 'Customer_Monetary_Value',\n",
       "       'Claims_Rate', 'Premiums_Motor', 'Premiums_Household',\n",
       "       'Premiums_Health', 'Premiums_Life', 'Premiums_Work_Compensations'],\n",
       "      dtype='object')"
      ]
     },
     "execution_count": 38,
     "metadata": {},
     "output_type": "execute_result"
    }
   ],
   "source": [
    "data2.columns"
   ]
  },
  {
   "cell_type": "code",
   "execution_count": 39,
   "metadata": {},
   "outputs": [
    {
     "data": {
      "text/html": [
       "<div>\n",
       "<style scoped>\n",
       "    .dataframe tbody tr th:only-of-type {\n",
       "        vertical-align: middle;\n",
       "    }\n",
       "\n",
       "    .dataframe tbody tr th {\n",
       "        vertical-align: top;\n",
       "    }\n",
       "\n",
       "    .dataframe thead th {\n",
       "        text-align: right;\n",
       "    }\n",
       "</style>\n",
       "<table border=\"1\" class=\"dataframe\">\n",
       "  <thead>\n",
       "    <tr style=\"text-align: right;\">\n",
       "      <th></th>\n",
       "      <th>First_Policy_Year</th>\n",
       "      <th>Customer_Age</th>\n",
       "      <th>Gross_Monthly_Salary</th>\n",
       "      <th>Geographic_Living_Area</th>\n",
       "      <th>Has_Children</th>\n",
       "      <th>Customer_Monetary_Value</th>\n",
       "      <th>Claims_Rate</th>\n",
       "      <th>Premiums_Motor</th>\n",
       "      <th>Premiums_Household</th>\n",
       "      <th>Premiums_Health</th>\n",
       "      <th>Premiums_Life</th>\n",
       "      <th>Premiums_Work_Compensations</th>\n",
       "    </tr>\n",
       "    <tr>\n",
       "      <th>Customer_Identity</th>\n",
       "      <th></th>\n",
       "      <th></th>\n",
       "      <th></th>\n",
       "      <th></th>\n",
       "      <th></th>\n",
       "      <th></th>\n",
       "      <th></th>\n",
       "      <th></th>\n",
       "      <th></th>\n",
       "      <th></th>\n",
       "      <th></th>\n",
       "      <th></th>\n",
       "    </tr>\n",
       "  </thead>\n",
       "  <tbody>\n",
       "    <tr>\n",
       "      <th>1</th>\n",
       "      <td>1985</td>\n",
       "      <td>34</td>\n",
       "      <td>4354</td>\n",
       "      <td>1</td>\n",
       "      <td>1</td>\n",
       "      <td>380.97</td>\n",
       "      <td>0.390032</td>\n",
       "      <td>375.85</td>\n",
       "      <td>79.45</td>\n",
       "      <td>146.36</td>\n",
       "      <td>47.01</td>\n",
       "      <td>16.89</td>\n",
       "    </tr>\n",
       "    <tr>\n",
       "      <th>2</th>\n",
       "      <td>1981</td>\n",
       "      <td>21</td>\n",
       "      <td>1353</td>\n",
       "      <td>4</td>\n",
       "      <td>1</td>\n",
       "      <td>-131.13</td>\n",
       "      <td>1.116503</td>\n",
       "      <td>77.46</td>\n",
       "      <td>416.20</td>\n",
       "      <td>116.69</td>\n",
       "      <td>194.48</td>\n",
       "      <td>106.13</td>\n",
       "    </tr>\n",
       "    <tr>\n",
       "      <th>3</th>\n",
       "      <td>1991</td>\n",
       "      <td>46</td>\n",
       "      <td>4554</td>\n",
       "      <td>3</td>\n",
       "      <td>0</td>\n",
       "      <td>504.67</td>\n",
       "      <td>0.284810</td>\n",
       "      <td>206.15</td>\n",
       "      <td>224.50</td>\n",
       "      <td>124.58</td>\n",
       "      <td>86.35</td>\n",
       "      <td>99.02</td>\n",
       "    </tr>\n",
       "    <tr>\n",
       "      <th>4</th>\n",
       "      <td>1990</td>\n",
       "      <td>35</td>\n",
       "      <td>2197</td>\n",
       "      <td>4</td>\n",
       "      <td>1</td>\n",
       "      <td>-16.99</td>\n",
       "      <td>0.986665</td>\n",
       "      <td>182.48</td>\n",
       "      <td>43.35</td>\n",
       "      <td>311.17</td>\n",
       "      <td>35.34</td>\n",
       "      <td>28.34</td>\n",
       "    </tr>\n",
       "    <tr>\n",
       "      <th>5</th>\n",
       "      <td>1986</td>\n",
       "      <td>43</td>\n",
       "      <td>3526</td>\n",
       "      <td>4</td>\n",
       "      <td>1</td>\n",
       "      <td>35.23</td>\n",
       "      <td>0.904281</td>\n",
       "      <td>338.62</td>\n",
       "      <td>47.80</td>\n",
       "      <td>182.59</td>\n",
       "      <td>18.78</td>\n",
       "      <td>41.45</td>\n",
       "    </tr>\n",
       "  </tbody>\n",
       "</table>\n",
       "</div>"
      ],
      "text/plain": [
       "                   First_Policy_Year  Customer_Age  Gross_Monthly_Salary  \\\n",
       "Customer_Identity                                                          \n",
       "1                               1985            34                  4354   \n",
       "2                               1981            21                  1353   \n",
       "3                               1991            46                  4554   \n",
       "4                               1990            35                  2197   \n",
       "5                               1986            43                  3526   \n",
       "\n",
       "                   Geographic_Living_Area  Has_Children  \\\n",
       "Customer_Identity                                         \n",
       "1                                       1             1   \n",
       "2                                       4             1   \n",
       "3                                       3             0   \n",
       "4                                       4             1   \n",
       "5                                       4             1   \n",
       "\n",
       "                   Customer_Monetary_Value  Claims_Rate  Premiums_Motor  \\\n",
       "Customer_Identity                                                         \n",
       "1                                   380.97     0.390032          375.85   \n",
       "2                                  -131.13     1.116503           77.46   \n",
       "3                                   504.67     0.284810          206.15   \n",
       "4                                   -16.99     0.986665          182.48   \n",
       "5                                    35.23     0.904281          338.62   \n",
       "\n",
       "                   Premiums_Household  Premiums_Health  Premiums_Life  \\\n",
       "Customer_Identity                                                       \n",
       "1                               79.45           146.36          47.01   \n",
       "2                              416.20           116.69         194.48   \n",
       "3                              224.50           124.58          86.35   \n",
       "4                               43.35           311.17          35.34   \n",
       "5                               47.80           182.59          18.78   \n",
       "\n",
       "                   Premiums_Work_Compensations  \n",
       "Customer_Identity                               \n",
       "1                                        16.89  \n",
       "2                                       106.13  \n",
       "3                                        99.02  \n",
       "4                                        28.34  \n",
       "5                                        41.45  "
      ]
     },
     "execution_count": 39,
     "metadata": {},
     "output_type": "execute_result"
    }
   ],
   "source": [
    "data2.head()"
   ]
  },
  {
   "cell_type": "code",
   "execution_count": null,
   "metadata": {},
   "outputs": [],
   "source": []
  },
  {
   "cell_type": "markdown",
   "metadata": {},
   "source": [
    "### To check the customers' age in decending order. "
   ]
  },
  {
   "cell_type": "code",
   "execution_count": 40,
   "metadata": {},
   "outputs": [
    {
     "data": {
      "text/html": [
       "<div>\n",
       "<style scoped>\n",
       "    .dataframe tbody tr th:only-of-type {\n",
       "        vertical-align: middle;\n",
       "    }\n",
       "\n",
       "    .dataframe tbody tr th {\n",
       "        vertical-align: top;\n",
       "    }\n",
       "\n",
       "    .dataframe thead th {\n",
       "        text-align: right;\n",
       "    }\n",
       "</style>\n",
       "<table border=\"1\" class=\"dataframe\">\n",
       "  <thead>\n",
       "    <tr style=\"text-align: right;\">\n",
       "      <th></th>\n",
       "      <th>First_Policy_Year</th>\n",
       "      <th>Customer_Age</th>\n",
       "      <th>Gross_Monthly_Salary</th>\n",
       "      <th>Geographic_Living_Area</th>\n",
       "      <th>Has_Children</th>\n",
       "      <th>Customer_Monetary_Value</th>\n",
       "      <th>Claims_Rate</th>\n",
       "      <th>Premiums_Motor</th>\n",
       "      <th>Premiums_Household</th>\n",
       "      <th>Premiums_Health</th>\n",
       "      <th>Premiums_Life</th>\n",
       "      <th>Premiums_Work_Compensations</th>\n",
       "    </tr>\n",
       "    <tr>\n",
       "      <th>Customer_Identity</th>\n",
       "      <th></th>\n",
       "      <th></th>\n",
       "      <th></th>\n",
       "      <th></th>\n",
       "      <th></th>\n",
       "      <th></th>\n",
       "      <th></th>\n",
       "      <th></th>\n",
       "      <th></th>\n",
       "      <th></th>\n",
       "      <th></th>\n",
       "      <th></th>\n",
       "    </tr>\n",
       "  </thead>\n",
       "  <tbody>\n",
       "    <tr>\n",
       "      <th>8875</th>\n",
       "      <td>1995</td>\n",
       "      <td>81</td>\n",
       "      <td>8150</td>\n",
       "      <td>1</td>\n",
       "      <td>0</td>\n",
       "      <td>382.18</td>\n",
       "      <td>0.356298</td>\n",
       "      <td>329.95</td>\n",
       "      <td>54.45</td>\n",
       "      <td>200.26</td>\n",
       "      <td>35.34</td>\n",
       "      <td>12.56</td>\n",
       "    </tr>\n",
       "    <tr>\n",
       "      <th>9731</th>\n",
       "      <td>1990</td>\n",
       "      <td>81</td>\n",
       "      <td>8949</td>\n",
       "      <td>3</td>\n",
       "      <td>0</td>\n",
       "      <td>94.47</td>\n",
       "      <td>0.857706</td>\n",
       "      <td>111.80</td>\n",
       "      <td>339.50</td>\n",
       "      <td>268.83</td>\n",
       "      <td>106.91</td>\n",
       "      <td>12.56</td>\n",
       "    </tr>\n",
       "    <tr>\n",
       "      <th>8423</th>\n",
       "      <td>1994</td>\n",
       "      <td>81</td>\n",
       "      <td>8111</td>\n",
       "      <td>3</td>\n",
       "      <td>0</td>\n",
       "      <td>-97.54</td>\n",
       "      <td>1.134720</td>\n",
       "      <td>257.05</td>\n",
       "      <td>-40.55</td>\n",
       "      <td>254.27</td>\n",
       "      <td>29.56</td>\n",
       "      <td>38.12</td>\n",
       "    </tr>\n",
       "    <tr>\n",
       "      <th>1014</th>\n",
       "      <td>1996</td>\n",
       "      <td>81</td>\n",
       "      <td>8493</td>\n",
       "      <td>2</td>\n",
       "      <td>0</td>\n",
       "      <td>-98.79</td>\n",
       "      <td>1.087069</td>\n",
       "      <td>142.36</td>\n",
       "      <td>299.50</td>\n",
       "      <td>307.17</td>\n",
       "      <td>24.67</td>\n",
       "      <td>73.79</td>\n",
       "    </tr>\n",
       "    <tr>\n",
       "      <th>8261</th>\n",
       "      <td>1975</td>\n",
       "      <td>81</td>\n",
       "      <td>7595</td>\n",
       "      <td>4</td>\n",
       "      <td>0</td>\n",
       "      <td>133.25</td>\n",
       "      <td>0.769359</td>\n",
       "      <td>146.25</td>\n",
       "      <td>112.80</td>\n",
       "      <td>340.62</td>\n",
       "      <td>37.23</td>\n",
       "      <td>49.23</td>\n",
       "    </tr>\n",
       "  </tbody>\n",
       "</table>\n",
       "</div>"
      ],
      "text/plain": [
       "                   First_Policy_Year  Customer_Age  Gross_Monthly_Salary  \\\n",
       "Customer_Identity                                                          \n",
       "8875                            1995            81                  8150   \n",
       "9731                            1990            81                  8949   \n",
       "8423                            1994            81                  8111   \n",
       "1014                            1996            81                  8493   \n",
       "8261                            1975            81                  7595   \n",
       "\n",
       "                   Geographic_Living_Area  Has_Children  \\\n",
       "Customer_Identity                                         \n",
       "8875                                    1             0   \n",
       "9731                                    3             0   \n",
       "8423                                    3             0   \n",
       "1014                                    2             0   \n",
       "8261                                    4             0   \n",
       "\n",
       "                   Customer_Monetary_Value  Claims_Rate  Premiums_Motor  \\\n",
       "Customer_Identity                                                         \n",
       "8875                                382.18     0.356298          329.95   \n",
       "9731                                 94.47     0.857706          111.80   \n",
       "8423                                -97.54     1.134720          257.05   \n",
       "1014                                -98.79     1.087069          142.36   \n",
       "8261                                133.25     0.769359          146.25   \n",
       "\n",
       "                   Premiums_Household  Premiums_Health  Premiums_Life  \\\n",
       "Customer_Identity                                                       \n",
       "8875                            54.45           200.26          35.34   \n",
       "9731                           339.50           268.83         106.91   \n",
       "8423                           -40.55           254.27          29.56   \n",
       "1014                           299.50           307.17          24.67   \n",
       "8261                           112.80           340.62          37.23   \n",
       "\n",
       "                   Premiums_Work_Compensations  \n",
       "Customer_Identity                               \n",
       "8875                                     12.56  \n",
       "9731                                     12.56  \n",
       "8423                                     38.12  \n",
       "1014                                     73.79  \n",
       "8261                                     49.23  "
      ]
     },
     "execution_count": 40,
     "metadata": {},
     "output_type": "execute_result"
    }
   ],
   "source": [
    "customer_age = data2.sort_values('Customer_Age', ascending = False)\n",
    "customer_age.head()"
   ]
  },
  {
   "cell_type": "code",
   "execution_count": null,
   "metadata": {},
   "outputs": [],
   "source": []
  },
  {
   "cell_type": "code",
   "execution_count": 41,
   "metadata": {},
   "outputs": [],
   "source": [
    "Gross_Monthly_Salary = data2.sort_values('Gross_Monthly_Salary', ascending = True)\n",
    "Gross_Monthly_Salary;"
   ]
  },
  {
   "cell_type": "code",
   "execution_count": null,
   "metadata": {},
   "outputs": [],
   "source": []
  },
  {
   "cell_type": "code",
   "execution_count": null,
   "metadata": {},
   "outputs": [],
   "source": []
  },
  {
   "cell_type": "code",
   "execution_count": null,
   "metadata": {},
   "outputs": [],
   "source": []
  },
  {
   "cell_type": "code",
   "execution_count": null,
   "metadata": {},
   "outputs": [],
   "source": []
  },
  {
   "cell_type": "code",
   "execution_count": null,
   "metadata": {},
   "outputs": [],
   "source": []
  },
  {
   "cell_type": "code",
   "execution_count": null,
   "metadata": {},
   "outputs": [],
   "source": []
  },
  {
   "cell_type": "markdown",
   "metadata": {},
   "source": [
    "# Linear Modeling"
   ]
  },
  {
   "cell_type": "code",
   "execution_count": null,
   "metadata": {},
   "outputs": [],
   "source": []
  },
  {
   "cell_type": "code",
   "execution_count": null,
   "metadata": {},
   "outputs": [],
   "source": []
  },
  {
   "cell_type": "code",
   "execution_count": 42,
   "metadata": {},
   "outputs": [],
   "source": [
    "data3 = data2[['Geographic_Living_Area', 'Customer_Monetary_Value', 'Claims_Rate', 'Premiums_Motor',\n",
    "       'Premiums_Household', 'Premiums_Health', 'Premiums_Life',\n",
    "       'Premiums_Work_Compensations']]"
   ]
  },
  {
   "cell_type": "markdown",
   "metadata": {},
   "source": [
    "# Region based Data"
   ]
  },
  {
   "cell_type": "code",
   "execution_count": 43,
   "metadata": {},
   "outputs": [],
   "source": [
    "Region_based_core_data = df2.rename(columns = {'Customer Identity':'Customer_Identity' , \n",
    "                           'Geographic Living Area':'Geographic_Living_Area',\n",
    "                           'Customer Monetary Value':'Customer_Monetary_Value',\n",
    "                           'Claims Rate':'Claims_Rate',\n",
    "                           'Premiums in LOB: Motor':'Premiums_Motor', \n",
    "                           'Premiums in LOB: Household':'Premiums_Household',\n",
    "                           'Premiums in LOB: Health':'Premiums_Health',\n",
    "                           'Premiums in LOB:  Life':'Premiums_Life',\n",
    "                           'Premiums in LOB: Work Compensations':'Premiums_Work_Compensations'})"
   ]
  },
  {
   "cell_type": "code",
   "execution_count": null,
   "metadata": {},
   "outputs": [],
   "source": []
  },
  {
   "cell_type": "code",
   "execution_count": 44,
   "metadata": {},
   "outputs": [],
   "source": [
    "df2_premiums= Region_based_core_data.dropna(subset=['Geographic_Living_Area','Customer_Monetary_Value',\n",
    "                           'Claims_Rate',\n",
    "                           'Premiums_Motor', \n",
    "                           'Premiums_Household',\n",
    "                           'Premiums_Health',\n",
    "                           'Premiums_Life',\n",
    "                           'Premiums_Work_Compensations'], how = 'any')"
   ]
  },
  {
   "cell_type": "code",
   "execution_count": 45,
   "metadata": {},
   "outputs": [
    {
     "data": {
      "text/plain": [
       "(10296, 12)"
      ]
     },
     "execution_count": 45,
     "metadata": {},
     "output_type": "execute_result"
    }
   ],
   "source": [
    "data2.shape"
   ]
  },
  {
   "cell_type": "code",
   "execution_count": 46,
   "metadata": {},
   "outputs": [
    {
     "data": {
      "text/plain": [
       "(10000, 12)"
      ]
     },
     "execution_count": 46,
     "metadata": {},
     "output_type": "execute_result"
    }
   ],
   "source": [
    "df2_premiums.shape"
   ]
  },
  {
   "cell_type": "code",
   "execution_count": null,
   "metadata": {},
   "outputs": [],
   "source": []
  },
  {
   "cell_type": "code",
   "execution_count": 47,
   "metadata": {},
   "outputs": [],
   "source": [
    "Region_based_data = df2_premiums[['Geographic_Living_Area','Customer_Monetary_Value',\n",
    "                           'Claims_Rate',\n",
    "                           'Premiums_Motor', \n",
    "                           'Premiums_Household',\n",
    "                           'Premiums_Health',\n",
    "                           'Premiums_Life',\n",
    "                           'Premiums_Work_Compensations']]"
   ]
  },
  {
   "cell_type": "code",
   "execution_count": 48,
   "metadata": {},
   "outputs": [],
   "source": [
    "GeoRegion_based_data = Region_based_data.sort_values('Geographic_Living_Area')"
   ]
  },
  {
   "cell_type": "code",
   "execution_count": 49,
   "metadata": {},
   "outputs": [],
   "source": [
    "GeoRegion_based_data;\n"
   ]
  },
  {
   "cell_type": "code",
   "execution_count": 50,
   "metadata": {},
   "outputs": [
    {
     "data": {
      "text/plain": [
       "(10000, 8)"
      ]
     },
     "execution_count": 50,
     "metadata": {},
     "output_type": "execute_result"
    }
   ],
   "source": [
    "GeoRegion_based_data.shape"
   ]
  },
  {
   "cell_type": "code",
   "execution_count": 51,
   "metadata": {},
   "outputs": [
    {
     "data": {
      "text/plain": [
       "Index(['Geographic_Living_Area', 'Customer_Monetary_Value', 'Claims_Rate',\n",
       "       'Premiums_Motor', 'Premiums_Household', 'Premiums_Health',\n",
       "       'Premiums_Life', 'Premiums_Work_Compensations'],\n",
       "      dtype='object')"
      ]
     },
     "execution_count": 51,
     "metadata": {},
     "output_type": "execute_result"
    }
   ],
   "source": [
    "GeoRegion_based_data.columns"
   ]
  },
  {
   "cell_type": "code",
   "execution_count": 52,
   "metadata": {},
   "outputs": [],
   "source": [
    "#Region_based_data = Region_based_data.set_index('Customer_Identity')"
   ]
  },
  {
   "cell_type": "code",
   "execution_count": null,
   "metadata": {},
   "outputs": [],
   "source": []
  },
  {
   "cell_type": "code",
   "execution_count": null,
   "metadata": {},
   "outputs": [],
   "source": [
    "\n"
   ]
  },
  {
   "cell_type": "code",
   "execution_count": 53,
   "metadata": {},
   "outputs": [
    {
     "data": {
      "text/plain": [
       "(4, 2)"
      ]
     },
     "execution_count": 53,
     "metadata": {},
     "output_type": "execute_result"
    }
   ],
   "source": [
    ">>> import numpy as np\n",
    ">>> from sklearn.manifold import TSNE\n",
    ">>> X = np.array([[0, 0, 0], [0, 1, 1], [1, 0, 1], [1, 1, 1]])\n",
    ">>> X_embedded = TSNE(n_components=2).fit_transform(X)\n",
    ">>> X_embedded.shape\n",
    "(4, 2)"
   ]
  },
  {
   "cell_type": "code",
   "execution_count": 54,
   "metadata": {},
   "outputs": [
    {
     "data": {
      "text/plain": [
       "Index(['Customer Identity', 'First Policy´s Year', 'Customer Age',\n",
       "       'Educational Degree', 'Gross Monthly Salary', 'Geographic Living Area',\n",
       "       'Has Children (Y=1)', 'Customer Monetary Value', 'Claims Rate',\n",
       "       'Premiums in LOB: Motor', 'Premiums in LOB: Household',\n",
       "       'Premiums in LOB: Health', 'Premiums in LOB:  Life',\n",
       "       'Premiums in LOB: Work Compensations'],\n",
       "      dtype='object')"
      ]
     },
     "execution_count": 54,
     "metadata": {},
     "output_type": "execute_result"
    }
   ],
   "source": [
    "data.columns"
   ]
  },
  {
   "cell_type": "code",
   "execution_count": 55,
   "metadata": {},
   "outputs": [
    {
     "name": "stderr",
     "output_type": "stream",
     "text": [
      "C:\\Users\\Closer\\AppData\\Local\\Continuum\\anaconda3\\lib\\site-packages\\ipykernel_launcher.py:3: SettingWithCopyWarning: \n",
      "A value is trying to be set on a copy of a slice from a DataFrame.\n",
      "Try using .loc[row_indexer,col_indexer] = value instead\n",
      "\n",
      "See the caveats in the documentation: http://pandas.pydata.org/pandas-docs/stable/indexing.html#indexing-view-versus-copy\n",
      "  This is separate from the ipykernel package so we can avoid doing imports until\n"
     ]
    }
   ],
   "source": [
    "columns =  Region_based_data.iloc[:,:1]\n",
    "for col in columns:\n",
    "    Region_based_data[col] = Region_based_data[col].fillna(method = 'ffill').apply(int)"
   ]
  },
  {
   "cell_type": "code",
   "execution_count": 56,
   "metadata": {},
   "outputs": [
    {
     "ename": "NameError",
     "evalue": "name 'df' is not defined",
     "output_type": "error",
     "traceback": [
      "\u001b[1;31m---------------------------------------------------------------------------\u001b[0m",
      "\u001b[1;31mNameError\u001b[0m                                 Traceback (most recent call last)",
      "\u001b[1;32m<ipython-input-56-633337079cd0>\u001b[0m in \u001b[0;36m<module>\u001b[1;34m()\u001b[0m\n\u001b[1;32m----> 1\u001b[1;33m \u001b[0mdf\u001b[0m\u001b[1;33m.\u001b[0m\u001b[0mshape\u001b[0m\u001b[1;33m\u001b[0m\u001b[0m\n\u001b[0m",
      "\u001b[1;31mNameError\u001b[0m: name 'df' is not defined"
     ]
    }
   ],
   "source": [
    "df.shape"
   ]
  },
  {
   "cell_type": "code",
   "execution_count": null,
   "metadata": {},
   "outputs": [],
   "source": []
  },
  {
   "cell_type": "code",
   "execution_count": null,
   "metadata": {},
   "outputs": [],
   "source": []
  },
  {
   "cell_type": "code",
   "execution_count": null,
   "metadata": {},
   "outputs": [],
   "source": [
    "Region_based_data"
   ]
  },
  {
   "cell_type": "code",
   "execution_count": null,
   "metadata": {},
   "outputs": [],
   "source": [
    "sns.pairplot(Region_based_data, hue=\"Geographic_Living_Area\")"
   ]
  },
  {
   "cell_type": "code",
   "execution_count": null,
   "metadata": {},
   "outputs": [],
   "source": [
    "sns.set(style=\"ticks\")\n",
    "sns.pairplot(data2, hue=\"Geographic_Living_Area\")"
   ]
  },
  {
   "cell_type": "code",
   "execution_count": null,
   "metadata": {
    "scrolled": false
   },
   "outputs": [],
   "source": [
    "data.sort_values(by = 'Customer Age', ascending == False)\n"
   ]
  },
  {
   "cell_type": "code",
   "execution_count": null,
   "metadata": {},
   "outputs": [],
   "source": [
    "# Two column can be added with '+'\n",
    "xyz =  data.iloc[:,2] + data.iloc[:,4];"
   ]
  },
  {
   "cell_type": "code",
   "execution_count": null,
   "metadata": {},
   "outputs": [],
   "source": []
  },
  {
   "cell_type": "markdown",
   "metadata": {},
   "source": [
    "# Drop the NaN"
   ]
  },
  {
   "cell_type": "code",
   "execution_count": null,
   "metadata": {},
   "outputs": [],
   "source": [
    "#salary_Area_Children = data.iloc[:,4:7]\n",
    "\n",
    "Policy_Year =  data.iloc[:,1] \n",
    "Policy_Year = Policy_Year.dropna().apply(np.int64)\n"
   ]
  },
  {
   "cell_type": "code",
   "execution_count": null,
   "metadata": {},
   "outputs": [],
   "source": [
    "Customer_Age = data.iloc[:,2]\n",
    "#dropna() is used to drop the NaN values. \n",
    "#apply function is used to convert float into integer\n",
    "Customer_Age= Customer_Age.dropna().apply(np.int64)"
   ]
  },
  {
   "cell_type": "code",
   "execution_count": null,
   "metadata": {},
   "outputs": [],
   "source": [
    "Gross_Monthly_Salary = data.iloc[:,4]\n",
    "Gross_Monthly_Salary = Gross_Monthly_Salary.dropna().apply(np.int64)"
   ]
  },
  {
   "cell_type": "code",
   "execution_count": null,
   "metadata": {},
   "outputs": [],
   "source": [
    "Geographic_Living_Area = data.iloc[:,5]\n",
    "Geographic_Living_Area = Geographic_Living_Area.dropna().apply(np.int64)"
   ]
  },
  {
   "cell_type": "code",
   "execution_count": null,
   "metadata": {},
   "outputs": [],
   "source": [
    "Children = data.iloc[:,6]\n",
    "Children = Children.dropna().apply(np.int64)"
   ]
  },
  {
   "cell_type": "code",
   "execution_count": null,
   "metadata": {},
   "outputs": [],
   "source": [
    "#salary_Area_Children  = salary_Area_Children.dropna().apply(np.int64)"
   ]
  },
  {
   "cell_type": "code",
   "execution_count": null,
   "metadata": {},
   "outputs": [],
   "source": [
    " x = pd.Series(Gross_Monthly_Salary, name=\"Gross_Monthly_Salary\")[:5]\n",
    "ax = sns.distplot(Gross_Monthly_Salary)"
   ]
  },
  {
   "cell_type": "code",
   "execution_count": null,
   "metadata": {},
   "outputs": [],
   "source": [
    " x = pd.Series(Geographic_Living_Area, name=\"Geographic_Living_Area\")[:5]\n",
    "ax = sns.distplot(Geographic_Living_Area)"
   ]
  },
  {
   "cell_type": "code",
   "execution_count": null,
   "metadata": {},
   "outputs": [],
   "source": [
    "sns.set_context(df3.Geographic_Living_Area)\n",
    "x = pd.Series(Customer_Age, name=\"Customer_Age\")[:5]\n",
    "ax = sns.distplot(Customer_Age)"
   ]
  },
  {
   "cell_type": "code",
   "execution_count": null,
   "metadata": {},
   "outputs": [],
   "source": []
  },
  {
   "cell_type": "code",
   "execution_count": null,
   "metadata": {},
   "outputs": [],
   "source": [
    "plt.hist(data1, bins = 10);"
   ]
  },
  {
   "cell_type": "code",
   "execution_count": null,
   "metadata": {},
   "outputs": [],
   "source": [
    "#sns.set_context(\"paper\")"
   ]
  },
  {
   "cell_type": "markdown",
   "metadata": {},
   "source": [
    "# Histograms\n",
    "### - to plot the distributions of numeric variables."
   ]
  },
  {
   "cell_type": "code",
   "execution_count": null,
   "metadata": {},
   "outputs": [],
   "source": [
    "plt.hist(data1, bins = 5);\n"
   ]
  },
  {
   "cell_type": "code",
   "execution_count": null,
   "metadata": {},
   "outputs": [],
   "source": [
    "plt.hist(Gross_Monthly_Salary, bins = 8);"
   ]
  },
  {
   "cell_type": "code",
   "execution_count": null,
   "metadata": {},
   "outputs": [],
   "source": [
    "df2.columns"
   ]
  },
  {
   "cell_type": "code",
   "execution_count": null,
   "metadata": {},
   "outputs": [],
   "source": [
    "##\n",
    "import seaborn as sbn\n",
    "sbn.set_style(\"whitegrid\")\n",
    "ax = sbn.boxplot(x= \"Customer_Age\", y = \"First_Policy_Year\" , data= df2)"
   ]
  },
  {
   "cell_type": "markdown",
   "metadata": {},
   "source": [
    "plain text"
   ]
  },
  {
   "cell_type": "code",
   "execution_count": null,
   "metadata": {},
   "outputs": [],
   "source": [
    "df3.columns"
   ]
  },
  {
   "cell_type": "markdown",
   "metadata": {},
   "source": [
    "## Monthly Salary in based on Living Area"
   ]
  },
  {
   "cell_type": "code",
   "execution_count": null,
   "metadata": {},
   "outputs": [],
   "source": [
    "import seaborn as sbn\n",
    "df4=df3.head(500)\n",
    "sbn.set_style(\"darkgrid\")\n",
    "ax = sbn.swarmplot(x= df4.Geographic_Living_Area, y = df4.Gross_Monthly_Salary , data= df4)\n",
    "plt.xticks(rotation=0)\n",
    "plt.rcParams[\"xtick.labelsize\"] = 10"
   ]
  },
  {
   "cell_type": "code",
   "execution_count": null,
   "metadata": {},
   "outputs": [],
   "source": [
    "import seaborn as sbn\n",
    "df4=df3.head(500)\n",
    "sbn.set_style(\"darkgrid\")\n",
    "ax = sbn.swarmplot(x= df4.Geographic_Living_Area, y = df4.Premiums_Life , data= df4)\n",
    "plt.xticks(rotation=0)\n",
    "plt.rcParams[\"xtick.labelsize\"] = 10"
   ]
  },
  {
   "cell_type": "code",
   "execution_count": null,
   "metadata": {},
   "outputs": [],
   "source": [
    "import seaborn as sbn\n",
    "df4=df3.head(500)\n",
    "sbn.set_style(\"darkgrid\")\n",
    "ax = sbn.swarmplot(x= df4.Geographic_Living_Area, y = df4.Customer_Age, data= df4)\n",
    "plt.xticks(rotation=0)\n",
    "plt.rcParams[\"xtick.labelsize\"] = 10"
   ]
  },
  {
   "cell_type": "markdown",
   "metadata": {},
   "source": [
    "### Observation: \n",
    "#### The number of people living in region 2 is the least and highest number of people belong to region 4.\n",
    "#### A close observation finds the age group patterns, < 30 , 30-55 and > 55. However, it can be divided further. "
   ]
  },
  {
   "cell_type": "code",
   "execution_count": null,
   "metadata": {},
   "outputs": [],
   "source": [
    "import seaborn as sbn\n",
    "df4=df3.head(500)\n",
    "sbn.set_style(\"darkgrid\")\n",
    "ax = sbn.swarmplot(x= df4.Geographic_Living_Area, y = df4.Claims_Rate, data= df4)\n",
    "plt.xticks(rotation=0)\n",
    "plt.rcParams[\"xtick.labelsize\"] = 5"
   ]
  },
  {
   "cell_type": "code",
   "execution_count": null,
   "metadata": {},
   "outputs": [],
   "source": [
    "import seaborn as sbn\n",
    "df4=df3.head(500)\n",
    "sbn.set_style(\"darkgrid\")\n",
    "ax = sbn.swarmplot( x = df4.Has_Children, y= df4.Customer_Age,data= df4)\n",
    "plt.xticks(rotation=0)\n",
    "plt.rcParams[\"xtick.labelsize\"] = 10"
   ]
  },
  {
   "cell_type": "markdown",
   "metadata": {},
   "source": [
    "## This result is quite important. This shows that our customer are of two types, one who has children and others who don't have children. The customers withoutout children largely do not intend to have this particular insurance until the age of 60 (Retirement). On the contrary, the customers with children has subscribed for this particular insurance before a very starting point of their carrier and largely they are interested until the age of 60. The subscriptions are counteracting to each other. "
   ]
  },
  {
   "cell_type": "code",
   "execution_count": null,
   "metadata": {},
   "outputs": [],
   "source": [
    "sns.boxplot(x = df3.Has_Children, y=df3.Claims_Rate, data=df3)"
   ]
  },
  {
   "cell_type": "markdown",
   "metadata": {},
   "source": [
    "## Customers' Gross Monthly Salary analysis based on Has_Children and Geographic_Living_Area "
   ]
  },
  {
   "cell_type": "code",
   "execution_count": null,
   "metadata": {},
   "outputs": [],
   "source": [
    "sns.boxplot(x=df3.Geographic_Living_Area, y = df3.Gross_Monthly_Salary, hue= df3.Has_Children, palette = 'husl')"
   ]
  },
  {
   "cell_type": "code",
   "execution_count": null,
   "metadata": {},
   "outputs": [],
   "source": [
    "sns.violinplot(x=df3.Geographic_Living_Area, y = df3.Gross_Monthly_Salary, hue= df3.Has_Children)"
   ]
  },
  {
   "cell_type": "code",
   "execution_count": null,
   "metadata": {},
   "outputs": [],
   "source": [
    "sns.violinplot(x=df3.Geographic_Living_Area, y = df3.Claims_Rate, hue= df3.Has_Children)"
   ]
  },
  {
   "cell_type": "code",
   "execution_count": null,
   "metadata": {},
   "outputs": [],
   "source": [
    "df3.columns"
   ]
  },
  {
   "cell_type": "code",
   "execution_count": null,
   "metadata": {},
   "outputs": [],
   "source": []
  },
  {
   "cell_type": "markdown",
   "metadata": {},
   "source": [
    "## Boxplot for one variable "
   ]
  },
  {
   "cell_type": "code",
   "execution_count": null,
   "metadata": {},
   "outputs": [],
   "source": [
    "sns.boxplot(x=df3.Customer_Age, color='#EB89B')\n",
    "plt.xticks(rotation=0)\n",
    "plt.rcParams[\"xtick.labelsize\"] = 10"
   ]
  },
  {
   "cell_type": "code",
   "execution_count": null,
   "metadata": {},
   "outputs": [],
   "source": [
    "sns.boxplot(x=df3.Claims_Rate)\n",
    "plt.xticks(rotation=0)\n",
    "plt.rcParams[\"xtick.labelsize\"] = 20\n"
   ]
  },
  {
   "cell_type": "code",
   "execution_count": null,
   "metadata": {},
   "outputs": [],
   "source": [
    "list(df.columns)\n",
    "\n",
    "df = pd.DataFrame({'a' : [1, 2, 3], 'b' : [1.1, 2.1, 3.1], 'c' : [1.1, 2.1, 3.1]})\n",
    "\n",
    "\n",
    "columns = list(df.columns)[1:]\n",
    "\n",
    "for c in columns:\n",
    "    df[c] = df[c].apply(int)\n",
    "                           \n",
    "print(df)                           "
   ]
  },
  {
   "cell_type": "code",
   "execution_count": null,
   "metadata": {},
   "outputs": [],
   "source": [
    "import seaborn as sbn\n",
    "sbn.set_style(\"whitegrid\")\n",
    "ax = sbn.swarmplot(x= \"Customer Age\", y = \"Gross Monthly Salary\" , data= data1)"
   ]
  },
  {
   "cell_type": "code",
   "execution_count": null,
   "metadata": {},
   "outputs": [],
   "source": [
    "import seaborn as sbn\n",
    "sbn.set_style(\"darkgrid\")\n",
    "#tips = sbn.data(\"tips\")\n",
    "ax = sbn.barplot(x= \"Customer Age\", y = \"Gross Monthly Salary\" , data= data1)"
   ]
  },
  {
   "cell_type": "code",
   "execution_count": null,
   "metadata": {},
   "outputs": [],
   "source": [
    "import seaborn as sbn\n",
    "sbn.set_style(\"darkgrid\")\n",
    "#tips = sbn.data(\"tips\")\n",
    "ax = sbn.violinplot(x= \"Customer Age\", y = \"Gross Monthly Salary\" , data= data1)"
   ]
  },
  {
   "cell_type": "code",
   "execution_count": null,
   "metadata": {},
   "outputs": [],
   "source": [
    "import seaborn as sns\n",
    "sns.set_style(\"darkgrid\")\n",
    "ax = sns.violinplot(x= \"Geographic Living Area\", y = \"Gross Monthly Salary\" , data= data1)"
   ]
  },
  {
   "cell_type": "code",
   "execution_count": null,
   "metadata": {},
   "outputs": [],
   "source": [
    "import seaborn as sns\n",
    "sns.set_style(\"darkgrid\")\n",
    "ax = sns.violinplot(x= \"Has Children (Y=1)\", y = \"Gross Monthly Salary\" , data= data1)"
   ]
  },
  {
   "cell_type": "code",
   "execution_count": null,
   "metadata": {},
   "outputs": [],
   "source": [
    "import seaborn as sns\n",
    "sbn.set_style(\"darkgrid\")\n",
    "#tips = sbn.data(\"tips\")\n",
    "ax = sns.violinplot(x= \"Has Children (Y=1)\", y = \"Gross Monthly Salary\" , data= data1)"
   ]
  },
  {
   "cell_type": "code",
   "execution_count": null,
   "metadata": {},
   "outputs": [],
   "source": [
    "sns.set(style=\"whitegrid\", palette=\"muted\")\n",
    "\n",
    "\n",
    "\n",
    "\n",
    "# \"Melt\" the dataset to \"long-form\" or \"tidy\" representation\n",
    "#iris = pd.melt(data1, \"Customer Age\", var_name=\"Gross Monthly Salary\")\n",
    "\n",
    "# Draw a categorical scatterplot to show each observation\n",
    "sns.swarmplot(y=\"Gross Monthly Salary\", x=\"Customer Age\", hue=\"Geographic Living Area\", data= data1)\n",
    "#To visualize the x axis labels we use:\n",
    "plt.xticks(rotation=90)\n",
    "plt.rcParams[\"xtick.labelsize\"] = 10"
   ]
  },
  {
   "cell_type": "code",
   "execution_count": null,
   "metadata": {},
   "outputs": [],
   "source": [
    "sns.boxplot(data=data['Gross Monthly Salary'])"
   ]
  },
  {
   "cell_type": "code",
   "execution_count": null,
   "metadata": {},
   "outputs": [],
   "source": [
    "import seaborn as sbn\n",
    "sbn.set_style(\"whitegrid\")\n",
    "#tips = sbn.data(\"tips\")\n",
    "ax = sbn.swarmplot(x= \"Customer Age\", y = \"Gross Monthly Salary\" , data= data)"
   ]
  },
  {
   "cell_type": "code",
   "execution_count": null,
   "metadata": {},
   "outputs": [],
   "source": [
    "data.columns\n"
   ]
  },
  {
   "cell_type": "code",
   "execution_count": null,
   "metadata": {},
   "outputs": [],
   "source": [
    "import pandas as pd\n",
    "import numpy as np\n",
    "#from matplotlib.colors import Normalize, rgb2hex\n",
    "import matplotlib.pyplot as plt\n",
    "\n",
    "data = pd.read_excel('C:\\\\Users\\\\Closer\\\\Desktop\\\\Closer\\\\Imp_Doc\\\\A2Z_Insurance.xlsx', delimiter=',')\n",
    "data1 = data.head(n = 10)\n"
   ]
  },
  {
   "cell_type": "code",
   "execution_count": null,
   "metadata": {},
   "outputs": [],
   "source": [
    "data1.index\n"
   ]
  },
  {
   "cell_type": "code",
   "execution_count": null,
   "metadata": {},
   "outputs": [],
   "source": [
    "\n"
   ]
  },
  {
   "cell_type": "code",
   "execution_count": null,
   "metadata": {},
   "outputs": [],
   "source": [
    "plt.matshow(data1.corr())"
   ]
  },
  {
   "cell_type": "code",
   "execution_count": null,
   "metadata": {},
   "outputs": [],
   "source": [
    "data1.columns"
   ]
  },
  {
   "cell_type": "code",
   "execution_count": null,
   "metadata": {},
   "outputs": [],
   "source": [
    "sns.boxplot(y = data1['Customer Age'], x = data1['Has Children (Y=1)'])"
   ]
  },
  {
   "cell_type": "code",
   "execution_count": null,
   "metadata": {},
   "outputs": [],
   "source": [
    "import seaborn as sns\n",
    "corr = data1.corr()\n",
    "fig, ax = plt.subplots(figsize=(10,8))\n",
    "sns.heatmap(corr, \n",
    "            xticklabels=corr.columns.values,\n",
    "            yticklabels=corr.columns.values)"
   ]
  },
  {
   "cell_type": "code",
   "execution_count": null,
   "metadata": {},
   "outputs": [],
   "source": [
    "%matplotlib inline\n",
    "import matplotlib.pyplot as plt\n",
    "data1.hist(bins=50, figsize=(15,10), color='#AB89B5')\n",
    "plt.show()"
   ]
  },
  {
   "cell_type": "code",
   "execution_count": null,
   "metadata": {},
   "outputs": [],
   "source": []
  },
  {
   "cell_type": "code",
   "execution_count": null,
   "metadata": {},
   "outputs": [],
   "source": [
    "%matplotlib inline\n",
    "import matplotlib.pyplot as plt\n",
    "data.hist(bins=50, figsize=(15,10))\n",
    "plt.show()"
   ]
  },
  {
   "cell_type": "code",
   "execution_count": null,
   "metadata": {},
   "outputs": [],
   "source": [
    "from sklearn import svm \n",
    "clf = svm.SVM()\n",
    "clf.fit(X,y)"
   ]
  },
  {
   "cell_type": "markdown",
   "metadata": {},
   "source": [
    "## Claim_Rate based on Geographyc_Living_Area"
   ]
  },
  {
   "cell_type": "code",
   "execution_count": null,
   "metadata": {},
   "outputs": [],
   "source": [
    "df3.columns\n"
   ]
  },
  {
   "cell_type": "code",
   "execution_count": null,
   "metadata": {},
   "outputs": [],
   "source": [
    "sns.barplot(x= df3.Geographic_Living_Area, y = df3.Claims_Rate)"
   ]
  },
  {
   "cell_type": "code",
   "execution_count": null,
   "metadata": {},
   "outputs": [],
   "source": [
    "#The violin plot features a kernel density estimation of the underlying distribution.\n",
    "import seaborn as sns\n",
    "sns.set(style=\"whitegrid\", palette=\"pastel\", color_codes=True)\n",
    "# Draw a nested violinplot and split the violins for easier comparison\n",
    "sns.violinplot(x=df.Geographic_Living_Area, y=df.Gross_Monthly_Salary, hue=df.Has_Children, data=df, split=True,\n",
    "               inner=\"quart\")\n",
    "sns.despine(left=True)"
   ]
  },
  {
   "cell_type": "code",
   "execution_count": null,
   "metadata": {},
   "outputs": [],
   "source": [
    "sns.pairplot(df2, hue = 'Geographic_Living_Area',size = 4)\n"
   ]
  },
  {
   "cell_type": "code",
   "execution_count": null,
   "metadata": {},
   "outputs": [],
   "source": [
    "#The violin plot features a kernel density estimation of the underlying distribution.\n",
    "import seaborn as sns\n",
    "sns.set(style=\"whitegrid\", palette=\"pastel\", color_codes=True)\n",
    "# Draw a nested violinplot and split the violins for easier comparison\n",
    "sns.violinplot(x=df.Geographic_Living_Area, y=df.Claims_Rate, hue=df.Has_Children, data=df, split=True,\n",
    "               inner=\"quart\")\n",
    "sns.despine(left=True)"
   ]
  },
  {
   "cell_type": "code",
   "execution_count": null,
   "metadata": {},
   "outputs": [],
   "source": [
    "data2.columns"
   ]
  },
  {
   "cell_type": "code",
   "execution_count": null,
   "metadata": {},
   "outputs": [],
   "source": [
    "data2[(data2.Customer_Age >= 60) | (data2.Customer_Monetary_Value >= 50) ];\n",
    "\n",
    "# It gives common results "
   ]
  },
  {
   "cell_type": "markdown",
   "metadata": {},
   "source": [
    "#  Filter the Data"
   ]
  },
  {
   "cell_type": "code",
   "execution_count": null,
   "metadata": {},
   "outputs": [],
   "source": [
    "df.shape"
   ]
  },
  {
   "cell_type": "code",
   "execution_count": null,
   "metadata": {},
   "outputs": [],
   "source": [
    "#Check Unique value for each column\n",
    "def unique_counts(df2):\n",
    "    for i in df2.columns:\n",
    "        count = df2[i].nunique()\n",
    "        print(i, \": \", count)\n",
    "unique_counts(df2)"
   ]
  },
  {
   "cell_type": "markdown",
   "metadata": {},
   "source": [
    "First_Policy_Year,  Customer_Age, Geographic_Living_Area and Has_Children is preferable to use as the unique value classification- "
   ]
  },
  {
   "cell_type": "code",
   "execution_count": null,
   "metadata": {},
   "outputs": [],
   "source": [
    "sns.pairplot(df2, hue='First_Policy_Year', kind='scatter', diag_kind='hist', markers=None, size=2.5, aspect=1, dropna=True)"
   ]
  },
  {
   "cell_type": "code",
   "execution_count": null,
   "metadata": {},
   "outputs": [],
   "source": [
    "from sklearn.cluster import KMeans\n",
    "model = KMeans(n_clusters=4)\n",
    "model.fit(df2)"
   ]
  },
  {
   "cell_type": "code",
   "execution_count": null,
   "metadata": {},
   "outputs": [],
   "source": [
    "df.columns"
   ]
  },
  {
   "cell_type": "code",
   "execution_count": null,
   "metadata": {},
   "outputs": [],
   "source": [
    "#sns.boxplot(df2.Customer_Monetary_Value)\n",
    "Q1 = df2.quantile(0.25)\n",
    "Q3 = df2.quantile(0.75)\n",
    "IQR = Q3 - Q1\n",
    "((df2 < (Q1 - 1.5 * IQR)) | (df2 > (Q3 + 1.5 * IQR))).sum()\n",
    "\n",
    "#mask = (df2 < (Q1 - 1.5 * IQR)) | (df2 > (Q3 + 1.5 * IQR))\n",
    "#df2[mask] = np.nan"
   ]
  },
  {
   "cell_type": "code",
   "execution_count": null,
   "metadata": {},
   "outputs": [],
   "source": [
    "sns.jointplot(y = 'Premiums_Health', x = 'Customer_Age', data= df2)"
   ]
  },
  {
   "cell_type": "code",
   "execution_count": null,
   "metadata": {},
   "outputs": [],
   "source": [
    "\n"
   ]
  },
  {
   "cell_type": "code",
   "execution_count": null,
   "metadata": {},
   "outputs": [],
   "source": []
  },
  {
   "cell_type": "code",
   "execution_count": null,
   "metadata": {},
   "outputs": [],
   "source": []
  },
  {
   "cell_type": "code",
   "execution_count": null,
   "metadata": {},
   "outputs": [],
   "source": []
  },
  {
   "cell_type": "code",
   "execution_count": null,
   "metadata": {},
   "outputs": [],
   "source": [
    "from scipy.spatial.distance import cdist\n",
    "clusters=range(1,10)\n",
    "meandist=[]\n",
    "for k in clusters:\n",
    "    model=KMeans(n_clusters=k)\n",
    "    model.fit(df2)\n",
    "    clusassign=model.predict(df2)\n",
    "    meandist.append(sum(np.min(cdist(df2, model.cluster_centers_, ‘euclidean’), axis=1))\n",
    "                    / df2.shape[0])"
   ]
  },
  {
   "cell_type": "code",
   "execution_count": null,
   "metadata": {},
   "outputs": [],
   "source": [
    "class KMeans:\n",
    "    def __init__(self, k):\n",
    "    self.k = k # number of clusters\n",
    "    self.means = None # means of clusters\n",
    "    \n",
    "    def classify(self, input):\n",
    "        return min(range(self.k),\n",
    "                   key=lambda i: squared_distance(input, self.means[i]))\n",
    "    def train(self, inputs):\n",
    "        self.means = random.sample(inputs, self.k)\n",
    "        assignments = None\n",
    "        while True:\n",
    "            new_assignments = map(self.classify, inputs)\n",
    "\n",
    "            if assignments == new_assignments:return\n",
    "            assignments = new_assignments\n",
    "            for i in range(self.k):\n",
    "                i_points = [p for p, a in zip(inputs, assignments) if a == i]\n",
    "                if i_points:\n",
    "                    self.means[i] = vector_mean(i_points)"
   ]
  },
  {
   "cell_type": "code",
   "execution_count": null,
   "metadata": {},
   "outputs": [],
   "source": [
    "random.seed(0) # so you get the same results as me\n",
    "clusterer = KMeans(3)\n",
    "clusterer.train(inputs)\n",
    "print clusterer.means"
   ]
  }
 ],
 "metadata": {
  "kernelspec": {
   "display_name": "Python 3",
   "language": "python",
   "name": "python3"
  },
  "language_info": {
   "codemirror_mode": {
    "name": "ipython",
    "version": 3
   },
   "file_extension": ".py",
   "mimetype": "text/x-python",
   "name": "python",
   "nbconvert_exporter": "python",
   "pygments_lexer": "ipython3",
   "version": "3.6.4"
  }
 },
 "nbformat": 4,
 "nbformat_minor": 2
}
