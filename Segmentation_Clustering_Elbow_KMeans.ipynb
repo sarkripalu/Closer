{
 "cells": [
  {
   "cell_type": "markdown",
   "metadata": {},
   "source": [
    "# Preliminaries "
   ]
  },
  {
   "cell_type": "code",
   "execution_count": 1,
   "metadata": {},
   "outputs": [],
   "source": [
    "import pandas as pd\n",
    "import numpy as np\n",
    "import seaborn as sns\n",
    "from sklearn.cluster import KMeans\n",
    "from sklearn import linear_model\n",
    "import matplotlib.pyplot as plt\n",
    "%matplotlib inline"
   ]
  },
  {
   "cell_type": "markdown",
   "metadata": {},
   "source": [
    "# Load the data"
   ]
  },
  {
   "cell_type": "code",
   "execution_count": 2,
   "metadata": {},
   "outputs": [],
   "source": [
    "data = pd.read_excel('C:\\\\Users\\\\Closer\\\\Desktop\\\\Closer\\\\Imp_Doc\\\\A2Z_Insurance.xlsx', delimiter=',' )\n",
    "\n",
    "\n",
    "#Int_data = [\"First Policy´s Year\", \"Customer Age\", \"Gross Monthly Salary\", \"Geographic Living Area\"]\n",
    "#data[Int_data] = data[Int_data].applymap(np.int64)"
   ]
  },
  {
   "cell_type": "code",
   "execution_count": null,
   "metadata": {},
   "outputs": [],
   "source": [
    "\n"
   ]
  },
  {
   "cell_type": "code",
   "execution_count": 3,
   "metadata": {},
   "outputs": [],
   "source": [
    "data.values;"
   ]
  },
  {
   "cell_type": "code",
   "execution_count": 4,
   "metadata": {},
   "outputs": [],
   "source": [
    "df1 = data[['Customer Identity', 'First Policy´s Year', 'Customer Age',\n",
    "       'Gross Monthly Salary', 'Geographic Living Area',\n",
    "       'Has Children (Y=1)', 'Customer Monetary Value', 'Claims Rate',\n",
    "       'Premiums in LOB: Motor', 'Premiums in LOB: Household',\n",
    "       'Premiums in LOB: Health', 'Premiums in LOB:  Life',\n",
    "       'Premiums in LOB: Work Compensations']]"
   ]
  },
  {
   "cell_type": "markdown",
   "metadata": {},
   "source": [
    "# Creating new dataset"
   ]
  },
  {
   "cell_type": "markdown",
   "metadata": {},
   "source": [
    "## 1. Change the Name_of_the_Column and integrate it with underscore so that the names can be used directly for the further purposes. \n"
   ]
  },
  {
   "cell_type": "markdown",
   "metadata": {},
   "source": [
    "#  Df (Stylish)"
   ]
  },
  {
   "cell_type": "code",
   "execution_count": 5,
   "metadata": {},
   "outputs": [],
   "source": [
    "df_rename =df1.rename(columns = {'Customer Identity':'Customer_Identity' , \n",
    "                           'First Policy´s Year':'First_Policy_Year',\n",
    "                           'Customer Age':'Customer_Age',\n",
    "                           'Gross Monthly Salary': 'Gross_Monthly_Salary',\n",
    "                           'Geographic Living Area':'Geographic_Living_Area',\n",
    "                           'Has Children (Y=1)': 'Has_Children', \n",
    "                           'Customer Monetary Value':'Customer_Monetary_Value',\n",
    "                           'Claims Rate':'Claims_Rate',\n",
    "                           'Premiums in LOB: Motor':'Premiums_Motor', \n",
    "                           'Premiums in LOB: Household':'Premiums_Household',\n",
    "                           'Premiums in LOB: Health':'Premiums_Health',\n",
    "                           'Premiums in LOB:  Life':'Premiums_Life',\n",
    "                           'Premiums in LOB: Work Compensations':'Premiums_Work_Compensations'})"
   ]
  },
  {
   "cell_type": "code",
   "execution_count": 6,
   "metadata": {},
   "outputs": [
    {
     "data": {
      "text/plain": [
       "Index(['Customer_Identity', 'First_Policy_Year', 'Customer_Age',\n",
       "       'Gross_Monthly_Salary', 'Geographic_Living_Area', 'Has_Children',\n",
       "       'Customer_Monetary_Value', 'Claims_Rate', 'Premiums_Motor',\n",
       "       'Premiums_Household', 'Premiums_Health', 'Premiums_Life',\n",
       "       'Premiums_Work_Compensations'],\n",
       "      dtype='object')"
      ]
     },
     "execution_count": 6,
     "metadata": {},
     "output_type": "execute_result"
    }
   ],
   "source": [
    "\n",
    "df_rename.columns"
   ]
  },
  {
   "cell_type": "code",
   "execution_count": null,
   "metadata": {},
   "outputs": [],
   "source": [
    "\n"
   ]
  },
  {
   "cell_type": "markdown",
   "metadata": {},
   "source": [
    "##  Now, need to organise the dataset. "
   ]
  },
  {
   "cell_type": "markdown",
   "metadata": {},
   "source": [
    "### NaN treatment"
   ]
  },
  {
   "cell_type": "code",
   "execution_count": 7,
   "metadata": {},
   "outputs": [
    {
     "data": {
      "text/plain": [
       "(10296, 13)"
      ]
     },
     "execution_count": 7,
     "metadata": {},
     "output_type": "execute_result"
    }
   ],
   "source": [
    "df_rename.shape"
   ]
  },
  {
   "cell_type": "code",
   "execution_count": null,
   "metadata": {},
   "outputs": [],
   "source": []
  },
  {
   "cell_type": "code",
   "execution_count": 8,
   "metadata": {},
   "outputs": [],
   "source": [
    "df_Id_Index = df_rename.set_index('Customer_Identity')"
   ]
  },
  {
   "cell_type": "code",
   "execution_count": 9,
   "metadata": {},
   "outputs": [],
   "source": [
    "df2= df_Id_Index.fillna(method= 'ffill') #Interpolate the values"
   ]
  },
  {
   "cell_type": "code",
   "execution_count": 10,
   "metadata": {},
   "outputs": [],
   "source": [
    "#df_CR_index = df_fillna.sort_values('Claims_Rate')"
   ]
  },
  {
   "cell_type": "code",
   "execution_count": 11,
   "metadata": {},
   "outputs": [],
   "source": [
    "df2;"
   ]
  },
  {
   "cell_type": "code",
   "execution_count": 227,
   "metadata": {},
   "outputs": [
    {
     "data": {
      "text/plain": [
       "pandas.core.series.Series"
      ]
     },
     "execution_count": 227,
     "metadata": {},
     "output_type": "execute_result"
    }
   ],
   "source": [
    "# data['Educational Degree'] = data['Educational Degree'].map(lambda x: x[0])\n",
    "data.loc[:,'Educational Degree']"
   ]
  },
  {
   "cell_type": "code",
   "execution_count": 12,
   "metadata": {},
   "outputs": [
    {
     "data": {
      "text/plain": [
       "(10296, 12)"
      ]
     },
     "execution_count": 12,
     "metadata": {},
     "output_type": "execute_result"
    }
   ],
   "source": [
    "df2.shape"
   ]
  },
  {
   "cell_type": "code",
   "execution_count": 93,
   "metadata": {},
   "outputs": [
    {
     "data": {
      "text/plain": [
       "First_Policy_Year              False\n",
       "Customer_Age                   False\n",
       "Gross_Monthly_Salary           False\n",
       "Geographic_Living_Area         False\n",
       "Has_Children                   False\n",
       "Customer_Monetary_Value        False\n",
       "Claims_Rate                    False\n",
       "Premiums_Motor                 False\n",
       "Premiums_Household             False\n",
       "Premiums_Health                False\n",
       "Premiums_Life                  False\n",
       "Premiums_Work_Compensations    False\n",
       "Total_Premium                  False\n",
       "dtype: bool"
      ]
     },
     "execution_count": 93,
     "metadata": {},
     "output_type": "execute_result"
    }
   ],
   "source": [
    "df2.isnull().any()"
   ]
  },
  {
   "cell_type": "markdown",
   "metadata": {},
   "source": [
    "###  NaN - interpolation"
   ]
  },
  {
   "cell_type": "code",
   "execution_count": 59,
   "metadata": {},
   "outputs": [
    {
     "data": {
      "text/plain": [
       "Index(['First_Policy_Year', 'Customer_Age', 'Gross_Monthly_Salary',\n",
       "       'Geographic_Living_Area', 'Has_Children', 'Customer_Monetary_Value',\n",
       "       'Claims_Rate', 'Premiums_Motor', 'Premiums_Household',\n",
       "       'Premiums_Health', 'Premiums_Life', 'Premiums_Work_Compensations',\n",
       "       'Total_Premium'],\n",
       "      dtype='object')"
      ]
     },
     "execution_count": 59,
     "metadata": {},
     "output_type": "execute_result"
    }
   ],
   "source": [
    "df2.columns"
   ]
  },
  {
   "cell_type": "code",
   "execution_count": 79,
   "metadata": {},
   "outputs": [
    {
     "data": {
      "text/html": [
       "<div>\n",
       "<style scoped>\n",
       "    .dataframe tbody tr th:only-of-type {\n",
       "        vertical-align: middle;\n",
       "    }\n",
       "\n",
       "    .dataframe tbody tr th {\n",
       "        vertical-align: top;\n",
       "    }\n",
       "\n",
       "    .dataframe thead th {\n",
       "        text-align: right;\n",
       "    }\n",
       "</style>\n",
       "<table border=\"1\" class=\"dataframe\">\n",
       "  <thead>\n",
       "    <tr style=\"text-align: right;\">\n",
       "      <th></th>\n",
       "      <th>First_Policy_Year</th>\n",
       "      <th>Customer_Age</th>\n",
       "      <th>Gross_Monthly_Salary</th>\n",
       "      <th>Geographic_Living_Area</th>\n",
       "      <th>Has_Children</th>\n",
       "      <th>Customer_Monetary_Value</th>\n",
       "      <th>Claims_Rate</th>\n",
       "      <th>Premiums_Motor</th>\n",
       "      <th>Premiums_Household</th>\n",
       "      <th>Premiums_Health</th>\n",
       "      <th>Premiums_Life</th>\n",
       "      <th>Premiums_Work_Compensations</th>\n",
       "      <th>Total_Premium</th>\n",
       "    </tr>\n",
       "    <tr>\n",
       "      <th>Customer_Identity</th>\n",
       "      <th></th>\n",
       "      <th></th>\n",
       "      <th></th>\n",
       "      <th></th>\n",
       "      <th></th>\n",
       "      <th></th>\n",
       "      <th></th>\n",
       "      <th></th>\n",
       "      <th></th>\n",
       "      <th></th>\n",
       "      <th></th>\n",
       "      <th></th>\n",
       "      <th></th>\n",
       "    </tr>\n",
       "  </thead>\n",
       "  <tbody>\n",
       "    <tr>\n",
       "      <th>1</th>\n",
       "      <td>1985</td>\n",
       "      <td>34</td>\n",
       "      <td>4354</td>\n",
       "      <td>1</td>\n",
       "      <td>1</td>\n",
       "      <td>380.97</td>\n",
       "      <td>0.390032</td>\n",
       "      <td>375.85</td>\n",
       "      <td>79.45</td>\n",
       "      <td>146.36</td>\n",
       "      <td>47.01</td>\n",
       "      <td>16.89</td>\n",
       "      <td>665.56</td>\n",
       "    </tr>\n",
       "    <tr>\n",
       "      <th>2</th>\n",
       "      <td>1981</td>\n",
       "      <td>21</td>\n",
       "      <td>1353</td>\n",
       "      <td>4</td>\n",
       "      <td>1</td>\n",
       "      <td>-131.13</td>\n",
       "      <td>1.116503</td>\n",
       "      <td>77.46</td>\n",
       "      <td>416.20</td>\n",
       "      <td>116.69</td>\n",
       "      <td>194.48</td>\n",
       "      <td>106.13</td>\n",
       "      <td>910.96</td>\n",
       "    </tr>\n",
       "    <tr>\n",
       "      <th>3</th>\n",
       "      <td>1991</td>\n",
       "      <td>46</td>\n",
       "      <td>4554</td>\n",
       "      <td>3</td>\n",
       "      <td>0</td>\n",
       "      <td>504.67</td>\n",
       "      <td>0.284810</td>\n",
       "      <td>206.15</td>\n",
       "      <td>224.50</td>\n",
       "      <td>124.58</td>\n",
       "      <td>86.35</td>\n",
       "      <td>99.02</td>\n",
       "      <td>740.60</td>\n",
       "    </tr>\n",
       "    <tr>\n",
       "      <th>4</th>\n",
       "      <td>1990</td>\n",
       "      <td>35</td>\n",
       "      <td>2197</td>\n",
       "      <td>4</td>\n",
       "      <td>1</td>\n",
       "      <td>-16.99</td>\n",
       "      <td>0.986665</td>\n",
       "      <td>182.48</td>\n",
       "      <td>43.35</td>\n",
       "      <td>311.17</td>\n",
       "      <td>35.34</td>\n",
       "      <td>28.34</td>\n",
       "      <td>600.68</td>\n",
       "    </tr>\n",
       "    <tr>\n",
       "      <th>5</th>\n",
       "      <td>1986</td>\n",
       "      <td>43</td>\n",
       "      <td>3526</td>\n",
       "      <td>4</td>\n",
       "      <td>1</td>\n",
       "      <td>35.23</td>\n",
       "      <td>0.904281</td>\n",
       "      <td>338.62</td>\n",
       "      <td>47.80</td>\n",
       "      <td>182.59</td>\n",
       "      <td>18.78</td>\n",
       "      <td>41.45</td>\n",
       "      <td>629.24</td>\n",
       "    </tr>\n",
       "  </tbody>\n",
       "</table>\n",
       "</div>"
      ],
      "text/plain": [
       "                   First_Policy_Year  Customer_Age  Gross_Monthly_Salary  \\\n",
       "Customer_Identity                                                          \n",
       "1                               1985            34                  4354   \n",
       "2                               1981            21                  1353   \n",
       "3                               1991            46                  4554   \n",
       "4                               1990            35                  2197   \n",
       "5                               1986            43                  3526   \n",
       "\n",
       "                   Geographic_Living_Area  Has_Children  \\\n",
       "Customer_Identity                                         \n",
       "1                                       1             1   \n",
       "2                                       4             1   \n",
       "3                                       3             0   \n",
       "4                                       4             1   \n",
       "5                                       4             1   \n",
       "\n",
       "                   Customer_Monetary_Value  Claims_Rate  Premiums_Motor  \\\n",
       "Customer_Identity                                                         \n",
       "1                                   380.97     0.390032          375.85   \n",
       "2                                  -131.13     1.116503           77.46   \n",
       "3                                   504.67     0.284810          206.15   \n",
       "4                                   -16.99     0.986665          182.48   \n",
       "5                                    35.23     0.904281          338.62   \n",
       "\n",
       "                   Premiums_Household  Premiums_Health  Premiums_Life  \\\n",
       "Customer_Identity                                                       \n",
       "1                               79.45           146.36          47.01   \n",
       "2                              416.20           116.69         194.48   \n",
       "3                              224.50           124.58          86.35   \n",
       "4                               43.35           311.17          35.34   \n",
       "5                               47.80           182.59          18.78   \n",
       "\n",
       "                   Premiums_Work_Compensations  Total_Premium  \n",
       "Customer_Identity                                              \n",
       "1                                        16.89         665.56  \n",
       "2                                       106.13         910.96  \n",
       "3                                        99.02         740.60  \n",
       "4                                        28.34         600.68  \n",
       "5                                        41.45         629.24  "
      ]
     },
     "execution_count": 79,
     "metadata": {},
     "output_type": "execute_result"
    }
   ],
   "source": [
    "df2.head()"
   ]
  },
  {
   "cell_type": "code",
   "execution_count": 78,
   "metadata": {},
   "outputs": [],
   "source": [
    "df2.iloc[:,[3]];"
   ]
  },
  {
   "cell_type": "code",
   "execution_count": 64,
   "metadata": {},
   "outputs": [],
   "source": [
    "columns =  df2.iloc[:,[3]]\n",
    "for col in columns:\n",
    "    df2[col] = df2[col].apply(int)\n",
    "df2;"
   ]
  },
  {
   "cell_type": "code",
   "execution_count": 16,
   "metadata": {},
   "outputs": [
    {
     "data": {
      "text/plain": [
       "array([34, 21, 46, 35, 43, 60, 73, 42, 38, 68, 71, 58, 67, 16, 41, 37, 27,\n",
       "       54, 30, 55, 64, 72, 79, 74, 44, 63, 50, 61, 75, 78, 48, 26, 32, 36,\n",
       "       70, 51, 59, 49, 39, 65, 31, 57, 28, 33, 77, 52, 66, 56, 40, 45, 62,\n",
       "       47, 22, 24, 19, 53, 25, 17, 23, 69, 29, 20, 76, 81, 80, 18, 15],\n",
       "      dtype=int64)"
      ]
     },
     "execution_count": 16,
     "metadata": {},
     "output_type": "execute_result"
    }
   ],
   "source": [
    "df2.Customer_Age.unique()"
   ]
  },
  {
   "cell_type": "markdown",
   "metadata": {},
   "source": [
    "## Change the Index for Data2\n",
    "\n",
    "### - To make the DataFrame relevant, the Customer_Identity is used as index"
   ]
  },
  {
   "cell_type": "code",
   "execution_count": 17,
   "metadata": {},
   "outputs": [],
   "source": [
    "df2.Claims_Rate;"
   ]
  },
  {
   "cell_type": "code",
   "execution_count": 18,
   "metadata": {},
   "outputs": [],
   "source": [
    "#a = data2.First_Policy_Year.dropna().apply(np.int64); # The pupose of this was to check if it changes for the data frame or not. \n",
    "# It is found that it doesn't apply effect the data2."
   ]
  },
  {
   "cell_type": "markdown",
   "metadata": {},
   "source": [
    "### Check if there is any Null value in any column"
   ]
  },
  {
   "cell_type": "code",
   "execution_count": null,
   "metadata": {},
   "outputs": [],
   "source": []
  },
  {
   "cell_type": "code",
   "execution_count": 169,
   "metadata": {},
   "outputs": [
    {
     "data": {
      "text/plain": [
       "First_Policy_Year                int64\n",
       "Customer_Age                     int64\n",
       "Gross_Monthly_Salary             int64\n",
       "Geographic_Living_Area           int64\n",
       "Has_Children                     int64\n",
       "Customer_Monetary_Value        float64\n",
       "Claims_Rate                    float64\n",
       "Premiums_Motor                 float64\n",
       "Premiums_Household             float64\n",
       "Premiums_Health                float64\n",
       "Premiums_Life                  float64\n",
       "Premiums_Work_Compensations    float64\n",
       "Total_Premium                  float64\n",
       "dtype: object"
      ]
     },
     "execution_count": 169,
     "metadata": {},
     "output_type": "execute_result"
    }
   ],
   "source": [
    "df2.dtypes "
   ]
  },
  {
   "cell_type": "code",
   "execution_count": null,
   "metadata": {},
   "outputs": [],
   "source": []
  },
  {
   "cell_type": "code",
   "execution_count": 21,
   "metadata": {},
   "outputs": [
    {
     "data": {
      "text/html": [
       "<div>\n",
       "<style scoped>\n",
       "    .dataframe tbody tr th:only-of-type {\n",
       "        vertical-align: middle;\n",
       "    }\n",
       "\n",
       "    .dataframe tbody tr th {\n",
       "        vertical-align: top;\n",
       "    }\n",
       "\n",
       "    .dataframe thead th {\n",
       "        text-align: right;\n",
       "    }\n",
       "</style>\n",
       "<table border=\"1\" class=\"dataframe\">\n",
       "  <thead>\n",
       "    <tr style=\"text-align: right;\">\n",
       "      <th></th>\n",
       "      <th>First_Policy_Year</th>\n",
       "      <th>Customer_Age</th>\n",
       "      <th>Gross_Monthly_Salary</th>\n",
       "      <th>Geographic_Living_Area</th>\n",
       "      <th>Has_Children</th>\n",
       "      <th>Customer_Monetary_Value</th>\n",
       "      <th>Claims_Rate</th>\n",
       "      <th>Premiums_Motor</th>\n",
       "      <th>Premiums_Household</th>\n",
       "      <th>Premiums_Health</th>\n",
       "      <th>Premiums_Life</th>\n",
       "      <th>Premiums_Work_Compensations</th>\n",
       "    </tr>\n",
       "  </thead>\n",
       "  <tbody>\n",
       "    <tr>\n",
       "      <th>count</th>\n",
       "      <td>10296.000000</td>\n",
       "      <td>10296.000000</td>\n",
       "      <td>10296.000000</td>\n",
       "      <td>10296.000000</td>\n",
       "      <td>10296.000000</td>\n",
       "      <td>10296.000000</td>\n",
       "      <td>10296.000000</td>\n",
       "      <td>10296.000000</td>\n",
       "      <td>10296.000000</td>\n",
       "      <td>10296.000000</td>\n",
       "      <td>10296.000000</td>\n",
       "      <td>10296.000000</td>\n",
       "    </tr>\n",
       "    <tr>\n",
       "      <th>mean</th>\n",
       "      <td>1986.020202</td>\n",
       "      <td>47.901418</td>\n",
       "      <td>4995.856158</td>\n",
       "      <td>2.709984</td>\n",
       "      <td>0.706876</td>\n",
       "      <td>177.892604</td>\n",
       "      <td>0.684239</td>\n",
       "      <td>300.486081</td>\n",
       "      <td>210.431192</td>\n",
       "      <td>172.224793</td>\n",
       "      <td>41.884261</td>\n",
       "      <td>41.296363</td>\n",
       "    </tr>\n",
       "    <tr>\n",
       "      <th>std</th>\n",
       "      <td>6.612583</td>\n",
       "      <td>17.388135</td>\n",
       "      <td>1968.171012</td>\n",
       "      <td>1.266293</td>\n",
       "      <td>0.455217</td>\n",
       "      <td>1945.811545</td>\n",
       "      <td>0.381656</td>\n",
       "      <td>211.690281</td>\n",
       "      <td>352.595984</td>\n",
       "      <td>304.094586</td>\n",
       "      <td>47.522474</td>\n",
       "      <td>51.432838</td>\n",
       "    </tr>\n",
       "    <tr>\n",
       "      <th>min</th>\n",
       "      <td>1974.000000</td>\n",
       "      <td>15.000000</td>\n",
       "      <td>665.000000</td>\n",
       "      <td>1.000000</td>\n",
       "      <td>0.000000</td>\n",
       "      <td>-165680.424000</td>\n",
       "      <td>0.000000</td>\n",
       "      <td>-4.110000</td>\n",
       "      <td>-75.000000</td>\n",
       "      <td>-2.110000</td>\n",
       "      <td>-7.000000</td>\n",
       "      <td>-12.000000</td>\n",
       "    </tr>\n",
       "    <tr>\n",
       "      <th>25%</th>\n",
       "      <td>1980.000000</td>\n",
       "      <td>33.000000</td>\n",
       "      <td>3411.000000</td>\n",
       "      <td>1.000000</td>\n",
       "      <td>0.000000</td>\n",
       "      <td>-9.440000</td>\n",
       "      <td>0.392221</td>\n",
       "      <td>190.590000</td>\n",
       "      <td>49.450000</td>\n",
       "      <td>111.800000</td>\n",
       "      <td>9.890000</td>\n",
       "      <td>10.670000</td>\n",
       "    </tr>\n",
       "    <tr>\n",
       "      <th>50%</th>\n",
       "      <td>1986.000000</td>\n",
       "      <td>48.000000</td>\n",
       "      <td>4999.500000</td>\n",
       "      <td>3.000000</td>\n",
       "      <td>1.000000</td>\n",
       "      <td>186.870000</td>\n",
       "      <td>0.719198</td>\n",
       "      <td>298.610000</td>\n",
       "      <td>132.800000</td>\n",
       "      <td>162.810000</td>\n",
       "      <td>25.560000</td>\n",
       "      <td>25.670000</td>\n",
       "    </tr>\n",
       "    <tr>\n",
       "      <th>75%</th>\n",
       "      <td>1992.000000</td>\n",
       "      <td>63.000000</td>\n",
       "      <td>6578.250000</td>\n",
       "      <td>4.000000</td>\n",
       "      <td>1.000000</td>\n",
       "      <td>399.777500</td>\n",
       "      <td>0.976307</td>\n",
       "      <td>408.300000</td>\n",
       "      <td>290.050000</td>\n",
       "      <td>219.040000</td>\n",
       "      <td>57.790000</td>\n",
       "      <td>56.790000</td>\n",
       "    </tr>\n",
       "    <tr>\n",
       "      <th>max</th>\n",
       "      <td>1998.000000</td>\n",
       "      <td>81.000000</td>\n",
       "      <td>10042.000000</td>\n",
       "      <td>4.000000</td>\n",
       "      <td>1.000000</td>\n",
       "      <td>11875.890000</td>\n",
       "      <td>13.900000</td>\n",
       "      <td>11604.420000</td>\n",
       "      <td>25048.800000</td>\n",
       "      <td>28272.000000</td>\n",
       "      <td>398.300000</td>\n",
       "      <td>1988.700000</td>\n",
       "    </tr>\n",
       "  </tbody>\n",
       "</table>\n",
       "</div>"
      ],
      "text/plain": [
       "       First_Policy_Year  Customer_Age  Gross_Monthly_Salary  \\\n",
       "count       10296.000000  10296.000000          10296.000000   \n",
       "mean         1986.020202     47.901418           4995.856158   \n",
       "std             6.612583     17.388135           1968.171012   \n",
       "min          1974.000000     15.000000            665.000000   \n",
       "25%          1980.000000     33.000000           3411.000000   \n",
       "50%          1986.000000     48.000000           4999.500000   \n",
       "75%          1992.000000     63.000000           6578.250000   \n",
       "max          1998.000000     81.000000          10042.000000   \n",
       "\n",
       "       Geographic_Living_Area  Has_Children  Customer_Monetary_Value  \\\n",
       "count            10296.000000  10296.000000             10296.000000   \n",
       "mean                 2.709984      0.706876               177.892604   \n",
       "std                  1.266293      0.455217              1945.811545   \n",
       "min                  1.000000      0.000000           -165680.424000   \n",
       "25%                  1.000000      0.000000                -9.440000   \n",
       "50%                  3.000000      1.000000               186.870000   \n",
       "75%                  4.000000      1.000000               399.777500   \n",
       "max                  4.000000      1.000000             11875.890000   \n",
       "\n",
       "        Claims_Rate  Premiums_Motor  Premiums_Household  Premiums_Health  \\\n",
       "count  10296.000000    10296.000000        10296.000000     10296.000000   \n",
       "mean       0.684239      300.486081          210.431192       172.224793   \n",
       "std        0.381656      211.690281          352.595984       304.094586   \n",
       "min        0.000000       -4.110000          -75.000000        -2.110000   \n",
       "25%        0.392221      190.590000           49.450000       111.800000   \n",
       "50%        0.719198      298.610000          132.800000       162.810000   \n",
       "75%        0.976307      408.300000          290.050000       219.040000   \n",
       "max       13.900000    11604.420000        25048.800000     28272.000000   \n",
       "\n",
       "       Premiums_Life  Premiums_Work_Compensations  \n",
       "count   10296.000000                 10296.000000  \n",
       "mean       41.884261                    41.296363  \n",
       "std        47.522474                    51.432838  \n",
       "min        -7.000000                   -12.000000  \n",
       "25%         9.890000                    10.670000  \n",
       "50%        25.560000                    25.670000  \n",
       "75%        57.790000                    56.790000  \n",
       "max       398.300000                  1988.700000  "
      ]
     },
     "execution_count": 21,
     "metadata": {},
     "output_type": "execute_result"
    }
   ],
   "source": [
    "df2.describe()"
   ]
  },
  {
   "cell_type": "markdown",
   "metadata": {},
   "source": [
    "# 2. Convert the float into int. \n",
    "## -  Remove the NaN so that you can apply (int)"
   ]
  },
  {
   "cell_type": "markdown",
   "metadata": {},
   "source": [
    "##  - The most important part is to replace the NaN values (not drop) and convert the necessary floats into integers. \n"
   ]
  },
  {
   "cell_type": "markdown",
   "metadata": {},
   "source": [
    "### To check the customers' age in decending order. "
   ]
  },
  {
   "cell_type": "code",
   "execution_count": 22,
   "metadata": {},
   "outputs": [],
   "source": [
    "# Two column can be added with '+'\n",
    "df2['Total_Premium'] =  df2.iloc[:,7]+df2.iloc[:,8] + df2.iloc[:,9] + df2.iloc[:,10]+ df2.iloc[:,11];"
   ]
  },
  {
   "cell_type": "code",
   "execution_count": 55,
   "metadata": {},
   "outputs": [],
   "source": [
    "df2.Total_Premium;"
   ]
  },
  {
   "cell_type": "markdown",
   "metadata": {},
   "source": [
    "# Histograms\n",
    "### - to plot the distributions of numeric variables."
   ]
  },
  {
   "cell_type": "code",
   "execution_count": null,
   "metadata": {},
   "outputs": [],
   "source": []
  },
  {
   "cell_type": "markdown",
   "metadata": {},
   "source": [
    "# Clustering "
   ]
  },
  {
   "cell_type": "markdown",
   "metadata": {},
   "source": [
    "## Demographic Clustering "
   ]
  },
  {
   "cell_type": "code",
   "execution_count": 24,
   "metadata": {},
   "outputs": [],
   "source": [
    "#Not used yet. \n",
    "Clus_1 = df2.First_Policy_Year.values\n",
    "Clus_2 = df2.Customer_Age.values\n",
    "Clus_3 = df2.Gross_Monthly_Salary.values"
   ]
  },
  {
   "cell_type": "code",
   "execution_count": 196,
   "metadata": {},
   "outputs": [
    {
     "name": "stdout",
     "output_type": "stream",
     "text": [
      "<class 'pandas.core.frame.DataFrame'>\n",
      "Int64Index: 10296 entries, 1 to 10296\n",
      "Data columns (total 13 columns):\n",
      "First_Policy_Year              10296 non-null int64\n",
      "Customer_Age                   10296 non-null int64\n",
      "Gross_Monthly_Salary           10296 non-null int64\n",
      "Geographic_Living_Area         10296 non-null int64\n",
      "Has_Children                   10296 non-null int64\n",
      "Customer_Monetary_Value        10296 non-null float64\n",
      "Claims_Rate                    10296 non-null float64\n",
      "Premiums_Motor                 10296 non-null float64\n",
      "Premiums_Household             10296 non-null float64\n",
      "Premiums_Health                10296 non-null float64\n",
      "Premiums_Life                  10296 non-null float64\n",
      "Premiums_Work_Compensations    10296 non-null float64\n",
      "Total_Premium                  10296 non-null float64\n",
      "dtypes: float64(8), int64(5)\n",
      "memory usage: 1.4 MB\n"
     ]
    }
   ],
   "source": [
    "  \n",
    "df2.info()"
   ]
  },
  {
   "cell_type": "markdown",
   "metadata": {},
   "source": [
    "## Trail 1"
   ]
  },
  {
   "cell_type": "code",
   "execution_count": 116,
   "metadata": {},
   "outputs": [
    {
     "data": {
      "text/plain": [
       "Index(['First_Policy_Year', 'Customer_Age', 'Gross_Monthly_Salary',\n",
       "       'Geographic_Living_Area', 'Has_Children', 'Customer_Monetary_Value',\n",
       "       'Claims_Rate', 'Premiums_Motor', 'Premiums_Household',\n",
       "       'Premiums_Health', 'Premiums_Life', 'Premiums_Work_Compensations',\n",
       "       'Total_Premium'],\n",
       "      dtype='object')"
      ]
     },
     "execution_count": 116,
     "metadata": {},
     "output_type": "execute_result"
    }
   ],
   "source": [
    "df2.columns"
   ]
  },
  {
   "cell_type": "code",
   "execution_count": 156,
   "metadata": {},
   "outputs": [],
   "source": [
    "from sklearn.preprocessing import StandardScaler\n",
    "\n",
    "Demo_Data = df2[['Total_Premium','Customer_Monetary_Value'] ]"
   ]
  },
  {
   "cell_type": "code",
   "execution_count": 157,
   "metadata": {},
   "outputs": [
    {
     "data": {
      "text/html": [
       "<div>\n",
       "<style scoped>\n",
       "    .dataframe tbody tr th:only-of-type {\n",
       "        vertical-align: middle;\n",
       "    }\n",
       "\n",
       "    .dataframe tbody tr th {\n",
       "        vertical-align: top;\n",
       "    }\n",
       "\n",
       "    .dataframe thead th {\n",
       "        text-align: right;\n",
       "    }\n",
       "</style>\n",
       "<table border=\"1\" class=\"dataframe\">\n",
       "  <thead>\n",
       "    <tr style=\"text-align: right;\">\n",
       "      <th></th>\n",
       "      <th>Total_Premium</th>\n",
       "      <th>Customer_Monetary_Value</th>\n",
       "    </tr>\n",
       "    <tr>\n",
       "      <th>Customer_Identity</th>\n",
       "      <th></th>\n",
       "      <th></th>\n",
       "    </tr>\n",
       "  </thead>\n",
       "  <tbody>\n",
       "    <tr>\n",
       "      <th>1</th>\n",
       "      <td>665.56</td>\n",
       "      <td>380.97</td>\n",
       "    </tr>\n",
       "    <tr>\n",
       "      <th>2</th>\n",
       "      <td>910.96</td>\n",
       "      <td>-131.13</td>\n",
       "    </tr>\n",
       "    <tr>\n",
       "      <th>3</th>\n",
       "      <td>740.60</td>\n",
       "      <td>504.67</td>\n",
       "    </tr>\n",
       "    <tr>\n",
       "      <th>4</th>\n",
       "      <td>600.68</td>\n",
       "      <td>-16.99</td>\n",
       "    </tr>\n",
       "    <tr>\n",
       "      <th>5</th>\n",
       "      <td>629.24</td>\n",
       "      <td>35.23</td>\n",
       "    </tr>\n",
       "  </tbody>\n",
       "</table>\n",
       "</div>"
      ],
      "text/plain": [
       "                   Total_Premium  Customer_Monetary_Value\n",
       "Customer_Identity                                        \n",
       "1                         665.56                   380.97\n",
       "2                         910.96                  -131.13\n",
       "3                         740.60                   504.67\n",
       "4                         600.68                   -16.99\n",
       "5                         629.24                    35.23"
      ]
     },
     "execution_count": 157,
     "metadata": {},
     "output_type": "execute_result"
    }
   ],
   "source": [
    "Demo_Data.head()"
   ]
  },
  {
   "cell_type": "code",
   "execution_count": 159,
   "metadata": {},
   "outputs": [],
   "source": [
    "# Separating out the Demographic Data.\n",
    "\n",
    "x = Demo_Data.values\n",
    "\n",
    "# Separating out the Target as regions. \n",
    "y = df2.loc[:,['Customer_Age']].values\n",
    "\n",
    "# Standardizing the features\n",
    "scaler = StandardScaler()\n",
    "x = scaler.fit_transform(x)\n"
   ]
  },
  {
   "cell_type": "code",
   "execution_count": 167,
   "metadata": {},
   "outputs": [
    {
     "data": {
      "text/plain": [
       "array([[-0.21149629,  0.10437149],\n",
       "       [ 0.30358712, -0.15882196],\n",
       "       [-0.05399075,  0.16794703],\n",
       "       ...,\n",
       "       [-0.14710037,  0.17793306],\n",
       "       [ 0.01804536,  0.03708525],\n",
       "       [-0.20310047,  0.14691622]])"
      ]
     },
     "execution_count": 167,
     "metadata": {},
     "output_type": "execute_result"
    }
   ],
   "source": [
    "x"
   ]
  },
  {
   "cell_type": "code",
   "execution_count": 165,
   "metadata": {},
   "outputs": [
    {
     "data": {
      "text/plain": [
       "array([[34],\n",
       "       [21],\n",
       "       [46],\n",
       "       ...,\n",
       "       [40],\n",
       "       [39],\n",
       "       [35]], dtype=int64)"
      ]
     },
     "execution_count": 165,
     "metadata": {},
     "output_type": "execute_result"
    }
   ],
   "source": [
    "y"
   ]
  },
  {
   "cell_type": "markdown",
   "metadata": {},
   "source": [
    "## PCA (Principle Component Analysis) Projection to 2D\n",
    "The original data has 4 columns ('Customer_Age','First_Policy_Year','Total_Premium', and 'Customer_Monetary_Value'). In this section, the code projects the original data which is 4 dimensional into 2 dimensions. We should note that after dimensionality reduction, there usually isn’t a particular meaning assigned to each principal component. The new components are just the two main dimensions of variation."
   ]
  },
  {
   "cell_type": "code",
   "execution_count": 160,
   "metadata": {},
   "outputs": [],
   "source": [
    "from sklearn.decomposition import PCA"
   ]
  },
  {
   "cell_type": "code",
   "execution_count": 161,
   "metadata": {},
   "outputs": [],
   "source": [
    "pca = PCA(n_components=2)\n",
    "Demography_Data = pca.fit_transform(x)\n",
    "principalDf = pd.DataFrame(data = Demography_Data\n",
    "             , columns = ['Demography_Data 1', 'Demography_Data 2'])"
   ]
  },
  {
   "cell_type": "code",
   "execution_count": 212,
   "metadata": {},
   "outputs": [],
   "source": [
    "principalDf.index= finalDf.index"
   ]
  },
  {
   "cell_type": "code",
   "execution_count": 213,
   "metadata": {},
   "outputs": [
    {
     "ename": "InvalidIndexError",
     "evalue": "Reindexing only valid with uniquely valued Index objects",
     "output_type": "error",
     "traceback": [
      "\u001b[1;31m---------------------------------------------------------------------------\u001b[0m",
      "\u001b[1;31mInvalidIndexError\u001b[0m                         Traceback (most recent call last)",
      "\u001b[1;32m<ipython-input-213-13abc9525eb5>\u001b[0m in \u001b[0;36m<module>\u001b[1;34m()\u001b[0m\n\u001b[1;32m----> 1\u001b[1;33m \u001b[0mDf\u001b[0m \u001b[1;33m=\u001b[0m \u001b[0mpd\u001b[0m\u001b[1;33m.\u001b[0m\u001b[0mconcat\u001b[0m\u001b[1;33m(\u001b[0m\u001b[1;33m[\u001b[0m\u001b[0mprincipalDf\u001b[0m\u001b[1;33m,\u001b[0m \u001b[0mdf2\u001b[0m\u001b[1;33m[\u001b[0m\u001b[1;33m[\u001b[0m\u001b[1;34m'Geographic_Living_Area'\u001b[0m\u001b[1;33m]\u001b[0m\u001b[1;33m]\u001b[0m\u001b[1;33m]\u001b[0m\u001b[1;33m,\u001b[0m \u001b[0maxis\u001b[0m \u001b[1;33m=\u001b[0m \u001b[1;36m1\u001b[0m\u001b[1;33m)\u001b[0m\u001b[1;33m\u001b[0m\u001b[0m\n\u001b[0m",
      "\u001b[1;32m~\\AppData\\Local\\Continuum\\anaconda3\\lib\\site-packages\\pandas\\core\\reshape\\concat.py\u001b[0m in \u001b[0;36mconcat\u001b[1;34m(objs, axis, join, join_axes, ignore_index, keys, levels, names, verify_integrity, copy)\u001b[0m\n\u001b[0;32m    210\u001b[0m                        \u001b[0mkeys\u001b[0m\u001b[1;33m=\u001b[0m\u001b[0mkeys\u001b[0m\u001b[1;33m,\u001b[0m \u001b[0mlevels\u001b[0m\u001b[1;33m=\u001b[0m\u001b[0mlevels\u001b[0m\u001b[1;33m,\u001b[0m \u001b[0mnames\u001b[0m\u001b[1;33m=\u001b[0m\u001b[0mnames\u001b[0m\u001b[1;33m,\u001b[0m\u001b[1;33m\u001b[0m\u001b[0m\n\u001b[0;32m    211\u001b[0m                        \u001b[0mverify_integrity\u001b[0m\u001b[1;33m=\u001b[0m\u001b[0mverify_integrity\u001b[0m\u001b[1;33m,\u001b[0m\u001b[1;33m\u001b[0m\u001b[0m\n\u001b[1;32m--> 212\u001b[1;33m                        copy=copy)\n\u001b[0m\u001b[0;32m    213\u001b[0m     \u001b[1;32mreturn\u001b[0m \u001b[0mop\u001b[0m\u001b[1;33m.\u001b[0m\u001b[0mget_result\u001b[0m\u001b[1;33m(\u001b[0m\u001b[1;33m)\u001b[0m\u001b[1;33m\u001b[0m\u001b[0m\n\u001b[0;32m    214\u001b[0m \u001b[1;33m\u001b[0m\u001b[0m\n",
      "\u001b[1;32m~\\AppData\\Local\\Continuum\\anaconda3\\lib\\site-packages\\pandas\\core\\reshape\\concat.py\u001b[0m in \u001b[0;36m__init__\u001b[1;34m(self, objs, axis, join, join_axes, keys, levels, names, ignore_index, verify_integrity, copy)\u001b[0m\n\u001b[0;32m    361\u001b[0m         \u001b[0mself\u001b[0m\u001b[1;33m.\u001b[0m\u001b[0mcopy\u001b[0m \u001b[1;33m=\u001b[0m \u001b[0mcopy\u001b[0m\u001b[1;33m\u001b[0m\u001b[0m\n\u001b[0;32m    362\u001b[0m \u001b[1;33m\u001b[0m\u001b[0m\n\u001b[1;32m--> 363\u001b[1;33m         \u001b[0mself\u001b[0m\u001b[1;33m.\u001b[0m\u001b[0mnew_axes\u001b[0m \u001b[1;33m=\u001b[0m \u001b[0mself\u001b[0m\u001b[1;33m.\u001b[0m\u001b[0m_get_new_axes\u001b[0m\u001b[1;33m(\u001b[0m\u001b[1;33m)\u001b[0m\u001b[1;33m\u001b[0m\u001b[0m\n\u001b[0m\u001b[0;32m    364\u001b[0m \u001b[1;33m\u001b[0m\u001b[0m\n\u001b[0;32m    365\u001b[0m     \u001b[1;32mdef\u001b[0m \u001b[0mget_result\u001b[0m\u001b[1;33m(\u001b[0m\u001b[0mself\u001b[0m\u001b[1;33m)\u001b[0m\u001b[1;33m:\u001b[0m\u001b[1;33m\u001b[0m\u001b[0m\n",
      "\u001b[1;32m~\\AppData\\Local\\Continuum\\anaconda3\\lib\\site-packages\\pandas\\core\\reshape\\concat.py\u001b[0m in \u001b[0;36m_get_new_axes\u001b[1;34m(self)\u001b[0m\n\u001b[0;32m    428\u001b[0m                 \u001b[1;32mif\u001b[0m \u001b[0mi\u001b[0m \u001b[1;33m==\u001b[0m \u001b[0mself\u001b[0m\u001b[1;33m.\u001b[0m\u001b[0maxis\u001b[0m\u001b[1;33m:\u001b[0m\u001b[1;33m\u001b[0m\u001b[0m\n\u001b[0;32m    429\u001b[0m                     \u001b[1;32mcontinue\u001b[0m\u001b[1;33m\u001b[0m\u001b[0m\n\u001b[1;32m--> 430\u001b[1;33m                 \u001b[0mnew_axes\u001b[0m\u001b[1;33m[\u001b[0m\u001b[0mi\u001b[0m\u001b[1;33m]\u001b[0m \u001b[1;33m=\u001b[0m \u001b[0mself\u001b[0m\u001b[1;33m.\u001b[0m\u001b[0m_get_comb_axis\u001b[0m\u001b[1;33m(\u001b[0m\u001b[0mi\u001b[0m\u001b[1;33m)\u001b[0m\u001b[1;33m\u001b[0m\u001b[0m\n\u001b[0m\u001b[0;32m    431\u001b[0m         \u001b[1;32melse\u001b[0m\u001b[1;33m:\u001b[0m\u001b[1;33m\u001b[0m\u001b[0m\n\u001b[0;32m    432\u001b[0m             \u001b[1;32mif\u001b[0m \u001b[0mlen\u001b[0m\u001b[1;33m(\u001b[0m\u001b[0mself\u001b[0m\u001b[1;33m.\u001b[0m\u001b[0mjoin_axes\u001b[0m\u001b[1;33m)\u001b[0m \u001b[1;33m!=\u001b[0m \u001b[0mndim\u001b[0m \u001b[1;33m-\u001b[0m \u001b[1;36m1\u001b[0m\u001b[1;33m:\u001b[0m\u001b[1;33m\u001b[0m\u001b[0m\n",
      "\u001b[1;32m~\\AppData\\Local\\Continuum\\anaconda3\\lib\\site-packages\\pandas\\core\\reshape\\concat.py\u001b[0m in \u001b[0;36m_get_comb_axis\u001b[1;34m(self, i)\u001b[0m\n\u001b[0;32m    448\u001b[0m         \u001b[1;32mtry\u001b[0m\u001b[1;33m:\u001b[0m\u001b[1;33m\u001b[0m\u001b[0m\n\u001b[0;32m    449\u001b[0m             return _get_objs_combined_axis(self.objs, axis=data_axis,\n\u001b[1;32m--> 450\u001b[1;33m                                            intersect=self.intersect)\n\u001b[0m\u001b[0;32m    451\u001b[0m         \u001b[1;32mexcept\u001b[0m \u001b[0mIndexError\u001b[0m\u001b[1;33m:\u001b[0m\u001b[1;33m\u001b[0m\u001b[0m\n\u001b[0;32m    452\u001b[0m             \u001b[0mtypes\u001b[0m \u001b[1;33m=\u001b[0m \u001b[1;33m[\u001b[0m\u001b[0mtype\u001b[0m\u001b[1;33m(\u001b[0m\u001b[0mx\u001b[0m\u001b[1;33m)\u001b[0m\u001b[1;33m.\u001b[0m\u001b[0m__name__\u001b[0m \u001b[1;32mfor\u001b[0m \u001b[0mx\u001b[0m \u001b[1;32min\u001b[0m \u001b[0mself\u001b[0m\u001b[1;33m.\u001b[0m\u001b[0mobjs\u001b[0m\u001b[1;33m]\u001b[0m\u001b[1;33m\u001b[0m\u001b[0m\n",
      "\u001b[1;32m~\\AppData\\Local\\Continuum\\anaconda3\\lib\\site-packages\\pandas\\core\\indexes\\api.py\u001b[0m in \u001b[0;36m_get_objs_combined_axis\u001b[1;34m(objs, intersect, axis)\u001b[0m\n\u001b[0;32m     40\u001b[0m                  if hasattr(obj, '_get_axis')]\n\u001b[0;32m     41\u001b[0m     \u001b[1;32mif\u001b[0m \u001b[0mobs_idxes\u001b[0m\u001b[1;33m:\u001b[0m\u001b[1;33m\u001b[0m\u001b[0m\n\u001b[1;32m---> 42\u001b[1;33m         \u001b[1;32mreturn\u001b[0m \u001b[0m_get_combined_index\u001b[0m\u001b[1;33m(\u001b[0m\u001b[0mobs_idxes\u001b[0m\u001b[1;33m,\u001b[0m \u001b[0mintersect\u001b[0m\u001b[1;33m=\u001b[0m\u001b[0mintersect\u001b[0m\u001b[1;33m)\u001b[0m\u001b[1;33m\u001b[0m\u001b[0m\n\u001b[0m\u001b[0;32m     43\u001b[0m \u001b[1;33m\u001b[0m\u001b[0m\n\u001b[0;32m     44\u001b[0m \u001b[1;33m\u001b[0m\u001b[0m\n",
      "\u001b[1;32m~\\AppData\\Local\\Continuum\\anaconda3\\lib\\site-packages\\pandas\\core\\indexes\\api.py\u001b[0m in \u001b[0;36m_get_combined_index\u001b[1;34m(indexes, intersect)\u001b[0m\n\u001b[0;32m     55\u001b[0m             \u001b[0mindex\u001b[0m \u001b[1;33m=\u001b[0m \u001b[0mindex\u001b[0m\u001b[1;33m.\u001b[0m\u001b[0mintersection\u001b[0m\u001b[1;33m(\u001b[0m\u001b[0mother\u001b[0m\u001b[1;33m)\u001b[0m\u001b[1;33m\u001b[0m\u001b[0m\n\u001b[0;32m     56\u001b[0m         \u001b[1;32mreturn\u001b[0m \u001b[0mindex\u001b[0m\u001b[1;33m\u001b[0m\u001b[0m\n\u001b[1;32m---> 57\u001b[1;33m     \u001b[0munion\u001b[0m \u001b[1;33m=\u001b[0m \u001b[0m_union_indexes\u001b[0m\u001b[1;33m(\u001b[0m\u001b[0mindexes\u001b[0m\u001b[1;33m)\u001b[0m\u001b[1;33m\u001b[0m\u001b[0m\n\u001b[0m\u001b[0;32m     58\u001b[0m     \u001b[1;32mreturn\u001b[0m \u001b[0m_ensure_index\u001b[0m\u001b[1;33m(\u001b[0m\u001b[0munion\u001b[0m\u001b[1;33m)\u001b[0m\u001b[1;33m\u001b[0m\u001b[0m\n\u001b[0;32m     59\u001b[0m \u001b[1;33m\u001b[0m\u001b[0m\n",
      "\u001b[1;32m~\\AppData\\Local\\Continuum\\anaconda3\\lib\\site-packages\\pandas\\core\\indexes\\api.py\u001b[0m in \u001b[0;36m_union_indexes\u001b[1;34m(indexes)\u001b[0m\n\u001b[0;32m     85\u001b[0m         \u001b[1;32melse\u001b[0m\u001b[1;33m:\u001b[0m\u001b[1;33m\u001b[0m\u001b[0m\n\u001b[0;32m     86\u001b[0m             \u001b[1;32mfor\u001b[0m \u001b[0mother\u001b[0m \u001b[1;32min\u001b[0m \u001b[0mindexes\u001b[0m\u001b[1;33m[\u001b[0m\u001b[1;36m1\u001b[0m\u001b[1;33m:\u001b[0m\u001b[1;33m]\u001b[0m\u001b[1;33m:\u001b[0m\u001b[1;33m\u001b[0m\u001b[0m\n\u001b[1;32m---> 87\u001b[1;33m                 \u001b[0mresult\u001b[0m \u001b[1;33m=\u001b[0m \u001b[0mresult\u001b[0m\u001b[1;33m.\u001b[0m\u001b[0munion\u001b[0m\u001b[1;33m(\u001b[0m\u001b[0mother\u001b[0m\u001b[1;33m)\u001b[0m\u001b[1;33m\u001b[0m\u001b[0m\n\u001b[0m\u001b[0;32m     88\u001b[0m             \u001b[1;32mreturn\u001b[0m \u001b[0mresult\u001b[0m\u001b[1;33m\u001b[0m\u001b[0m\n\u001b[0;32m     89\u001b[0m     \u001b[1;32melif\u001b[0m \u001b[0mkind\u001b[0m \u001b[1;33m==\u001b[0m \u001b[1;34m'array'\u001b[0m\u001b[1;33m:\u001b[0m\u001b[1;33m\u001b[0m\u001b[0m\n",
      "\u001b[1;32m~\\AppData\\Local\\Continuum\\anaconda3\\lib\\site-packages\\pandas\\core\\indexes\\base.py\u001b[0m in \u001b[0;36munion\u001b[1;34m(self, other)\u001b[0m\n\u001b[0;32m   2237\u001b[0m                 \u001b[0mresult\u001b[0m\u001b[1;33m.\u001b[0m\u001b[0mextend\u001b[0m\u001b[1;33m(\u001b[0m\u001b[1;33m[\u001b[0m\u001b[0mx\u001b[0m \u001b[1;32mfor\u001b[0m \u001b[0mx\u001b[0m \u001b[1;32min\u001b[0m \u001b[0mother\u001b[0m\u001b[1;33m.\u001b[0m\u001b[0m_values\u001b[0m \u001b[1;32mif\u001b[0m \u001b[0mx\u001b[0m \u001b[1;32mnot\u001b[0m \u001b[1;32min\u001b[0m \u001b[0mvalue_set\u001b[0m\u001b[1;33m]\u001b[0m\u001b[1;33m)\u001b[0m\u001b[1;33m\u001b[0m\u001b[0m\n\u001b[0;32m   2238\u001b[0m         \u001b[1;32melse\u001b[0m\u001b[1;33m:\u001b[0m\u001b[1;33m\u001b[0m\u001b[0m\n\u001b[1;32m-> 2239\u001b[1;33m             \u001b[0mindexer\u001b[0m \u001b[1;33m=\u001b[0m \u001b[0mself\u001b[0m\u001b[1;33m.\u001b[0m\u001b[0mget_indexer\u001b[0m\u001b[1;33m(\u001b[0m\u001b[0mother\u001b[0m\u001b[1;33m)\u001b[0m\u001b[1;33m\u001b[0m\u001b[0m\n\u001b[0m\u001b[0;32m   2240\u001b[0m             \u001b[0mindexer\u001b[0m\u001b[1;33m,\u001b[0m \u001b[1;33m=\u001b[0m \u001b[1;33m(\u001b[0m\u001b[0mindexer\u001b[0m \u001b[1;33m==\u001b[0m \u001b[1;33m-\u001b[0m\u001b[1;36m1\u001b[0m\u001b[1;33m)\u001b[0m\u001b[1;33m.\u001b[0m\u001b[0mnonzero\u001b[0m\u001b[1;33m(\u001b[0m\u001b[1;33m)\u001b[0m\u001b[1;33m\u001b[0m\u001b[0m\n\u001b[0;32m   2241\u001b[0m \u001b[1;33m\u001b[0m\u001b[0m\n",
      "\u001b[1;32m~\\AppData\\Local\\Continuum\\anaconda3\\lib\\site-packages\\pandas\\core\\indexes\\base.py\u001b[0m in \u001b[0;36mget_indexer\u001b[1;34m(self, target, method, limit, tolerance)\u001b[0m\n\u001b[0;32m   2685\u001b[0m \u001b[1;33m\u001b[0m\u001b[0m\n\u001b[0;32m   2686\u001b[0m         \u001b[1;32mif\u001b[0m \u001b[1;32mnot\u001b[0m \u001b[0mself\u001b[0m\u001b[1;33m.\u001b[0m\u001b[0mis_unique\u001b[0m\u001b[1;33m:\u001b[0m\u001b[1;33m\u001b[0m\u001b[0m\n\u001b[1;32m-> 2687\u001b[1;33m             raise InvalidIndexError('Reindexing only valid with uniquely'\n\u001b[0m\u001b[0;32m   2688\u001b[0m                                     ' valued Index objects')\n\u001b[0;32m   2689\u001b[0m \u001b[1;33m\u001b[0m\u001b[0m\n",
      "\u001b[1;31mInvalidIndexError\u001b[0m: Reindexing only valid with uniquely valued Index objects"
     ]
    }
   ],
   "source": [
    "Df = pd.concat([principalDf, df2[['Geographic_Living_Area']]], axis = 1)"
   ]
  },
  {
   "cell_type": "code",
   "execution_count": 211,
   "metadata": {},
   "outputs": [
    {
     "data": {
      "text/html": [
       "<div>\n",
       "<style scoped>\n",
       "    .dataframe tbody tr th:only-of-type {\n",
       "        vertical-align: middle;\n",
       "    }\n",
       "\n",
       "    .dataframe tbody tr th {\n",
       "        vertical-align: top;\n",
       "    }\n",
       "\n",
       "    .dataframe thead th {\n",
       "        text-align: right;\n",
       "    }\n",
       "</style>\n",
       "<table border=\"1\" class=\"dataframe\">\n",
       "  <thead>\n",
       "    <tr style=\"text-align: right;\">\n",
       "      <th></th>\n",
       "      <th>Demography_Data 1</th>\n",
       "      <th>Demography_Data 2</th>\n",
       "    </tr>\n",
       "    <tr>\n",
       "      <th>Customer_Age</th>\n",
       "      <th></th>\n",
       "      <th></th>\n",
       "    </tr>\n",
       "  </thead>\n",
       "  <tbody>\n",
       "    <tr>\n",
       "      <th>34</th>\n",
       "      <td>0.075749</td>\n",
       "      <td>-0.223352</td>\n",
       "    </tr>\n",
       "    <tr>\n",
       "      <th>21</th>\n",
       "      <td>-0.102364</td>\n",
       "      <td>0.326973</td>\n",
       "    </tr>\n",
       "    <tr>\n",
       "      <th>46</th>\n",
       "      <td>-0.080579</td>\n",
       "      <td>-0.156934</td>\n",
       "    </tr>\n",
       "    <tr>\n",
       "      <th>35</th>\n",
       "      <td>0.316668</td>\n",
       "      <td>-0.175021</td>\n",
       "    </tr>\n",
       "    <tr>\n",
       "      <th>43</th>\n",
       "      <td>0.255302</td>\n",
       "      <td>-0.151610</td>\n",
       "    </tr>\n",
       "    <tr>\n",
       "      <th>60</th>\n",
       "      <td>0.336493</td>\n",
       "      <td>-0.189510</td>\n",
       "    </tr>\n",
       "    <tr>\n",
       "      <th>73</th>\n",
       "      <td>0.021617</td>\n",
       "      <td>0.155660</td>\n",
       "    </tr>\n",
       "    <tr>\n",
       "      <th>42</th>\n",
       "      <td>-0.095694</td>\n",
       "      <td>0.330318</td>\n",
       "    </tr>\n",
       "    <tr>\n",
       "      <th>38</th>\n",
       "      <td>0.194445</td>\n",
       "      <td>-0.324285</td>\n",
       "    </tr>\n",
       "    <tr>\n",
       "      <th>68</th>\n",
       "      <td>0.120672</td>\n",
       "      <td>0.095374</td>\n",
       "    </tr>\n",
       "    <tr>\n",
       "      <th>71</th>\n",
       "      <td>0.101460</td>\n",
       "      <td>-0.183067</td>\n",
       "    </tr>\n",
       "    <tr>\n",
       "      <th>58</th>\n",
       "      <td>-0.118479</td>\n",
       "      <td>-0.047128</td>\n",
       "    </tr>\n",
       "    <tr>\n",
       "      <th>67</th>\n",
       "      <td>-0.078263</td>\n",
       "      <td>0.205861</td>\n",
       "    </tr>\n",
       "    <tr>\n",
       "      <th>16</th>\n",
       "      <td>-0.072732</td>\n",
       "      <td>0.256630</td>\n",
       "    </tr>\n",
       "    <tr>\n",
       "      <th>41</th>\n",
       "      <td>0.440319</td>\n",
       "      <td>-0.246332</td>\n",
       "    </tr>\n",
       "    <tr>\n",
       "      <th>37</th>\n",
       "      <td>0.093114</td>\n",
       "      <td>-0.174641</td>\n",
       "    </tr>\n",
       "    <tr>\n",
       "      <th>27</th>\n",
       "      <td>-0.465480</td>\n",
       "      <td>0.521673</td>\n",
       "    </tr>\n",
       "    <tr>\n",
       "      <th>46</th>\n",
       "      <td>0.175608</td>\n",
       "      <td>-0.103664</td>\n",
       "    </tr>\n",
       "    <tr>\n",
       "      <th>34</th>\n",
       "      <td>-0.211124</td>\n",
       "      <td>0.172975</td>\n",
       "    </tr>\n",
       "    <tr>\n",
       "      <th>54</th>\n",
       "      <td>0.194273</td>\n",
       "      <td>-0.321518</td>\n",
       "    </tr>\n",
       "    <tr>\n",
       "      <th>30</th>\n",
       "      <td>0.095537</td>\n",
       "      <td>-0.237878</td>\n",
       "    </tr>\n",
       "    <tr>\n",
       "      <th>58</th>\n",
       "      <td>0.160665</td>\n",
       "      <td>-0.112314</td>\n",
       "    </tr>\n",
       "    <tr>\n",
       "      <th>30</th>\n",
       "      <td>0.002534</td>\n",
       "      <td>0.192027</td>\n",
       "    </tr>\n",
       "    <tr>\n",
       "      <th>55</th>\n",
       "      <td>-0.211689</td>\n",
       "      <td>0.130170</td>\n",
       "    </tr>\n",
       "    <tr>\n",
       "      <th>64</th>\n",
       "      <td>0.116842</td>\n",
       "      <td>-0.066136</td>\n",
       "    </tr>\n",
       "    <tr>\n",
       "      <th>72</th>\n",
       "      <td>0.063257</td>\n",
       "      <td>-0.207466</td>\n",
       "    </tr>\n",
       "    <tr>\n",
       "      <th>79</th>\n",
       "      <td>-0.053221</td>\n",
       "      <td>-0.130644</td>\n",
       "    </tr>\n",
       "    <tr>\n",
       "      <th>74</th>\n",
       "      <td>0.241224</td>\n",
       "      <td>-0.106677</td>\n",
       "    </tr>\n",
       "    <tr>\n",
       "      <th>64</th>\n",
       "      <td>0.253910</td>\n",
       "      <td>-0.316619</td>\n",
       "    </tr>\n",
       "    <tr>\n",
       "      <th>44</th>\n",
       "      <td>0.301708</td>\n",
       "      <td>-0.173863</td>\n",
       "    </tr>\n",
       "    <tr>\n",
       "      <th>...</th>\n",
       "      <td>...</td>\n",
       "      <td>...</td>\n",
       "    </tr>\n",
       "    <tr>\n",
       "      <th>79</th>\n",
       "      <td>-0.363422</td>\n",
       "      <td>0.020351</td>\n",
       "    </tr>\n",
       "    <tr>\n",
       "      <th>20</th>\n",
       "      <td>-0.135193</td>\n",
       "      <td>0.079353</td>\n",
       "    </tr>\n",
       "    <tr>\n",
       "      <th>28</th>\n",
       "      <td>0.110254</td>\n",
       "      <td>-0.017631</td>\n",
       "    </tr>\n",
       "    <tr>\n",
       "      <th>40</th>\n",
       "      <td>0.469344</td>\n",
       "      <td>-0.188930</td>\n",
       "    </tr>\n",
       "    <tr>\n",
       "      <th>48</th>\n",
       "      <td>0.179663</td>\n",
       "      <td>-0.412001</td>\n",
       "    </tr>\n",
       "    <tr>\n",
       "      <th>55</th>\n",
       "      <td>0.206602</td>\n",
       "      <td>-0.390642</td>\n",
       "    </tr>\n",
       "    <tr>\n",
       "      <th>70</th>\n",
       "      <td>0.163898</td>\n",
       "      <td>-0.008513</td>\n",
       "    </tr>\n",
       "    <tr>\n",
       "      <th>24</th>\n",
       "      <td>-0.037798</td>\n",
       "      <td>-0.046236</td>\n",
       "    </tr>\n",
       "    <tr>\n",
       "      <th>26</th>\n",
       "      <td>0.320813</td>\n",
       "      <td>-0.148791</td>\n",
       "    </tr>\n",
       "    <tr>\n",
       "      <th>57</th>\n",
       "      <td>-0.185611</td>\n",
       "      <td>-0.104641</td>\n",
       "    </tr>\n",
       "    <tr>\n",
       "      <th>33</th>\n",
       "      <td>0.102143</td>\n",
       "      <td>-0.177129</td>\n",
       "    </tr>\n",
       "    <tr>\n",
       "      <th>32</th>\n",
       "      <td>-0.015081</td>\n",
       "      <td>-0.024202</td>\n",
       "    </tr>\n",
       "    <tr>\n",
       "      <th>54</th>\n",
       "      <td>0.087435</td>\n",
       "      <td>-0.370652</td>\n",
       "    </tr>\n",
       "    <tr>\n",
       "      <th>39</th>\n",
       "      <td>0.147159</td>\n",
       "      <td>0.030197</td>\n",
       "    </tr>\n",
       "    <tr>\n",
       "      <th>55</th>\n",
       "      <td>0.310569</td>\n",
       "      <td>-0.163666</td>\n",
       "    </tr>\n",
       "    <tr>\n",
       "      <th>71</th>\n",
       "      <td>0.118776</td>\n",
       "      <td>0.050258</td>\n",
       "    </tr>\n",
       "    <tr>\n",
       "      <th>42</th>\n",
       "      <td>0.201536</td>\n",
       "      <td>-0.060608</td>\n",
       "    </tr>\n",
       "    <tr>\n",
       "      <th>37</th>\n",
       "      <td>0.257341</td>\n",
       "      <td>-0.281841</td>\n",
       "    </tr>\n",
       "    <tr>\n",
       "      <th>29</th>\n",
       "      <td>0.187202</td>\n",
       "      <td>-0.056777</td>\n",
       "    </tr>\n",
       "    <tr>\n",
       "      <th>68</th>\n",
       "      <td>-0.007542</td>\n",
       "      <td>0.178597</td>\n",
       "    </tr>\n",
       "    <tr>\n",
       "      <th>73</th>\n",
       "      <td>0.165125</td>\n",
       "      <td>-0.195926</td>\n",
       "    </tr>\n",
       "    <tr>\n",
       "      <th>75</th>\n",
       "      <td>-0.680164</td>\n",
       "      <td>0.737165</td>\n",
       "    </tr>\n",
       "    <tr>\n",
       "      <th>23</th>\n",
       "      <td>-0.955561</td>\n",
       "      <td>0.506917</td>\n",
       "    </tr>\n",
       "    <tr>\n",
       "      <th>73</th>\n",
       "      <td>-0.118180</td>\n",
       "      <td>0.068968</td>\n",
       "    </tr>\n",
       "    <tr>\n",
       "      <th>17</th>\n",
       "      <td>-0.795638</td>\n",
       "      <td>0.796825</td>\n",
       "    </tr>\n",
       "    <tr>\n",
       "      <th>67</th>\n",
       "      <td>0.249860</td>\n",
       "      <td>-0.120482</td>\n",
       "    </tr>\n",
       "    <tr>\n",
       "      <th>64</th>\n",
       "      <td>-1.432080</td>\n",
       "      <td>0.539741</td>\n",
       "    </tr>\n",
       "    <tr>\n",
       "      <th>40</th>\n",
       "      <td>-0.021802</td>\n",
       "      <td>-0.229833</td>\n",
       "    </tr>\n",
       "    <tr>\n",
       "      <th>39</th>\n",
       "      <td>-0.038983</td>\n",
       "      <td>-0.013463</td>\n",
       "    </tr>\n",
       "    <tr>\n",
       "      <th>35</th>\n",
       "      <td>0.039728</td>\n",
       "      <td>-0.247499</td>\n",
       "    </tr>\n",
       "  </tbody>\n",
       "</table>\n",
       "<p>10296 rows × 2 columns</p>\n",
       "</div>"
      ],
      "text/plain": [
       "              Demography_Data 1  Demography_Data 2\n",
       "Customer_Age                                      \n",
       "34                     0.075749          -0.223352\n",
       "21                    -0.102364           0.326973\n",
       "46                    -0.080579          -0.156934\n",
       "35                     0.316668          -0.175021\n",
       "43                     0.255302          -0.151610\n",
       "60                     0.336493          -0.189510\n",
       "73                     0.021617           0.155660\n",
       "42                    -0.095694           0.330318\n",
       "38                     0.194445          -0.324285\n",
       "68                     0.120672           0.095374\n",
       "71                     0.101460          -0.183067\n",
       "58                    -0.118479          -0.047128\n",
       "67                    -0.078263           0.205861\n",
       "16                    -0.072732           0.256630\n",
       "41                     0.440319          -0.246332\n",
       "37                     0.093114          -0.174641\n",
       "27                    -0.465480           0.521673\n",
       "46                     0.175608          -0.103664\n",
       "34                    -0.211124           0.172975\n",
       "54                     0.194273          -0.321518\n",
       "30                     0.095537          -0.237878\n",
       "58                     0.160665          -0.112314\n",
       "30                     0.002534           0.192027\n",
       "55                    -0.211689           0.130170\n",
       "64                     0.116842          -0.066136\n",
       "72                     0.063257          -0.207466\n",
       "79                    -0.053221          -0.130644\n",
       "74                     0.241224          -0.106677\n",
       "64                     0.253910          -0.316619\n",
       "44                     0.301708          -0.173863\n",
       "...                         ...                ...\n",
       "79                    -0.363422           0.020351\n",
       "20                    -0.135193           0.079353\n",
       "28                     0.110254          -0.017631\n",
       "40                     0.469344          -0.188930\n",
       "48                     0.179663          -0.412001\n",
       "55                     0.206602          -0.390642\n",
       "70                     0.163898          -0.008513\n",
       "24                    -0.037798          -0.046236\n",
       "26                     0.320813          -0.148791\n",
       "57                    -0.185611          -0.104641\n",
       "33                     0.102143          -0.177129\n",
       "32                    -0.015081          -0.024202\n",
       "54                     0.087435          -0.370652\n",
       "39                     0.147159           0.030197\n",
       "55                     0.310569          -0.163666\n",
       "71                     0.118776           0.050258\n",
       "42                     0.201536          -0.060608\n",
       "37                     0.257341          -0.281841\n",
       "29                     0.187202          -0.056777\n",
       "68                    -0.007542           0.178597\n",
       "73                     0.165125          -0.195926\n",
       "75                    -0.680164           0.737165\n",
       "23                    -0.955561           0.506917\n",
       "73                    -0.118180           0.068968\n",
       "17                    -0.795638           0.796825\n",
       "67                     0.249860          -0.120482\n",
       "64                    -1.432080           0.539741\n",
       "40                    -0.021802          -0.229833\n",
       "39                    -0.038983          -0.013463\n",
       "35                     0.039728          -0.247499\n",
       "\n",
       "[10296 rows x 2 columns]"
      ]
     },
     "execution_count": 211,
     "metadata": {},
     "output_type": "execute_result"
    }
   ],
   "source": [
    "finalDf = principalDf.set_index(df2['Customer_Age'])"
   ]
  },
  {
   "cell_type": "code",
   "execution_count": 163,
   "metadata": {},
   "outputs": [
    {
     "data": {
      "text/html": [
       "<div>\n",
       "<style scoped>\n",
       "    .dataframe tbody tr th:only-of-type {\n",
       "        vertical-align: middle;\n",
       "    }\n",
       "\n",
       "    .dataframe tbody tr th {\n",
       "        vertical-align: top;\n",
       "    }\n",
       "\n",
       "    .dataframe thead th {\n",
       "        text-align: right;\n",
       "    }\n",
       "</style>\n",
       "<table border=\"1\" class=\"dataframe\">\n",
       "  <thead>\n",
       "    <tr style=\"text-align: right;\">\n",
       "      <th></th>\n",
       "      <th>Demography_Data 1</th>\n",
       "      <th>Demography_Data 2</th>\n",
       "      <th>Customer_Age</th>\n",
       "    </tr>\n",
       "  </thead>\n",
       "  <tbody>\n",
       "    <tr>\n",
       "      <th>0</th>\n",
       "      <td>0.075749</td>\n",
       "      <td>-0.223352</td>\n",
       "      <td>NaN</td>\n",
       "    </tr>\n",
       "    <tr>\n",
       "      <th>1</th>\n",
       "      <td>-0.102364</td>\n",
       "      <td>0.326973</td>\n",
       "      <td>34.0</td>\n",
       "    </tr>\n",
       "    <tr>\n",
       "      <th>2</th>\n",
       "      <td>-0.080579</td>\n",
       "      <td>-0.156934</td>\n",
       "      <td>21.0</td>\n",
       "    </tr>\n",
       "    <tr>\n",
       "      <th>3</th>\n",
       "      <td>0.316668</td>\n",
       "      <td>-0.175021</td>\n",
       "      <td>46.0</td>\n",
       "    </tr>\n",
       "    <tr>\n",
       "      <th>4</th>\n",
       "      <td>0.255302</td>\n",
       "      <td>-0.151610</td>\n",
       "      <td>35.0</td>\n",
       "    </tr>\n",
       "  </tbody>\n",
       "</table>\n",
       "</div>"
      ],
      "text/plain": [
       "   Demography_Data 1  Demography_Data 2  Customer_Age\n",
       "0           0.075749          -0.223352           NaN\n",
       "1          -0.102364           0.326973          34.0\n",
       "2          -0.080579          -0.156934          21.0\n",
       "3           0.316668          -0.175021          46.0\n",
       "4           0.255302          -0.151610          35.0"
      ]
     },
     "execution_count": 163,
     "metadata": {},
     "output_type": "execute_result"
    }
   ],
   "source": [
    "finalDf.head()"
   ]
  },
  {
   "cell_type": "code",
   "execution_count": null,
   "metadata": {},
   "outputs": [],
   "source": [
    "pd.concat(principalDf, )"
   ]
  },
  {
   "cell_type": "markdown",
   "metadata": {},
   "source": [
    "## Visualize 2D Projection\n",
    "This section is just plotting 2 dimensional data. Notice on the graph below that the classes seem well separated from each other"
   ]
  },
  {
   "cell_type": "markdown",
   "metadata": {},
   "source": [
    "## See the correlations between variables \n",
    "This significant to make the decision for the selection of appropriate columns for clustering. "
   ]
  },
  {
   "cell_type": "code",
   "execution_count": 179,
   "metadata": {},
   "outputs": [
    {
     "data": {
      "text/plain": [
       "<matplotlib.axes._subplots.AxesSubplot at 0x1ba202c55f8>"
      ]
     },
     "execution_count": 179,
     "metadata": {},
     "output_type": "execute_result"
    },
    {
     "data": {
      "image/png": "[encoded data removed]",
      "text/plain": [
       "<matplotlib.figure.Figure at 0x1ba209eb6d8>"
      ]
     },
     "metadata": {},
     "output_type": "display_data"
    }
   ],
   "source": [
    "fig, ax = plt.subplots(figsize=(15,10))\n",
    "# calculate the correlation matrix\n",
    "corr = df2.corr()\n",
    "\n",
    "# plot the heatmap\n",
    "sns.heatmap(corr, \n",
    "        xticklabels=corr.columns,\n",
    "        yticklabels=corr.columns, annot = True)"
   ]
  },
  {
   "cell_type": "code",
   "execution_count": 171,
   "metadata": {},
   "outputs": [
    {
     "data": {
      "text/html": [
       "<div>\n",
       "<style scoped>\n",
       "    .dataframe tbody tr th:only-of-type {\n",
       "        vertical-align: middle;\n",
       "    }\n",
       "\n",
       "    .dataframe tbody tr th {\n",
       "        vertical-align: top;\n",
       "    }\n",
       "\n",
       "    .dataframe thead th {\n",
       "        text-align: right;\n",
       "    }\n",
       "</style>\n",
       "<table border=\"1\" class=\"dataframe\">\n",
       "  <thead>\n",
       "    <tr style=\"text-align: right;\">\n",
       "      <th></th>\n",
       "      <th>First_Policy_Year</th>\n",
       "      <th>Customer_Age</th>\n",
       "      <th>Gross_Monthly_Salary</th>\n",
       "      <th>Geographic_Living_Area</th>\n",
       "      <th>Has_Children</th>\n",
       "      <th>Customer_Monetary_Value</th>\n",
       "      <th>Claims_Rate</th>\n",
       "      <th>Premiums_Motor</th>\n",
       "      <th>Premiums_Household</th>\n",
       "      <th>Premiums_Health</th>\n",
       "      <th>Premiums_Life</th>\n",
       "      <th>Premiums_Work_Compensations</th>\n",
       "      <th>Total_Premium</th>\n",
       "    </tr>\n",
       "  </thead>\n",
       "  <tbody>\n",
       "    <tr>\n",
       "      <th>First_Policy_Year</th>\n",
       "      <td>1.000000</td>\n",
       "      <td>0.018418</td>\n",
       "      <td>0.022929</td>\n",
       "      <td>-0.005240</td>\n",
       "      <td>-0.012586</td>\n",
       "      <td>-0.003512</td>\n",
       "      <td>-0.009910</td>\n",
       "      <td>-0.005845</td>\n",
       "      <td>-0.009454</td>\n",
       "      <td>0.000225</td>\n",
       "      <td>0.010828</td>\n",
       "      <td>0.017400</td>\n",
       "      <td>-0.006491</td>\n",
       "    </tr>\n",
       "    <tr>\n",
       "      <th>Customer_Age</th>\n",
       "      <td>0.018418</td>\n",
       "      <td>1.000000</td>\n",
       "      <td>0.923388</td>\n",
       "      <td>0.014045</td>\n",
       "      <td>-0.489988</td>\n",
       "      <td>-0.003903</td>\n",
       "      <td>-0.004136</td>\n",
       "      <td>0.174216</td>\n",
       "      <td>-0.169839</td>\n",
       "      <td>-0.005063</td>\n",
       "      <td>-0.258535</td>\n",
       "      <td>-0.232537</td>\n",
       "      <td>-0.102404</td>\n",
       "    </tr>\n",
       "    <tr>\n",
       "      <th>Gross_Monthly_Salary</th>\n",
       "      <td>0.022929</td>\n",
       "      <td>0.923388</td>\n",
       "      <td>1.000000</td>\n",
       "      <td>0.009072</td>\n",
       "      <td>-0.460878</td>\n",
       "      <td>-0.004304</td>\n",
       "      <td>-0.006921</td>\n",
       "      <td>0.163379</td>\n",
       "      <td>-0.156406</td>\n",
       "      <td>-0.003455</td>\n",
       "      <td>-0.239253</td>\n",
       "      <td>-0.213862</td>\n",
       "      <td>-0.092312</td>\n",
       "    </tr>\n",
       "    <tr>\n",
       "      <th>Geographic_Living_Area</th>\n",
       "      <td>-0.005240</td>\n",
       "      <td>0.014045</td>\n",
       "      <td>0.009072</td>\n",
       "      <td>1.000000</td>\n",
       "      <td>-0.021951</td>\n",
       "      <td>-0.005800</td>\n",
       "      <td>0.001416</td>\n",
       "      <td>0.001112</td>\n",
       "      <td>0.010968</td>\n",
       "      <td>-0.000038</td>\n",
       "      <td>0.012936</td>\n",
       "      <td>0.003829</td>\n",
       "      <td>0.010290</td>\n",
       "    </tr>\n",
       "    <tr>\n",
       "      <th>Has_Children</th>\n",
       "      <td>-0.012586</td>\n",
       "      <td>-0.489988</td>\n",
       "      <td>-0.460878</td>\n",
       "      <td>-0.021951</td>\n",
       "      <td>1.000000</td>\n",
       "      <td>-0.000866</td>\n",
       "      <td>-0.025147</td>\n",
       "      <td>0.154916</td>\n",
       "      <td>-0.062665</td>\n",
       "      <td>-0.061623</td>\n",
       "      <td>-0.112430</td>\n",
       "      <td>-0.081887</td>\n",
       "      <td>-0.036930</td>\n",
       "    </tr>\n",
       "    <tr>\n",
       "      <th>Customer_Monetary_Value</th>\n",
       "      <td>-0.003512</td>\n",
       "      <td>-0.003903</td>\n",
       "      <td>-0.004304</td>\n",
       "      <td>-0.005800</td>\n",
       "      <td>-0.000866</td>\n",
       "      <td>1.000000</td>\n",
       "      <td>-0.136795</td>\n",
       "      <td>0.033618</td>\n",
       "      <td>0.032664</td>\n",
       "      <td>0.000649</td>\n",
       "      <td>0.010704</td>\n",
       "      <td>0.020636</td>\n",
       "      <td>0.042819</td>\n",
       "    </tr>\n",
       "    <tr>\n",
       "      <th>Claims_Rate</th>\n",
       "      <td>-0.009910</td>\n",
       "      <td>-0.004136</td>\n",
       "      <td>-0.006921</td>\n",
       "      <td>0.001416</td>\n",
       "      <td>-0.025147</td>\n",
       "      <td>-0.136795</td>\n",
       "      <td>1.000000</td>\n",
       "      <td>-0.078790</td>\n",
       "      <td>-0.020049</td>\n",
       "      <td>0.064067</td>\n",
       "      <td>0.060296</td>\n",
       "      <td>0.044181</td>\n",
       "      <td>0.001830</td>\n",
       "    </tr>\n",
       "    <tr>\n",
       "      <th>Premiums_Motor</th>\n",
       "      <td>-0.005845</td>\n",
       "      <td>0.174216</td>\n",
       "      <td>0.163379</td>\n",
       "      <td>0.001112</td>\n",
       "      <td>0.154916</td>\n",
       "      <td>0.033618</td>\n",
       "      <td>-0.078790</td>\n",
       "      <td>1.000000</td>\n",
       "      <td>-0.276467</td>\n",
       "      <td>-0.074054</td>\n",
       "      <td>-0.404709</td>\n",
       "      <td>-0.348496</td>\n",
       "      <td>0.114456</td>\n",
       "    </tr>\n",
       "    <tr>\n",
       "      <th>Premiums_Household</th>\n",
       "      <td>-0.009454</td>\n",
       "      <td>-0.169839</td>\n",
       "      <td>-0.156406</td>\n",
       "      <td>0.010968</td>\n",
       "      <td>-0.062665</td>\n",
       "      <td>0.032664</td>\n",
       "      <td>-0.020049</td>\n",
       "      <td>-0.276467</td>\n",
       "      <td>1.000000</td>\n",
       "      <td>0.022566</td>\n",
       "      <td>0.260407</td>\n",
       "      <td>0.240479</td>\n",
       "      <td>0.683546</td>\n",
       "    </tr>\n",
       "    <tr>\n",
       "      <th>Premiums_Health</th>\n",
       "      <td>0.000225</td>\n",
       "      <td>-0.005063</td>\n",
       "      <td>-0.003455</td>\n",
       "      <td>-0.000038</td>\n",
       "      <td>-0.061623</td>\n",
       "      <td>0.000649</td>\n",
       "      <td>0.064067</td>\n",
       "      <td>-0.074054</td>\n",
       "      <td>0.022566</td>\n",
       "      <td>1.000000</td>\n",
       "      <td>0.023913</td>\n",
       "      <td>0.076310</td>\n",
       "      <td>0.632670</td>\n",
       "    </tr>\n",
       "    <tr>\n",
       "      <th>Premiums_Life</th>\n",
       "      <td>0.010828</td>\n",
       "      <td>-0.258535</td>\n",
       "      <td>-0.239253</td>\n",
       "      <td>0.012936</td>\n",
       "      <td>-0.112430</td>\n",
       "      <td>0.010704</td>\n",
       "      <td>0.060296</td>\n",
       "      <td>-0.404709</td>\n",
       "      <td>0.260407</td>\n",
       "      <td>0.023913</td>\n",
       "      <td>1.000000</td>\n",
       "      <td>0.340102</td>\n",
       "      <td>0.164617</td>\n",
       "    </tr>\n",
       "    <tr>\n",
       "      <th>Premiums_Work_Compensations</th>\n",
       "      <td>0.017400</td>\n",
       "      <td>-0.232537</td>\n",
       "      <td>-0.213862</td>\n",
       "      <td>0.003829</td>\n",
       "      <td>-0.081887</td>\n",
       "      <td>0.020636</td>\n",
       "      <td>0.044181</td>\n",
       "      <td>-0.348496</td>\n",
       "      <td>0.240479</td>\n",
       "      <td>0.076310</td>\n",
       "      <td>0.340102</td>\n",
       "      <td>1.000000</td>\n",
       "      <td>0.213704</td>\n",
       "    </tr>\n",
       "    <tr>\n",
       "      <th>Total_Premium</th>\n",
       "      <td>-0.006491</td>\n",
       "      <td>-0.102404</td>\n",
       "      <td>-0.092312</td>\n",
       "      <td>0.010290</td>\n",
       "      <td>-0.036930</td>\n",
       "      <td>0.042819</td>\n",
       "      <td>0.001830</td>\n",
       "      <td>0.114456</td>\n",
       "      <td>0.683546</td>\n",
       "      <td>0.632670</td>\n",
       "      <td>0.164617</td>\n",
       "      <td>0.213704</td>\n",
       "      <td>1.000000</td>\n",
       "    </tr>\n",
       "  </tbody>\n",
       "</table>\n",
       "</div>"
      ],
      "text/plain": [
       "                             First_Policy_Year  Customer_Age  \\\n",
       "First_Policy_Year                     1.000000      0.018418   \n",
       "Customer_Age                          0.018418      1.000000   \n",
       "Gross_Monthly_Salary                  0.022929      0.923388   \n",
       "Geographic_Living_Area               -0.005240      0.014045   \n",
       "Has_Children                         -0.012586     -0.489988   \n",
       "Customer_Monetary_Value              -0.003512     -0.003903   \n",
       "Claims_Rate                          -0.009910     -0.004136   \n",
       "Premiums_Motor                       -0.005845      0.174216   \n",
       "Premiums_Household                   -0.009454     -0.169839   \n",
       "Premiums_Health                       0.000225     -0.005063   \n",
       "Premiums_Life                         0.010828     -0.258535   \n",
       "Premiums_Work_Compensations           0.017400     -0.232537   \n",
       "Total_Premium                        -0.006491     -0.102404   \n",
       "\n",
       "                             Gross_Monthly_Salary  Geographic_Living_Area  \\\n",
       "First_Policy_Year                        0.022929               -0.005240   \n",
       "Customer_Age                             0.923388                0.014045   \n",
       "Gross_Monthly_Salary                     1.000000                0.009072   \n",
       "Geographic_Living_Area                   0.009072                1.000000   \n",
       "Has_Children                            -0.460878               -0.021951   \n",
       "Customer_Monetary_Value                 -0.004304               -0.005800   \n",
       "Claims_Rate                             -0.006921                0.001416   \n",
       "Premiums_Motor                           0.163379                0.001112   \n",
       "Premiums_Household                      -0.156406                0.010968   \n",
       "Premiums_Health                         -0.003455               -0.000038   \n",
       "Premiums_Life                           -0.239253                0.012936   \n",
       "Premiums_Work_Compensations             -0.213862                0.003829   \n",
       "Total_Premium                           -0.092312                0.010290   \n",
       "\n",
       "                             Has_Children  Customer_Monetary_Value  \\\n",
       "First_Policy_Year               -0.012586                -0.003512   \n",
       "Customer_Age                    -0.489988                -0.003903   \n",
       "Gross_Monthly_Salary            -0.460878                -0.004304   \n",
       "Geographic_Living_Area          -0.021951                -0.005800   \n",
       "Has_Children                     1.000000                -0.000866   \n",
       "Customer_Monetary_Value         -0.000866                 1.000000   \n",
       "Claims_Rate                     -0.025147                -0.136795   \n",
       "Premiums_Motor                   0.154916                 0.033618   \n",
       "Premiums_Household              -0.062665                 0.032664   \n",
       "Premiums_Health                 -0.061623                 0.000649   \n",
       "Premiums_Life                   -0.112430                 0.010704   \n",
       "Premiums_Work_Compensations     -0.081887                 0.020636   \n",
       "Total_Premium                   -0.036930                 0.042819   \n",
       "\n",
       "                             Claims_Rate  Premiums_Motor  Premiums_Household  \\\n",
       "First_Policy_Year              -0.009910       -0.005845           -0.009454   \n",
       "Customer_Age                   -0.004136        0.174216           -0.169839   \n",
       "Gross_Monthly_Salary           -0.006921        0.163379           -0.156406   \n",
       "Geographic_Living_Area          0.001416        0.001112            0.010968   \n",
       "Has_Children                   -0.025147        0.154916           -0.062665   \n",
       "Customer_Monetary_Value        -0.136795        0.033618            0.032664   \n",
       "Claims_Rate                     1.000000       -0.078790           -0.020049   \n",
       "Premiums_Motor                 -0.078790        1.000000           -0.276467   \n",
       "Premiums_Household             -0.020049       -0.276467            1.000000   \n",
       "Premiums_Health                 0.064067       -0.074054            0.022566   \n",
       "Premiums_Life                   0.060296       -0.404709            0.260407   \n",
       "Premiums_Work_Compensations     0.044181       -0.348496            0.240479   \n",
       "Total_Premium                   0.001830        0.114456            0.683546   \n",
       "\n",
       "                             Premiums_Health  Premiums_Life  \\\n",
       "First_Policy_Year                   0.000225       0.010828   \n",
       "Customer_Age                       -0.005063      -0.258535   \n",
       "Gross_Monthly_Salary               -0.003455      -0.239253   \n",
       "Geographic_Living_Area             -0.000038       0.012936   \n",
       "Has_Children                       -0.061623      -0.112430   \n",
       "Customer_Monetary_Value             0.000649       0.010704   \n",
       "Claims_Rate                         0.064067       0.060296   \n",
       "Premiums_Motor                     -0.074054      -0.404709   \n",
       "Premiums_Household                  0.022566       0.260407   \n",
       "Premiums_Health                     1.000000       0.023913   \n",
       "Premiums_Life                       0.023913       1.000000   \n",
       "Premiums_Work_Compensations         0.076310       0.340102   \n",
       "Total_Premium                       0.632670       0.164617   \n",
       "\n",
       "                             Premiums_Work_Compensations  Total_Premium  \n",
       "First_Policy_Year                               0.017400      -0.006491  \n",
       "Customer_Age                                   -0.232537      -0.102404  \n",
       "Gross_Monthly_Salary                           -0.213862      -0.092312  \n",
       "Geographic_Living_Area                          0.003829       0.010290  \n",
       "Has_Children                                   -0.081887      -0.036930  \n",
       "Customer_Monetary_Value                         0.020636       0.042819  \n",
       "Claims_Rate                                     0.044181       0.001830  \n",
       "Premiums_Motor                                 -0.348496       0.114456  \n",
       "Premiums_Household                              0.240479       0.683546  \n",
       "Premiums_Health                                 0.076310       0.632670  \n",
       "Premiums_Life                                   0.340102       0.164617  \n",
       "Premiums_Work_Compensations                     1.000000       0.213704  \n",
       "Total_Premium                                   0.213704       1.000000  "
      ]
     },
     "execution_count": 171,
     "metadata": {},
     "output_type": "execute_result"
    }
   ],
   "source": [
    "df2.corr(method='pearson', min_periods=1)"
   ]
  },
  {
   "cell_type": "code",
   "execution_count": null,
   "metadata": {},
   "outputs": [],
   "source": [
    "\n"
   ]
  },
  {
   "cell_type": "code",
   "execution_count": null,
   "metadata": {},
   "outputs": [],
   "source": [
    "fig, ax = plt.subplots(figsize=(15,10))\n",
    "ax.matshow(df2.corr())"
   ]
  },
  {
   "cell_type": "code",
   "execution_count": 103,
   "metadata": {},
   "outputs": [
    {
     "data": {
      "image/png": "[encoded data removed]",
      "text/plain": [
       "<matplotlib.figure.Figure at 0x1ba20206e10>"
      ]
     },
     "metadata": {},
     "output_type": "display_data"
    }
   ],
   "source": [
    "wcss =[]\n",
    "for i in range(1,10):\n",
    "    kmeans  = KMeans(n_clusters = i, init = 'k-means++', random_state = 0)\n",
    "    kmeans.fit(Demo_Data)\n",
    "    wcss.append(kmeans.inertia_)\n",
    "     \n",
    "plt.plot(range(1,10), wcss)\n",
    "plt.title('Elbow Method')\n",
    "plt.xlabel('Number of clusters')\n",
    "plt.ylabel('wcss')\n",
    "plt.show()"
   ]
  },
  {
   "cell_type": "markdown",
   "metadata": {},
   "source": [
    "### Find the optimal number of clusters"
   ]
  },
  {
   "cell_type": "code",
   "execution_count": 128,
   "metadata": {},
   "outputs": [],
   "source": [
    "# Applying k-means to the mall dataset\n",
    "kmeans=KMeans(n_clusters=3, init='k-means++', max_iter= 300, n_init= 10, random_state= 0)\n",
    "y_kmeans=kmeans.fit_predict(Demo_Data)"
   ]
  },
  {
   "cell_type": "code",
   "execution_count": 129,
   "metadata": {},
   "outputs": [
    {
     "data": {
      "image/png": "[encoded data removed]",
      "text/plain": [
       "<matplotlib.figure.Figure at 0x1ba20b1db00>"
      ]
     },
     "metadata": {},
     "output_type": "display_data"
    }
   ],
   "source": [
    "# Create canvas\n",
    "fig, ax = plt.subplots(figsize=(10,8))\n",
    "\n",
    "# Visualizing the clusters\n",
    "ax.scatter(Demo_Data.values[y_kmeans == 0, 0], Demo_Data.values[y_kmeans == 0, 1], s = 100, c = 'red', label='Careful(c1)')\n",
    "ax.scatter(Demo_Data.values[y_kmeans == 2, 0], Demo_Data.values[y_kmeans == 2, 1], s = 100, c = 'green', label='Standard(c2)')\n",
    "ax.scatter(Demo_Data.values[y_kmeans == 1, 0], Demo_Data.values[y_kmeans == 1, 1], s = 100, c = 'blue', label='Target(c3)')\n",
    "ax.scatter(kmeans.cluster_centers_[:, 0], kmeans.cluster_centers_[:, 1], s = 250, c = 'yellow', \n",
    "            label='Centroids')\n",
    "\n",
    "ax.set(title='Clusters of customer',\n",
    "       xlabel='Gross Salary',\n",
    "       ylabel='Customer Age',)\n",
    "ax.legend()\n",
    "plt.show()"
   ]
  },
  {
   "cell_type": "code",
   "execution_count": 153,
   "metadata": {},
   "outputs": [
    {
     "ename": "SyntaxError",
     "evalue": "invalid syntax (<ipython-input-153-276f5062c7b0>, line 11)",
     "output_type": "error",
     "traceback": [
      "\u001b[1;36m  File \u001b[1;32m\"<ipython-input-153-276f5062c7b0>\"\u001b[1;36m, line \u001b[1;32m11\u001b[0m\n\u001b[1;33m    print 't-SNE done! Time elapsed: {} seconds'.format(time.time()-time_start)\u001b[0m\n\u001b[1;37m                                               ^\u001b[0m\n\u001b[1;31mSyntaxError\u001b[0m\u001b[1;31m:\u001b[0m invalid syntax\n"
     ]
    }
   ],
   "source": [
    "import time\n",
    "\n",
    "from sklearn.manifold import TSNE\n",
    "\n",
    "n_sne = 7000\n",
    "\n",
    "time_start = time.time()\n",
    "tsne = TSNE(n_components=2, verbose=1, perplexity=40, n_iter=300)\n",
    "tsne_results = tsne.fit_transform(df2.iloc[rndperm[:n_sne],feat_cols].values)\n",
    "\n",
    "print 't-SNE done! Time elapsed: {} seconds'.format(time.time()-time_start)"
   ]
  },
  {
   "cell_type": "code",
   "execution_count": 115,
   "metadata": {},
   "outputs": [
    {
     "ename": "ValueError",
     "evalue": "not enough values to unpack (expected 2, got 1)",
     "output_type": "error",
     "traceback": [
      "\u001b[1;31m---------------------------------------------------------------------------\u001b[0m",
      "\u001b[1;31mValueError\u001b[0m                                Traceback (most recent call last)",
      "\u001b[1;32m<ipython-input-115-0cf6a51ca6ea>\u001b[0m in \u001b[0;36m<module>\u001b[1;34m()\u001b[0m\n\u001b[0;32m      6\u001b[0m \u001b[0mtargets\u001b[0m \u001b[1;33m=\u001b[0m \u001b[1;33m[\u001b[0m\u001b[1;34m'1'\u001b[0m\u001b[1;33m,\u001b[0m \u001b[1;34m'2'\u001b[0m\u001b[1;33m,\u001b[0m \u001b[1;34m'3'\u001b[0m\u001b[1;33m,\u001b[0m \u001b[1;34m'4'\u001b[0m\u001b[1;33m]\u001b[0m\u001b[1;33m\u001b[0m\u001b[0m\n\u001b[0;32m      7\u001b[0m \u001b[0mcolors\u001b[0m \u001b[1;33m=\u001b[0m \u001b[1;33m[\u001b[0m\u001b[1;34m'r'\u001b[0m\u001b[1;33m,\u001b[0m \u001b[1;34m'g'\u001b[0m\u001b[1;33m,\u001b[0m \u001b[1;34m'b'\u001b[0m\u001b[1;33m]\u001b[0m\u001b[1;33m\u001b[0m\u001b[0m\n\u001b[1;32m----> 8\u001b[1;33m \u001b[1;32mfor\u001b[0m \u001b[0mtarget\u001b[0m\u001b[1;33m,\u001b[0m \u001b[0mcolor\u001b[0m \u001b[1;32min\u001b[0m \u001b[0mzip\u001b[0m\u001b[1;33m(\u001b[0m\u001b[0mfinalDf\u001b[0m\u001b[1;33m)\u001b[0m\u001b[1;33m:\u001b[0m\u001b[1;33m\u001b[0m\u001b[0m\n\u001b[0m\u001b[0;32m      9\u001b[0m     \u001b[0mindicesToKeep\u001b[0m \u001b[1;33m=\u001b[0m \u001b[0mfinalDf\u001b[0m\u001b[1;33m[\u001b[0m\u001b[1;34m'Geographic_Living_Area'\u001b[0m\u001b[1;33m]\u001b[0m \u001b[1;33m==\u001b[0m \u001b[0mtarget\u001b[0m\u001b[1;33m\u001b[0m\u001b[0m\n\u001b[0;32m     10\u001b[0m     ax.scatter(finalDf.loc[indicesToKeep, 'Demography_Data 1']\n",
      "\u001b[1;31mValueError\u001b[0m: not enough values to unpack (expected 2, got 1)"
     ]
    },
    {
     "data": {
      "image/png": "[encoded data removed]",
      "text/plain": [
       "<matplotlib.figure.Figure at 0x1ba1e9dd8d0>"
      ]
     },
     "metadata": {},
     "output_type": "display_data"
    }
   ],
   "source": [
    "fig, ax = plt.subplots(figsize =(8,8))\n",
    "#ax = fig.add_subplot(1,1,1) \n",
    "ax.set_xlabel('Demography_Data  1', fontsize = 15)\n",
    "ax.set_ylabel('Demography_Data  2', fontsize = 15)\n",
    "ax.set_title('2 Demography_Data  PCA', fontsize = 20)\n",
    "targets = ['1', '2', '3', '4']\n",
    "colors = ['r', 'g', 'b']\n",
    "for target, color in zip(finalDf):\n",
    "    indicesToKeep = finalDf['Geographic_Living_Area'] == target\n",
    "    ax.scatter(finalDf.loc[indicesToKeep, 'Demography_Data 1']\n",
    "               , finalDf.loc[indicesToKeep, 'Demography_Data 2']\n",
    "               , c = color\n",
    "               , s = 50)\n",
    "ax.legend(targets)\n",
    "ax.grid()\n",
    "\n",
    "\n",
    "\n"
   ]
  },
  {
   "cell_type": "markdown",
   "metadata": {},
   "source": [
    "## Trial 2"
   ]
  },
  {
   "cell_type": "code",
   "execution_count": 112,
   "metadata": {},
   "outputs": [],
   "source": [
    "Data_Clus = df2[['Customer_Age', 'Gross_Monthly_Salary',\n",
    "       'Geographic_Living_Area', 'Has_Children', 'Total_Premium', 'Claims_Rate']]\n"
   ]
  },
  {
   "cell_type": "code",
   "execution_count": 113,
   "metadata": {},
   "outputs": [
    {
     "data": {
      "text/html": [
       "<div>\n",
       "<style scoped>\n",
       "    .dataframe tbody tr th:only-of-type {\n",
       "        vertical-align: middle;\n",
       "    }\n",
       "\n",
       "    .dataframe tbody tr th {\n",
       "        vertical-align: top;\n",
       "    }\n",
       "\n",
       "    .dataframe thead th {\n",
       "        text-align: right;\n",
       "    }\n",
       "</style>\n",
       "<table border=\"1\" class=\"dataframe\">\n",
       "  <thead>\n",
       "    <tr style=\"text-align: right;\">\n",
       "      <th></th>\n",
       "      <th>Customer_Age</th>\n",
       "      <th>Gross_Monthly_Salary</th>\n",
       "      <th>Geographic_Living_Area</th>\n",
       "      <th>Has_Children</th>\n",
       "      <th>Total_Premium</th>\n",
       "      <th>Claims_Rate</th>\n",
       "    </tr>\n",
       "    <tr>\n",
       "      <th>Customer_Identity</th>\n",
       "      <th></th>\n",
       "      <th></th>\n",
       "      <th></th>\n",
       "      <th></th>\n",
       "      <th></th>\n",
       "      <th></th>\n",
       "    </tr>\n",
       "  </thead>\n",
       "  <tbody>\n",
       "    <tr>\n",
       "      <th>1</th>\n",
       "      <td>34</td>\n",
       "      <td>4354</td>\n",
       "      <td>1</td>\n",
       "      <td>1</td>\n",
       "      <td>665.56</td>\n",
       "      <td>0.390032</td>\n",
       "    </tr>\n",
       "    <tr>\n",
       "      <th>2</th>\n",
       "      <td>21</td>\n",
       "      <td>1353</td>\n",
       "      <td>4</td>\n",
       "      <td>1</td>\n",
       "      <td>910.96</td>\n",
       "      <td>1.116503</td>\n",
       "    </tr>\n",
       "    <tr>\n",
       "      <th>3</th>\n",
       "      <td>46</td>\n",
       "      <td>4554</td>\n",
       "      <td>3</td>\n",
       "      <td>0</td>\n",
       "      <td>740.60</td>\n",
       "      <td>0.284810</td>\n",
       "    </tr>\n",
       "    <tr>\n",
       "      <th>4</th>\n",
       "      <td>35</td>\n",
       "      <td>2197</td>\n",
       "      <td>4</td>\n",
       "      <td>1</td>\n",
       "      <td>600.68</td>\n",
       "      <td>0.986665</td>\n",
       "    </tr>\n",
       "    <tr>\n",
       "      <th>5</th>\n",
       "      <td>43</td>\n",
       "      <td>3526</td>\n",
       "      <td>4</td>\n",
       "      <td>1</td>\n",
       "      <td>629.24</td>\n",
       "      <td>0.904281</td>\n",
       "    </tr>\n",
       "  </tbody>\n",
       "</table>\n",
       "</div>"
      ],
      "text/plain": [
       "                   Customer_Age  Gross_Monthly_Salary  Geographic_Living_Area  \\\n",
       "Customer_Identity                                                               \n",
       "1                            34                  4354                       1   \n",
       "2                            21                  1353                       4   \n",
       "3                            46                  4554                       3   \n",
       "4                            35                  2197                       4   \n",
       "5                            43                  3526                       4   \n",
       "\n",
       "                   Has_Children  Total_Premium  Claims_Rate  \n",
       "Customer_Identity                                            \n",
       "1                             1         665.56     0.390032  \n",
       "2                             1         910.96     1.116503  \n",
       "3                             0         740.60     0.284810  \n",
       "4                             1         600.68     0.986665  \n",
       "5                             1         629.24     0.904281  "
      ]
     },
     "execution_count": 113,
     "metadata": {},
     "output_type": "execute_result"
    }
   ],
   "source": [
    "Data_Clus.head()"
   ]
  },
  {
   "cell_type": "code",
   "execution_count": 114,
   "metadata": {},
   "outputs": [
    {
     "data": {
      "text/html": [
       "<div>\n",
       "<style scoped>\n",
       "    .dataframe tbody tr th:only-of-type {\n",
       "        vertical-align: middle;\n",
       "    }\n",
       "\n",
       "    .dataframe tbody tr th {\n",
       "        vertical-align: top;\n",
       "    }\n",
       "\n",
       "    .dataframe thead th {\n",
       "        text-align: right;\n",
       "    }\n",
       "</style>\n",
       "<table border=\"1\" class=\"dataframe\">\n",
       "  <thead>\n",
       "    <tr style=\"text-align: right;\">\n",
       "      <th></th>\n",
       "      <th>First_Policy_Year</th>\n",
       "      <th>Customer_Age</th>\n",
       "      <th>Gross_Monthly_Salary</th>\n",
       "      <th>Geographic_Living_Area</th>\n",
       "      <th>Has_Children</th>\n",
       "      <th>Customer_Monetary_Value</th>\n",
       "      <th>Claims_Rate</th>\n",
       "      <th>Premiums_Motor</th>\n",
       "      <th>Premiums_Household</th>\n",
       "      <th>Premiums_Health</th>\n",
       "      <th>Premiums_Life</th>\n",
       "      <th>Premiums_Work_Compensations</th>\n",
       "      <th>Total_Premium</th>\n",
       "    </tr>\n",
       "    <tr>\n",
       "      <th>Customer_Identity</th>\n",
       "      <th></th>\n",
       "      <th></th>\n",
       "      <th></th>\n",
       "      <th></th>\n",
       "      <th></th>\n",
       "      <th></th>\n",
       "      <th></th>\n",
       "      <th></th>\n",
       "      <th></th>\n",
       "      <th></th>\n",
       "      <th></th>\n",
       "      <th></th>\n",
       "      <th></th>\n",
       "    </tr>\n",
       "  </thead>\n",
       "  <tbody>\n",
       "    <tr>\n",
       "      <th>1</th>\n",
       "      <td>1985</td>\n",
       "      <td>34</td>\n",
       "      <td>4354</td>\n",
       "      <td>1</td>\n",
       "      <td>1</td>\n",
       "      <td>380.97</td>\n",
       "      <td>0.390032</td>\n",
       "      <td>375.85</td>\n",
       "      <td>79.45</td>\n",
       "      <td>146.36</td>\n",
       "      <td>47.01</td>\n",
       "      <td>16.89</td>\n",
       "      <td>665.56</td>\n",
       "    </tr>\n",
       "    <tr>\n",
       "      <th>2</th>\n",
       "      <td>1981</td>\n",
       "      <td>21</td>\n",
       "      <td>1353</td>\n",
       "      <td>4</td>\n",
       "      <td>1</td>\n",
       "      <td>-131.13</td>\n",
       "      <td>1.116503</td>\n",
       "      <td>77.46</td>\n",
       "      <td>416.20</td>\n",
       "      <td>116.69</td>\n",
       "      <td>194.48</td>\n",
       "      <td>106.13</td>\n",
       "      <td>910.96</td>\n",
       "    </tr>\n",
       "    <tr>\n",
       "      <th>3</th>\n",
       "      <td>1991</td>\n",
       "      <td>46</td>\n",
       "      <td>4554</td>\n",
       "      <td>3</td>\n",
       "      <td>0</td>\n",
       "      <td>504.67</td>\n",
       "      <td>0.284810</td>\n",
       "      <td>206.15</td>\n",
       "      <td>224.50</td>\n",
       "      <td>124.58</td>\n",
       "      <td>86.35</td>\n",
       "      <td>99.02</td>\n",
       "      <td>740.60</td>\n",
       "    </tr>\n",
       "    <tr>\n",
       "      <th>4</th>\n",
       "      <td>1990</td>\n",
       "      <td>35</td>\n",
       "      <td>2197</td>\n",
       "      <td>4</td>\n",
       "      <td>1</td>\n",
       "      <td>-16.99</td>\n",
       "      <td>0.986665</td>\n",
       "      <td>182.48</td>\n",
       "      <td>43.35</td>\n",
       "      <td>311.17</td>\n",
       "      <td>35.34</td>\n",
       "      <td>28.34</td>\n",
       "      <td>600.68</td>\n",
       "    </tr>\n",
       "    <tr>\n",
       "      <th>5</th>\n",
       "      <td>1986</td>\n",
       "      <td>43</td>\n",
       "      <td>3526</td>\n",
       "      <td>4</td>\n",
       "      <td>1</td>\n",
       "      <td>35.23</td>\n",
       "      <td>0.904281</td>\n",
       "      <td>338.62</td>\n",
       "      <td>47.80</td>\n",
       "      <td>182.59</td>\n",
       "      <td>18.78</td>\n",
       "      <td>41.45</td>\n",
       "      <td>629.24</td>\n",
       "    </tr>\n",
       "  </tbody>\n",
       "</table>\n",
       "</div>"
      ],
      "text/plain": [
       "                   First_Policy_Year  Customer_Age  Gross_Monthly_Salary  \\\n",
       "Customer_Identity                                                          \n",
       "1                               1985            34                  4354   \n",
       "2                               1981            21                  1353   \n",
       "3                               1991            46                  4554   \n",
       "4                               1990            35                  2197   \n",
       "5                               1986            43                  3526   \n",
       "\n",
       "                   Geographic_Living_Area  Has_Children  \\\n",
       "Customer_Identity                                         \n",
       "1                                       1             1   \n",
       "2                                       4             1   \n",
       "3                                       3             0   \n",
       "4                                       4             1   \n",
       "5                                       4             1   \n",
       "\n",
       "                   Customer_Monetary_Value  Claims_Rate  Premiums_Motor  \\\n",
       "Customer_Identity                                                         \n",
       "1                                   380.97     0.390032          375.85   \n",
       "2                                  -131.13     1.116503           77.46   \n",
       "3                                   504.67     0.284810          206.15   \n",
       "4                                   -16.99     0.986665          182.48   \n",
       "5                                    35.23     0.904281          338.62   \n",
       "\n",
       "                   Premiums_Household  Premiums_Health  Premiums_Life  \\\n",
       "Customer_Identity                                                       \n",
       "1                               79.45           146.36          47.01   \n",
       "2                              416.20           116.69         194.48   \n",
       "3                              224.50           124.58          86.35   \n",
       "4                               43.35           311.17          35.34   \n",
       "5                               47.80           182.59          18.78   \n",
       "\n",
       "                   Premiums_Work_Compensations  Total_Premium  \n",
       "Customer_Identity                                              \n",
       "1                                        16.89         665.56  \n",
       "2                                       106.13         910.96  \n",
       "3                                        99.02         740.60  \n",
       "4                                        28.34         600.68  \n",
       "5                                        41.45         629.24  "
      ]
     },
     "execution_count": 114,
     "metadata": {},
     "output_type": "execute_result"
    }
   ],
   "source": [
    "df2.head()"
   ]
  },
  {
   "cell_type": "code",
   "execution_count": null,
   "metadata": {},
   "outputs": [],
   "source": []
  },
  {
   "cell_type": "code",
   "execution_count": 42,
   "metadata": {},
   "outputs": [],
   "source": [
    "# Applying k-means to the mall dataset\n",
    "kmeans=KMeans(n_clusters=3, init='k-means++', max_iter= 300, n_init= 10, random_state= 0)\n",
    "y_kmeans=kmeans.fit_predict(Data_Clus)"
   ]
  },
  {
   "cell_type": "code",
   "execution_count": 48,
   "metadata": {},
   "outputs": [
    {
     "data": {
      "image/png": "[encoded data removed]",
      "text/plain": [
       "<matplotlib.figure.Figure at 0x1ba1f0a8be0>"
      ]
     },
     "metadata": {},
     "output_type": "display_data"
    }
   ],
   "source": [
    "# Create canvas\n",
    "fig, ax = plt.subplots(figsize=(10,8))\n",
    "\n",
    "# Visualizing the clusters\n",
    "ax.scatter(Data_Clus.values[y_kmeans == 0, 0], Data_Clus.values[y_kmeans == 0, 1], s = 100, c = 'red', label='Careful(c1)')\n",
    "ax.scatter(Data_Clus.values[y_kmeans == 2, 0], Data_Clus.values[y_kmeans == 2, 1], s = 100, c = 'green', label='Standard(c2)')\n",
    "ax.scatter(Data_Clus.values[y_kmeans == 1, 0], Data_Clus.values[y_kmeans == 1, 1], s = 100, c = 'blue', label='Target(c3)')\n",
    "ax.scatter(kmeans.cluster_centers_[:, 0], kmeans.cluster_centers_[:, 1], s = 250, c = 'yellow', \n",
    "            label='Centroids')\n",
    "\n",
    "ax.set(title='Clusters of customer',\n",
    "       xlabel='Gross Salary',\n",
    "       ylabel='Customer Age',)\n",
    "ax.legend()\n",
    "plt.show()"
   ]
  },
  {
   "cell_type": "markdown",
   "metadata": {},
   "source": [
    "## Trial 3"
   ]
  },
  {
   "cell_type": "code",
   "execution_count": null,
   "metadata": {},
   "outputs": [],
   "source": [
    "Data_Clus3 = df2[[ 'Gross_Monthly_Salary',\n",
    "       'Geographic_Living_Area', 'Has_Children', 'Total_Premium', 'Claims_Rate']]"
   ]
  },
  {
   "cell_type": "code",
   "execution_count": null,
   "metadata": {},
   "outputs": [],
   "source": []
  },
  {
   "cell_type": "code",
   "execution_count": null,
   "metadata": {},
   "outputs": [],
   "source": [
    "class KMeans:\n",
    "    def __init__(self,k):\n",
    "        self.k = k \n",
    "        selk.means = None\n",
    "        \n",
    "    def classify(self, input):\n",
    "        return min(range(self,k),\n",
    "                   key = lambda i: sqrd_distance(input, self.means[i]))\n",
    "    def train(self, inputs):\n",
    "        self.means = random.sample(inputs, self.k)\n",
    "        assignments = None\n",
    "        while true:\n",
    "            new_assignments = map(self.classify, inputs)\n",
    "            if assignments == new_assignments:return\n",
    "            "
   ]
  },
  {
   "cell_type": "code",
   "execution_count": null,
   "metadata": {},
   "outputs": [],
   "source": []
  },
  {
   "cell_type": "markdown",
   "metadata": {},
   "source": [
    "#  Catagorization"
   ]
  },
  {
   "cell_type": "markdown",
   "metadata": {},
   "source": [
    "## Monthly Salary in based on Living Area"
   ]
  },
  {
   "cell_type": "code",
   "execution_count": null,
   "metadata": {},
   "outputs": [],
   "source": [
    "import seaborn as sbn\n",
    "#df4=df2.head(5000)\n",
    "sbn.set_style(\"darkgrid\")\n",
    "ax = sbn.swarmplot(x= df2.Geographic_Living_Area, y = df2.Gross_Monthly_Salary , data= df2)\n",
    "plt.xticks(rotation=0)\n",
    "plt.rcParams[\"xtick.labelsize\"] = 10"
   ]
  },
  {
   "cell_type": "code",
   "execution_count": null,
   "metadata": {},
   "outputs": [],
   "source": [
    "import seaborn as sbn\n",
    "#df4=df3.head(500)\n",
    "sbn.set_style(\"darkgrid\")\n",
    "ax = sbn.swarmplot(x= df2.Geographic_Living_Area, y = df2.Premiums_Life , data= df2)\n",
    "plt.xticks(rotation=0)\n",
    "plt.rcParams[\"xtick.labelsize\"] = 10"
   ]
  },
  {
   "cell_type": "code",
   "execution_count": null,
   "metadata": {},
   "outputs": [],
   "source": [
    "import seaborn as sbn\n",
    "#df4=df3.head(500)\n",
    "sbn.set_style(\"darkgrid\")\n",
    "ax = sbn.swarmplot(x= df2.Geographic_Living_Area, y = df2.Customer_Age, data= df2)\n",
    "plt.xticks(rotation=0)\n",
    "plt.rcParams[\"xtick.labelsize\"] = 10"
   ]
  },
  {
   "cell_type": "markdown",
   "metadata": {},
   "source": [
    "### Observation: \n",
    "#### The number of people living in region 2 is the least and highest number of people belong to region 4.\n",
    "#### A close observation finds the age group patterns, < 30 , 30-55 and > 55. However, it can be divided further. "
   ]
  },
  {
   "cell_type": "code",
   "execution_count": null,
   "metadata": {},
   "outputs": [],
   "source": [
    "import seaborn as sbn\n",
    "df4=df3.head(500)\n",
    "sbn.set_style(\"darkgrid\")\n",
    "ax = sbn.swarmplot(x= df4.Geographic_Living_Area, y = df4.Claims_Rate, data= df4)\n",
    "plt.xticks(rotation=0)\n",
    "plt.rcParams[\"xtick.labelsize\"] = 5"
   ]
  },
  {
   "cell_type": "code",
   "execution_count": null,
   "metadata": {},
   "outputs": [],
   "source": [
    "import seaborn as sbn\n",
    "df4=df3.head(500)\n",
    "sbn.set_style(\"darkgrid\")\n",
    "ax = sbn.swarmplot( x = df4.Has_Children, y= df4.Customer_Age,data= df4)\n",
    "plt.xticks(rotation=0)\n",
    "plt.rcParams[\"xtick.labelsize\"] = 10"
   ]
  },
  {
   "cell_type": "markdown",
   "metadata": {},
   "source": [
    "## This result is quite important. This shows that our customer are of two types, one who has children and others who don't have children. The customers withoutout children largely do not intend to have this particular insurance until the age of 60 (Retirement). On the contrary, the customers with children has subscribed for this particular insurance before a very starting point of their carrier and largely they are interested until the age of 60. The subscriptions are counteracting to each other. "
   ]
  },
  {
   "cell_type": "code",
   "execution_count": null,
   "metadata": {},
   "outputs": [],
   "source": [
    "sns.boxplot(x = df3.Has_Children, y=df3.Claims_Rate, data=df3)"
   ]
  },
  {
   "cell_type": "markdown",
   "metadata": {},
   "source": [
    "## Customers' Gross Monthly Salary analysis based on Has_Children and Geographic_Living_Area "
   ]
  },
  {
   "cell_type": "code",
   "execution_count": null,
   "metadata": {},
   "outputs": [],
   "source": [
    "sns.boxplot(x=df3.Geographic_Living_Area, y = df3.Gross_Monthly_Salary, hue= df3.Has_Children, palette = 'husl')"
   ]
  },
  {
   "cell_type": "code",
   "execution_count": null,
   "metadata": {},
   "outputs": [],
   "source": [
    "sns.violinplot(x=df3.Geographic_Living_Area, y = df3.Gross_Monthly_Salary, hue= df3.Has_Children)"
   ]
  },
  {
   "cell_type": "code",
   "execution_count": null,
   "metadata": {},
   "outputs": [],
   "source": [
    "sns.violinplot(x=df3.Geographic_Living_Area, y = df3.Claims_Rate, hue= df3.Has_Children)"
   ]
  },
  {
   "cell_type": "code",
   "execution_count": null,
   "metadata": {},
   "outputs": [],
   "source": [
    "df3.columns"
   ]
  },
  {
   "cell_type": "code",
   "execution_count": null,
   "metadata": {},
   "outputs": [],
   "source": []
  },
  {
   "cell_type": "markdown",
   "metadata": {},
   "source": [
    "## Boxplot for one variable "
   ]
  },
  {
   "cell_type": "code",
   "execution_count": null,
   "metadata": {},
   "outputs": [],
   "source": [
    "sns.boxplot(x=df3.Customer_Age, color='#EB89B')\n",
    "plt.xticks(rotation=0)\n",
    "plt.rcParams[\"xtick.labelsize\"] = 10"
   ]
  },
  {
   "cell_type": "code",
   "execution_count": null,
   "metadata": {},
   "outputs": [],
   "source": [
    "sns.boxplot(x=df3.Claims_Rate)\n",
    "plt.xticks(rotation=0)\n",
    "plt.rcParams[\"xtick.labelsize\"] = 20\n"
   ]
  },
  {
   "cell_type": "code",
   "execution_count": null,
   "metadata": {},
   "outputs": [],
   "source": [
    "list(df.columns)\n",
    "\n",
    "df = pd.DataFrame({'a' : [1, 2, 3], 'b' : [1.1, 2.1, 3.1], 'c' : [1.1, 2.1, 3.1]})\n",
    "\n",
    "\n",
    "columns = list(df.columns)[1:]\n",
    "\n",
    "for c in columns:\n",
    "    df[c] = df[c].apply(int)\n",
    "                           \n",
    "print(df)                           "
   ]
  },
  {
   "cell_type": "code",
   "execution_count": null,
   "metadata": {},
   "outputs": [],
   "source": [
    "import seaborn as sbn\n",
    "sbn.set_style(\"whitegrid\")\n",
    "ax = sbn.swarmplot(x= \"Customer Age\", y = \"Gross Monthly Salary\" , data= data1)"
   ]
  },
  {
   "cell_type": "code",
   "execution_count": null,
   "metadata": {},
   "outputs": [],
   "source": [
    "import seaborn as sbn\n",
    "sbn.set_style(\"darkgrid\")\n",
    "#tips = sbn.data(\"tips\")\n",
    "ax = sbn.barplot(x= \"Customer Age\", y = \"Gross Monthly Salary\" , data= data1)"
   ]
  },
  {
   "cell_type": "code",
   "execution_count": null,
   "metadata": {},
   "outputs": [],
   "source": [
    "import seaborn as sbn\n",
    "sbn.set_style(\"darkgrid\")\n",
    "#tips = sbn.data(\"tips\")\n",
    "ax = sbn.violinplot(x= \"Customer Age\", y = \"Gross Monthly Salary\" , data= data1)"
   ]
  },
  {
   "cell_type": "code",
   "execution_count": null,
   "metadata": {},
   "outputs": [],
   "source": [
    "import seaborn as sns\n",
    "sns.set_style(\"darkgrid\")\n",
    "ax = sns.violinplot(x= \"Geographic Living Area\", y = \"Gross Monthly Salary\" , data= data1)"
   ]
  },
  {
   "cell_type": "code",
   "execution_count": null,
   "metadata": {},
   "outputs": [],
   "source": [
    "import seaborn as sns\n",
    "sns.set_style(\"darkgrid\")\n",
    "ax = sns.violinplot(x= \"Has Children (Y=1)\", y = \"Gross Monthly Salary\" , data= data1)"
   ]
  },
  {
   "cell_type": "code",
   "execution_count": null,
   "metadata": {},
   "outputs": [],
   "source": [
    "import seaborn as sns\n",
    "sbn.set_style(\"darkgrid\")\n",
    "#tips = sbn.data(\"tips\")\n",
    "ax = sns.violinplot(x= \"Has Children (Y=1)\", y = \"Gross Monthly Salary\" , data= data1)"
   ]
  },
  {
   "cell_type": "code",
   "execution_count": null,
   "metadata": {},
   "outputs": [],
   "source": [
    "sns.set(style=\"whitegrid\", palette=\"muted\")\n",
    "\n",
    "\n",
    "\n",
    "\n",
    "# \"Melt\" the dataset to \"long-form\" or \"tidy\" representation\n",
    "#iris = pd.melt(data1, \"Customer Age\", var_name=\"Gross Monthly Salary\")\n",
    "\n",
    "# Draw a categorical scatterplot to show each observation\n",
    "sns.swarmplot(y=\"Gross Monthly Salary\", x=\"Customer Age\", hue=\"Geographic Living Area\", data= data1)\n",
    "#To visualize the x axis labels we use:\n",
    "plt.xticks(rotation=90)\n",
    "plt.rcParams[\"xtick.labelsize\"] = 10"
   ]
  },
  {
   "cell_type": "code",
   "execution_count": null,
   "metadata": {},
   "outputs": [],
   "source": [
    "sns.boxplot(data=data['Gross Monthly Salary'])"
   ]
  },
  {
   "cell_type": "code",
   "execution_count": null,
   "metadata": {},
   "outputs": [],
   "source": [
    "import seaborn as sbn\n",
    "sbn.set_style(\"whitegrid\")\n",
    "#tips = sbn.data(\"tips\")\n",
    "ax = sbn.swarmplot(x= \"Customer Age\", y = \"Gross Monthly Salary\" , data= data)"
   ]
  },
  {
   "cell_type": "code",
   "execution_count": null,
   "metadata": {},
   "outputs": [],
   "source": [
    "data.columns\n"
   ]
  },
  {
   "cell_type": "code",
   "execution_count": null,
   "metadata": {},
   "outputs": [],
   "source": [
    "import pandas as pd\n",
    "import numpy as np\n",
    "#from matplotlib.colors import Normalize, rgb2hex\n",
    "import matplotlib.pyplot as plt\n",
    "\n",
    "data = pd.read_excel('C:\\\\Users\\\\Closer\\\\Desktop\\\\Closer\\\\Imp_Doc\\\\A2Z_Insurance.xlsx', delimiter=',')\n",
    "data1 = data.head(n = 10)\n"
   ]
  },
  {
   "cell_type": "code",
   "execution_count": null,
   "metadata": {},
   "outputs": [],
   "source": [
    "data1.index\n"
   ]
  },
  {
   "cell_type": "code",
   "execution_count": null,
   "metadata": {},
   "outputs": [],
   "source": [
    "\n"
   ]
  },
  {
   "cell_type": "code",
   "execution_count": null,
   "metadata": {},
   "outputs": [],
   "source": [
    "plt.matshow(data1.corr())"
   ]
  },
  {
   "cell_type": "code",
   "execution_count": null,
   "metadata": {},
   "outputs": [],
   "source": [
    "data1.columns"
   ]
  },
  {
   "cell_type": "code",
   "execution_count": null,
   "metadata": {},
   "outputs": [],
   "source": [
    "sns.boxplot(y = data1['Customer Age'], x = data1['Has Children (Y=1)'])"
   ]
  },
  {
   "cell_type": "code",
   "execution_count": null,
   "metadata": {},
   "outputs": [],
   "source": [
    "import seaborn as sns\n",
    "corr = data1.corr()\n",
    "fig, ax = plt.subplots(figsize=(10,8))\n",
    "sns.heatmap(corr, \n",
    "            xticklabels=corr.columns.values,\n",
    "            yticklabels=corr.columns.values)"
   ]
  },
  {
   "cell_type": "code",
   "execution_count": null,
   "metadata": {},
   "outputs": [],
   "source": [
    "%matplotlib inline\n",
    "import matplotlib.pyplot as plt\n",
    "data1.hist(bins=50, figsize=(15,10), color='#AB89B5')\n",
    "plt.show()"
   ]
  },
  {
   "cell_type": "code",
   "execution_count": null,
   "metadata": {},
   "outputs": [],
   "source": []
  },
  {
   "cell_type": "code",
   "execution_count": null,
   "metadata": {},
   "outputs": [],
   "source": [
    "%matplotlib inline\n",
    "import matplotlib.pyplot as plt\n",
    "data.hist(bins=50, figsize=(15,10))\n",
    "plt.show()"
   ]
  },
  {
   "cell_type": "code",
   "execution_count": null,
   "metadata": {},
   "outputs": [],
   "source": [
    "from sklearn import svm \n",
    "clf = svm.SVM()\n",
    "clf.fit(X,y)"
   ]
  },
  {
   "cell_type": "markdown",
   "metadata": {},
   "source": [
    "## Claim_Rate based on Geographyc_Living_Area"
   ]
  },
  {
   "cell_type": "code",
   "execution_count": null,
   "metadata": {},
   "outputs": [],
   "source": [
    "df3.columns\n"
   ]
  },
  {
   "cell_type": "code",
   "execution_count": null,
   "metadata": {},
   "outputs": [],
   "source": [
    "sns.barplot(x= df3.Geographic_Living_Area, y = df3.Claims_Rate)"
   ]
  },
  {
   "cell_type": "code",
   "execution_count": null,
   "metadata": {},
   "outputs": [],
   "source": [
    "#The violin plot features a kernel density estimation of the underlying distribution.\n",
    "import seaborn as sns\n",
    "sns.set(style=\"whitegrid\", palette=\"pastel\", color_codes=True)\n",
    "# Draw a nested violinplot and split the violins for easier comparison\n",
    "sns.violinplot(x=df.Geographic_Living_Area, y=df.Gross_Monthly_Salary, hue=df.Has_Children, data=df, split=True,\n",
    "               inner=\"quart\")\n",
    "sns.despine(left=True)"
   ]
  },
  {
   "cell_type": "code",
   "execution_count": null,
   "metadata": {},
   "outputs": [],
   "source": [
    "sns.pairplot(df2, hue = 'Geographic_Living_Area',size = 4)\n"
   ]
  },
  {
   "cell_type": "code",
   "execution_count": null,
   "metadata": {},
   "outputs": [],
   "source": [
    "#The violin plot features a kernel density estimation of the underlying distribution.\n",
    "import seaborn as sns\n",
    "sns.set(style=\"whitegrid\", palette=\"pastel\", color_codes=True)\n",
    "# Draw a nested violinplot and split the violins for easier comparison\n",
    "sns.violinplot(x=df.Geographic_Living_Area, y=df.Claims_Rate, hue=df.Has_Children, data=df, split=True,\n",
    "               inner=\"quart\")\n",
    "sns.despine(left=True)"
   ]
  },
  {
   "cell_type": "code",
   "execution_count": null,
   "metadata": {},
   "outputs": [],
   "source": [
    "data2.columns"
   ]
  },
  {
   "cell_type": "code",
   "execution_count": null,
   "metadata": {},
   "outputs": [],
   "source": [
    "data2[(data2.Customer_Age >= 60) | (data2.Customer_Monetary_Value >= 50) ];\n",
    "\n",
    "# It gives common results "
   ]
  },
  {
   "cell_type": "markdown",
   "metadata": {},
   "source": [
    "#  Filter the Data"
   ]
  },
  {
   "cell_type": "code",
   "execution_count": null,
   "metadata": {},
   "outputs": [],
   "source": [
    "df.shape"
   ]
  },
  {
   "cell_type": "code",
   "execution_count": null,
   "metadata": {},
   "outputs": [],
   "source": [
    "#Check Unique value for each column\n",
    "def unique_counts(df2):\n",
    "    for i in df2.columns:\n",
    "        count = df2[i].nunique()\n",
    "        print(i, \": \", count)\n",
    "unique_counts(df2)"
   ]
  },
  {
   "cell_type": "markdown",
   "metadata": {},
   "source": [
    "First_Policy_Year,  Customer_Age, Geographic_Living_Area and Has_Children is preferable to use as the unique value classification- "
   ]
  },
  {
   "cell_type": "code",
   "execution_count": null,
   "metadata": {},
   "outputs": [],
   "source": [
    "sns.pairplot(df2, hue='First_Policy_Year', kind='scatter', diag_kind='hist', markers=None, size=2.5, aspect=1, dropna=True);"
   ]
  },
  {
   "cell_type": "code",
   "execution_count": null,
   "metadata": {},
   "outputs": [],
   "source": [
    "from sklearn.cluster import KMeans\n",
    "model = KMeans(n_clusters=4)\n",
    "model.fit(df2)"
   ]
  },
  {
   "cell_type": "code",
   "execution_count": null,
   "metadata": {},
   "outputs": [],
   "source": [
    "df.columns"
   ]
  },
  {
   "cell_type": "code",
   "execution_count": null,
   "metadata": {},
   "outputs": [],
   "source": [
    "#sns.boxplot(df2.Customer_Monetary_Value)\n",
    "Q1 = df2.quantile(0.25)\n",
    "Q3 = df2.quantile(0.75)\n",
    "IQR = Q3 - Q1\n",
    "((df2 < (Q1 - 1.5 * IQR)) | (df2 > (Q3 + 1.5 * IQR))).sum()\n",
    "\n",
    "#mask = (df2 < (Q1 - 1.5 * IQR)) | (df2 > (Q3 + 1.5 * IQR))\n",
    "#df2[mask] = np.nan"
   ]
  },
  {
   "cell_type": "code",
   "execution_count": null,
   "metadata": {},
   "outputs": [],
   "source": [
    "df2['Claims_Rate'];"
   ]
  },
  {
   "cell_type": "code",
   "execution_count": null,
   "metadata": {},
   "outputs": [],
   "source": [
    "sns.jointplot(y = df2['Claims_Rate'] , x = 'Customer_Age', data= df2)"
   ]
  },
  {
   "cell_type": "code",
   "execution_count": null,
   "metadata": {},
   "outputs": [],
   "source": [
    "df2.columns"
   ]
  },
  {
   "cell_type": "code",
   "execution_count": null,
   "metadata": {},
   "outputs": [],
   "source": [
    "df2.head()"
   ]
  },
  {
   "cell_type": "code",
   "execution_count": null,
   "metadata": {},
   "outputs": [],
   "source": []
  },
  {
   "cell_type": "code",
   "execution_count": null,
   "metadata": {},
   "outputs": [],
   "source": [
    "df3 = df2[(df2['Customer_Monetary_Value'] > -100).values & (df2['Customer_Monetary_Value'] < 2300).values]"
   ]
  },
  {
   "cell_type": "code",
   "execution_count": null,
   "metadata": {},
   "outputs": [],
   "source": []
  },
  {
   "cell_type": "code",
   "execution_count": null,
   "metadata": {},
   "outputs": [],
   "source": [
    "sns.jointplot(y = 'Customer_Monetary_Value', x = 'Customer_Age', data= df3)\n"
   ]
  },
  {
   "cell_type": "code",
   "execution_count": null,
   "metadata": {},
   "outputs": [],
   "source": [
    "from"
   ]
  },
  {
   "cell_type": "code",
   "execution_count": null,
   "metadata": {},
   "outputs": [],
   "source": [
    "class KMeans:\n",
    "    def __init__(self, k):\n",
    "        self.k = k # number of clusters\n",
    "        self.means = None # means of clusters\n",
    "    \n",
    "    def classify(self, input):\n",
    "        return min(range(self.k),\n",
    "                   key=lambda i: squared_distance(input, self.means[i]))\n",
    "    def train(self, inputs):\n",
    "        self.means = random.sample(inputs, self.k)\n",
    "        assignments = None\n",
    "        while True:\n",
    "            new_assignments = map(self.classify, inputs)\n",
    "\n",
    "            if assignments == new_assignments:return\n",
    "            assignments = new_assignments\n",
    "            for i in range(self.k):\n",
    "                i_points = [p for p, a in zip(inputs, assignments) if a == i]\n",
    "                if i_points:\n",
    "                    self.means[i] = vector_mean(i_points)"
   ]
  },
  {
   "cell_type": "code",
   "execution_count": null,
   "metadata": {},
   "outputs": [],
   "source": [
    "from scipy.spatial.distance import cdist\n",
    "clusters=range(1,10)\n",
    "meandist=[]\n",
    "for k in clusters:\n",
    "    model=KMeans(n_clusters)\n",
    "    model.fit(Data_Seg_1)\n",
    "    clusassign=model.predict(Data_Seg_1)\n",
    "    meandist.append(sum(np.min(cdist(df2, model.cluster_centers_),  axis=1)),\n",
    "                df2.shape[0])"
   ]
  },
  {
   "cell_type": "code",
   "execution_count": null,
   "metadata": {},
   "outputs": [],
   "source": [
    "plt.plot(clusters, meandist)\n",
    "plt.xlabel('Number of clusters')\n",
    "plt.ylabel('Average distance')\n",
    "plt.title('Selecting k with the Elbow Method')\n",
    "plt.show()"
   ]
  },
  {
   "cell_type": "code",
   "execution_count": null,
   "metadata": {},
   "outputs": [],
   "source": [
    "Data_Seg_1 = df2[['Customer_Age',\n",
    "       'First_Policy_Year', 'Geographic_Living_Area']]"
   ]
  },
  {
   "cell_type": "code",
   "execution_count": null,
   "metadata": {},
   "outputs": [],
   "source": [
    "#from sklearn.datasets.samples_generator import make_blobs\n",
    "X, y_true = make_blobs(n_samples=5000, centers=5,\n",
    "                       cluster_std=0.60, random_state=0)\n",
    "plt.scatter(X[:, 0], X[:,1],   data =Data_Seg_1);"
   ]
  },
  {
   "cell_type": "code",
   "execution_count": null,
   "metadata": {},
   "outputs": [],
   "source": [
    "random.df2(0) # so you get the same results as me\n",
    "clusterer = KMeans(3)\n",
    "clusterer.train(inputs)\n",
    "colors = 10*[\"g\",\"r\",\"c\",\"b\"]\n",
    "print (clusterer.means)"
   ]
  },
  {
   "cell_type": "code",
   "execution_count": null,
   "metadata": {},
   "outputs": [],
   "source": []
  },
  {
   "cell_type": "code",
   "execution_count": null,
   "metadata": {},
   "outputs": [],
   "source": [
    "\n",
    "kmeans = KMeans(init='k-means++', n_clusters=4, n_init=10)\n",
    "kmeans.fit(Data_Seg_1)\n",
    "\n"
   ]
  },
  {
   "cell_type": "code",
   "execution_count": null,
   "metadata": {},
   "outputs": [],
   "source": [
    "predictions = kmeans.predict(Data_Seg_1)"
   ]
  },
  {
   "cell_type": "code",
   "execution_count": null,
   "metadata": {},
   "outputs": [],
   "source": [
    "set(list(predictions))"
   ]
  },
  {
   "cell_type": "code",
   "execution_count": null,
   "metadata": {},
   "outputs": [],
   "source": [
    "len(predictions)"
   ]
  },
  {
   "cell_type": "code",
   "execution_count": null,
   "metadata": {},
   "outputs": [],
   "source": [
    "predictions[:10]"
   ]
  },
  {
   "cell_type": "code",
   "execution_count": null,
   "metadata": {},
   "outputs": [],
   "source": [
    "dir(kmeans)"
   ]
  },
  {
   "cell_type": "code",
   "execution_count": null,
   "metadata": {},
   "outputs": [],
   "source": [
    "import matplotlib.pyplot as plt\n",
    "from itertools import cycle\n",
    "\n",
    "plt.figure(1)\n",
    "plt.clf()\n",
    "\n",
    "cluster_centers = kmeans.cluster_centers_\n",
    "\n",
    "colors = cycle('bgrcmykbgrcmykbgrcmykbgrcmyk')\n",
    "for k, col in zip(range(4), colors):\n",
    "    my_members = predictions == k\n",
    "    cluster_center = cluster_centers[k]\n",
    "    plt.plot(X[my_members, 0], X[my_members, 1], col + '.')\n",
    "    plt.plot(cluster_center[0], cluster_center[1], 'o', markerfacecolor=col,\n",
    "             markeredgecolor='k', markersize=14)\n",
    "plt.title('Estimated number of clusters: %d' % n_clusters_)\n",
    "plt.show()"
   ]
  },
  {
   "cell_type": "code",
   "execution_count": null,
   "metadata": {},
   "outputs": [],
   "source": [
    "#from sklearn.datasets.samples_generator import make_blobs\n",
    "X, y_true = make_blobs(n_samples=5000, centers=5,\n",
    "                       cluster_std=0.60, random_state=0)\n",
    "plt.scatter(X[:, 0], X[:,1],   data =Data_Seg_1);"
   ]
  },
  {
   "cell_type": "code",
   "execution_count": null,
   "metadata": {},
   "outputs": [],
   "source": []
  },
  {
   "cell_type": "code",
   "execution_count": null,
   "metadata": {},
   "outputs": [],
   "source": []
  },
  {
   "cell_type": "code",
   "execution_count": null,
   "metadata": {},
   "outputs": [],
   "source": []
  }
 ],
 "metadata": {
  "kernelspec": {
   "display_name": "Python 3",
   "language": "python",
   "name": "python3"
  },
  "language_info": {
   "codemirror_mode": {
    "name": "ipython",
    "version": 3
   },
   "file_extension": ".py",
   "mimetype": "text/x-python",
   "name": "python",
   "nbconvert_exporter": "python",
   "pygments_lexer": "ipython3",
   "version": "3.6.4"
  }
 },
 "nbformat": 4,
 "nbformat_minor": 2
}
